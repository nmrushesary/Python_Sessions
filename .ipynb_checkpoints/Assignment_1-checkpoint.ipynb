{
 "cells": [
  {
   "cell_type": "code",
   "execution_count": null,
   "id": "4f4d32c2-614d-4e3c-9862-b2a85bf3af1e",
   "metadata": {},
   "outputs": [],
   "source": [
    "# 1)wap ask the user enter 3 numbers n1,n2,n3 from ketboard\n",
    "# calculate average\n",
    "\n",
    "# 2)wap ask the user enter name age city\n",
    "# print my name is python im 10 years old and came from hyd\n",
    "\n",
    "# 3)wap ask the user to enter radidus of a circle calculate area of the circle\n",
    "# var: radidus  var: pi=3.14\n",
    "# formuale: pi*radius*radius\n",
    "# print the answers using f string and format\n",
    "\n",
    "# 4)wap ask the user enter breadth and height of a right angle triangle\n",
    "# calculate the area\n",
    "# var1: bredath  var2: height\n",
    "# formuale : 0.5*breadth*heigh\n",
    "\n",
    "# 5)wap ask the user the bill amount and tip amount\n",
    "#   calculate total bill\n",
    "#   var1: bill amount var2: tip amount\n",
    "#   formuale\n",
    "\n",
    "# 6)wap ask the user the bill amount and tip percentage\n",
    "#    take tip percentage as 10\n",
    "#   calculate total bill= bill amount+ bill amount*tip per/100\n",
    "#   var1: bill amount var2: tip amount\n",
    "#    formuale\n",
    "\n",
    "# 7)wap ask the length and breadth of a rectangle calculate area\n",
    "#   var1: length  var2: breadth\n",
    "#   formulae: length * breadth\n",
    "\n",
    "# 8) wap ask the user take the radius and calculate volume of sphere\n",
    "#   formulae: pi*r**3(pi*r*r*r)\n",
    "\n",
    "# 9) wap ask the user enter amount in dollars convert into rupees\n",
    "#     1$=85rs\n",
    "\n",
    "# 10)wap ask the user enter weight in kgs convert into pounds\n",
    "#    1kg= 2.2pounds"
   ]
  },
  {
   "cell_type": "code",
   "execution_count": null,
   "id": "c53f4b4d-79e3-44e0-a28e-bd090f8e20f3",
   "metadata": {},
   "outputs": [],
   "source": [
    "# 1)wap ask the user enter 3 numbers n1,n2,n3 from ketboard\n",
    "# calculate average"
   ]
  },
  {
   "cell_type": "code",
   "execution_count": 2,
   "id": "0e626ff3-da7e-41f0-9f2a-80c538a1831a",
   "metadata": {},
   "outputs": [
    {
     "name": "stdin",
     "output_type": "stream",
     "text": [
      "Enter 1st number 10.5\n",
      "Enter 2nd number 10\n",
      "Enter 3rd number 20.33\n"
     ]
    },
    {
     "name": "stdout",
     "output_type": "stream",
     "text": [
      "The average of 10.5,10 & 20.33 is : 13.61\n"
     ]
    }
   ],
   "source": [
    "n1= eval(input(\"Enter 1st number\"))\n",
    "n2= eval(input(\"Enter 2nd number\"))\n",
    "n3= eval(input(\"Enter 3rd number\"))\n",
    "avg= (n1+n2+n3)/3\n",
    "print(f\"The average of {n1},{n2} & {n3} is : {avg}\")"
   ]
  },
  {
   "cell_type": "code",
   "execution_count": null,
   "id": "004fffeb-a7e5-4537-9a44-40b23c897901",
   "metadata": {},
   "outputs": [],
   "source": [
    "# 2)wap ask the user enter name age city\n",
    "# print my name is python im 10 years old and came from hyd"
   ]
  },
  {
   "cell_type": "code",
   "execution_count": 4,
   "id": "6a40bb70-6bef-438f-a7b0-3bc82713dc82",
   "metadata": {},
   "outputs": [
    {
     "name": "stdin",
     "output_type": "stream",
     "text": [
      "Enter Name Nikhil\n",
      "Enter Age 32\n",
      "Enter City Nagpur\n"
     ]
    },
    {
     "name": "stdout",
     "output_type": "stream",
     "text": [
      "My name is Nikhil I'm 32 years old and came from Nagpur\n"
     ]
    }
   ],
   "source": [
    "name= input(\"Enter Name\")\n",
    "age= input(\"Enter Age\")\n",
    "city= input(\"Enter City\")\n",
    "print(f\"My name is {name} I'm {age} years old and came from {city}.\")"
   ]
  },
  {
   "cell_type": "code",
   "execution_count": null,
   "id": "a0745e25-1298-404d-84d1-eea3e86a37b3",
   "metadata": {},
   "outputs": [],
   "source": [
    "# 3)wap ask the user to enter radidus of a circle calculate area of the circle\n",
    "# var: radidus  var: pi=3.14\n",
    "# formuale: pi*radius*radius\n",
    "# print the answers using f string and format"
   ]
  },
  {
   "cell_type": "code",
   "execution_count": 7,
   "id": "e39fdae1-9c6e-4b90-bdea-ee1ee642fa60",
   "metadata": {},
   "outputs": [
    {
     "name": "stdin",
     "output_type": "stream",
     "text": [
      "Enter radidus of a circle 20.5\n"
     ]
    },
    {
     "name": "stdout",
     "output_type": "stream",
     "text": [
      "The area of the circle is : 1319.585\n"
     ]
    }
   ],
   "source": [
    "radius= eval(input(\"Enter radidus of a circle\"))\n",
    "pi=3.14\n",
    "calculate_area = pi*radius*radius\n",
    "print(f\"The area of the circle is : {calculate_area}\")"
   ]
  },
  {
   "cell_type": "code",
   "execution_count": null,
   "id": "b1a86e32-2d52-404b-be41-d875c30ed3e2",
   "metadata": {},
   "outputs": [],
   "source": [
    "# 4)wap ask the user enter breadth and height of a right angle triangle\n",
    "# calculate the area\n",
    "# var1: bredath  var2: height\n",
    "# formuale : 0.5*breadth*heigh"
   ]
  },
  {
   "cell_type": "code",
   "execution_count": 9,
   "id": "68ddfd7a-4e0c-42ed-b45b-4b3186eea6e0",
   "metadata": {},
   "outputs": [
    {
     "name": "stdin",
     "output_type": "stream",
     "text": [
      "Enter breadth of a right angle triangle 15\n",
      "Enter height of a right angle triangle 10\n"
     ]
    },
    {
     "name": "stdout",
     "output_type": "stream",
     "text": [
      "The area of a right angle triangle is :75.0\n"
     ]
    }
   ],
   "source": [
    "breadth= eval(input(\"Enter breadth of a right angle triangle\"))\n",
    "height= eval(input(\"Enter height of a right angle triangle\"))\n",
    "area= 0.5*breadth*height\n",
    "print(f\"The area of a right angle triangle is :{area}\")"
   ]
  },
  {
   "cell_type": "code",
   "execution_count": 10,
   "id": "8eb687cf-efe5-4f8c-a4cc-9f4241cf2b11",
   "metadata": {},
   "outputs": [],
   "source": [
    "# 5)wap ask the user the bill amount and tip amount\n",
    "#   calculate total bill\n",
    "#   var1: bill amount var2: tip amount\n",
    "#   formuale"
   ]
  },
  {
   "cell_type": "code",
   "execution_count": 12,
   "id": "732a9d02-0167-46e7-a466-d21b38392ed6",
   "metadata": {},
   "outputs": [
    {
     "name": "stdin",
     "output_type": "stream",
     "text": [
      "Enter Bill amount 1200\n",
      "Enter Tip amount 200\n"
     ]
    },
    {
     "name": "stdout",
     "output_type": "stream",
     "text": [
      "The bill amount is :1200 & tip amount is 200 so total bill amount is : 1400.\n"
     ]
    }
   ],
   "source": [
    "bill_amount= eval(input(\"Enter Bill amount\"))\n",
    "tip_amount= eval(input(\"Enter Tip amount\"))\n",
    "total_bill=bill_amount+tip_amount\n",
    "print(f\"The bill amount is :{bill_amount} & tip amount is {tip_amount} so total bill amount is : {total_bill}.\")"
   ]
  },
  {
   "cell_type": "code",
   "execution_count": null,
   "id": "0110d246-abc4-4a84-9437-f3103bc4669d",
   "metadata": {},
   "outputs": [],
   "source": [
    "# 6)wap ask the user the bill amount and tip percentage\n",
    "#    take tip percentage as 10\n",
    "#   calculate total bill= bill amount+ bill amount*tip per/100\n",
    "#   var1: bill amount var2: tip amount\n",
    "#    formuale"
   ]
  },
  {
   "cell_type": "code",
   "execution_count": 15,
   "id": "88b629fe-f3f9-4e71-8372-d90df6502d8f",
   "metadata": {},
   "outputs": [
    {
     "name": "stdin",
     "output_type": "stream",
     "text": [
      "enter bill amount: 1220\n",
      "enter tip percentage: 10\n"
     ]
    },
    {
     "data": {
      "text/plain": [
       "1342.0"
      ]
     },
     "execution_count": 15,
     "metadata": {},
     "output_type": "execute_result"
    }
   ],
   "source": [
    "bill = eval(input(\"enter bill amount:\"))\n",
    "tip = eval(input(\"enter tip percentage:\"))\n",
    "total_bill= bill + bill * tip/100\n",
    "total_bill"
   ]
  },
  {
   "cell_type": "code",
   "execution_count": null,
   "id": "fa8ba566-42e4-43ea-9df2-301cf30c349a",
   "metadata": {},
   "outputs": [],
   "source": [
    "# 7)wap ask the length and breadth of a rectangle calculate area\n",
    "#   var1: length  var2: breadth\n",
    "#   formulae: length * breadth"
   ]
  },
  {
   "cell_type": "code",
   "execution_count": 13,
   "id": "d9cd2bb9-10f1-4907-9963-c9790025ab3c",
   "metadata": {},
   "outputs": [
    {
     "name": "stdin",
     "output_type": "stream",
     "text": [
      "Enter length of a rectangle 10\n",
      "Enter breadth of a rectangle 15.6\n"
     ]
    },
    {
     "name": "stdout",
     "output_type": "stream",
     "text": [
      "The area of a rectangle is :156.0\n"
     ]
    }
   ],
   "source": [
    "length= eval(input(\"Enter length of a rectangle\"))\n",
    "breadth= eval(input(\"Enter breadth of a rectangle\"))\n",
    "area= length*breadth\n",
    "print(f\"The area of a rectangle is :{area}\")"
   ]
  },
  {
   "cell_type": "code",
   "execution_count": null,
   "id": "b19840b0-5f9d-4440-8d2b-9b3f552d6e9e",
   "metadata": {},
   "outputs": [],
   "source": [
    "# 8) wap ask the user take the radius and calculate volume of sphere\n",
    "#   formulae: pi*r**3(pi*r*r*r)"
   ]
  },
  {
   "cell_type": "code",
   "execution_count": 14,
   "id": "7a55fec6-c9df-4a84-9f07-d82cc24ba9d1",
   "metadata": {},
   "outputs": [
    {
     "name": "stdin",
     "output_type": "stream",
     "text": [
      "Enter radidus of a circle 15.9\n"
     ]
    },
    {
     "name": "stdout",
     "output_type": "stream",
     "text": [
      "The volume of sphere is : 12621.792060000002\n"
     ]
    }
   ],
   "source": [
    "radius= eval(input(\"Enter radidus of a circle\"))\n",
    "pi=3.14\n",
    "vol_of_sphere = pi*radius**3\n",
    "print(f\"The volume of sphere is : {vol_of_sphere}\")"
   ]
  },
  {
   "cell_type": "code",
   "execution_count": null,
   "id": "c404c599-c4de-4146-a16e-44379482865d",
   "metadata": {},
   "outputs": [],
   "source": [
    "# 9) wap ask the user enter amount in dollars convert into rupees\n",
    "#     1$=85rs"
   ]
  },
  {
   "cell_type": "code",
   "execution_count": 16,
   "id": "5b991e2e-42d8-423f-ba0a-e0adbc6eb57f",
   "metadata": {},
   "outputs": [
    {
     "name": "stdin",
     "output_type": "stream",
     "text": [
      "Enter Amount in $ 10\n"
     ]
    },
    {
     "name": "stdout",
     "output_type": "stream",
     "text": [
      "The 10$ is in indian rupees is :850\n"
     ]
    }
   ],
   "source": [
    "amount= eval(input(\"Enter Amount in $\"))\n",
    "convert =  amount*85\n",
    "print(f\"The {amount}$ is in indian rupees is :{convert}\")"
   ]
  },
  {
   "cell_type": "code",
   "execution_count": null,
   "id": "b6be0036-35d8-4bf0-8ba5-3a7b8386e8f7",
   "metadata": {},
   "outputs": [],
   "source": [
    "# 10)wap ask the user enter weight in kgs convert into pounds\n",
    "#    1kg= 2.2pounds"
   ]
  },
  {
   "cell_type": "code",
   "execution_count": 18,
   "id": "75d6f431-4501-4d33-bc39-afb4e04511a8",
   "metadata": {},
   "outputs": [
    {
     "name": "stdin",
     "output_type": "stream",
     "text": [
      "Enter your weight in kgs 81\n"
     ]
    },
    {
     "name": "stdout",
     "output_type": "stream",
     "text": [
      "Your weight is 81 kg & in pounds it is :178.20000000000002.\n"
     ]
    }
   ],
   "source": [
    "weight= eval(input(\"Enter your weight in kgs\"))\n",
    "convert =  weight*2.2\n",
    "print(f\"Your weight is {weight} kg & in pounds it is :{convert}.\")"
   ]
  },
  {
   "cell_type": "code",
   "execution_count": null,
   "id": "0f6d1c1d-9067-477b-ac85-4a67c2fc703a",
   "metadata": {},
   "outputs": [],
   "source": [
    "Git Testing\n",
    "Hi Hello How are you\n",
    "Chat with Chat gpt"
   ]
  }
 ],
 "metadata": {
  "kernelspec": {
   "display_name": "Python 3 (ipykernel)",
   "language": "python",
   "name": "python3"
  },
  "language_info": {
   "codemirror_mode": {
    "name": "ipython",
    "version": 3
   },
   "file_extension": ".py",
   "mimetype": "text/x-python",
   "name": "python",
   "nbconvert_exporter": "python",
   "pygments_lexer": "ipython3",
   "version": "3.12.7"
  }
 },
 "nbformat": 4,
 "nbformat_minor": 5
}
