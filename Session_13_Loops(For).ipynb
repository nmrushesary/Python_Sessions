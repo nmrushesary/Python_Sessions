{
 "cells": [
  {
   "cell_type": "code",
   "execution_count": 1,
   "id": "ee873c36-b52c-4bc6-ae36-00c5af0bed6b",
   "metadata": {},
   "outputs": [
    {
     "name": "stdin",
     "output_type": "stream",
     "text": [
      "enter the salary: 100000\n",
      "tax percentage: 10\n"
     ]
    },
    {
     "name": "stdout",
     "output_type": "stream",
     "text": [
      "10000.0\n"
     ]
    }
   ],
   "source": [
    "salary=eval(input('enter the salary:'))\n",
    "tax_per=eval(input('tax percentage:'))\n",
    "tax_pay=salary*tax_per/100\n",
    "print(tax_pay)"
   ]
  },
  {
   "cell_type": "code",
   "execution_count": null,
   "id": "f2cb8141-92b0-463e-bf79-d5a9b3ce3f1d",
   "metadata": {},
   "outputs": [],
   "source": [
    "firm 500 *4=2000\n",
    "\n",
    "def TAX_PAY():\n",
    "    salary=eval(input('enter the salary:'))\n",
    "    tax_per=eval(input('tax percentage:'))\n",
    "    tax_pay=salary*tax_per/100\n",
    "    print(tax_pay)\n",
    " \n",
    "TAX_PAY ======= 500\n",
    "\n",
    "1time"
   ]
  },
  {
   "cell_type": "markdown",
   "id": "86d9990a-3fb2-40b0-a6a9-d380011c01eb",
   "metadata": {},
   "source": [
    "**Loops**\n",
    "\n",
    "- Loops are used to itearte the code multiple times\n",
    "\n",
    "- functions are used to reuse the code block\n",
    "\n",
    "- that code block can be repeated multiple times \n",
    "\n",
    "- whenever you are doing same task multiple times then think about loop\n",
    "\n",
    "- We have two loops\n",
    "\n",
    "    - for loop\n",
    "\n",
    "    - while loop\n",
    "\n",
    "- Any loop we need three things\n",
    "\n",
    "    - Intialization (start point)\n",
    "\n",
    "    - increment or decrement\n",
    "\n",
    "    - Condition to stop"
   ]
  },
  {
   "cell_type": "markdown",
   "id": "af852350-05fd-4c21-8abf-86f937212d1d",
   "metadata": {},
   "source": [
    "**For loop**"
   ]
  },
  {
   "cell_type": "code",
   "execution_count": null,
   "id": "badb78d8-ec90-4656-bae6-d8f596e275fd",
   "metadata": {},
   "outputs": [],
   "source": [
    "for <variable> in range(<number>):\n",
    "    <write your code here>"
   ]
  },
  {
   "cell_type": "code",
   "execution_count": 2,
   "id": "f867b11a-f1e2-49bc-9864-2a152b87d076",
   "metadata": {},
   "outputs": [
    {
     "name": "stdout",
     "output_type": "stream",
     "text": [
      "0\n",
      "1\n",
      "2\n",
      "3\n",
      "4\n"
     ]
    }
   ],
   "source": [
    "for i in range(5):\n",
    "    print(i)"
   ]
  },
  {
   "cell_type": "code",
   "execution_count": 5,
   "id": "7e4e0818-f91a-4929-9af2-3ac8fac23b50",
   "metadata": {},
   "outputs": [
    {
     "name": "stdout",
     "output_type": "stream",
     "text": [
      "0\n",
      "1\n",
      "2\n"
     ]
    }
   ],
   "source": [
    "# print(0)\n",
    "# print(1)\n",
    "# print(2)\n",
    "for trump in range(3):\n",
    "    print(trump)"
   ]
  },
  {
   "cell_type": "code",
   "execution_count": 9,
   "id": "f056c3d4-0dab-4ebd-8f4b-2a9a701898b9",
   "metadata": {},
   "outputs": [
    {
     "name": "stdout",
     "output_type": "stream",
     "text": [
      "0 1 2 "
     ]
    }
   ],
   "source": [
    "# print(0,end=' ')\n",
    "# print(1,end=' ')\n",
    "# print(2)\n",
    "for i in range(3):\n",
    "    print(i,end=' ')"
   ]
  },
  {
   "cell_type": "markdown",
   "id": "213c11a6-8c13-4117-958a-57781c6e2cd6",
   "metadata": {},
   "source": [
    "**case-1:range(stop)**\n",
    "\n",
    "- start=0 : python index always starts with zero\n",
    "\n",
    "- increment by 1\n",
    "\n",
    "- last=stop-1\n"
   ]
  },
  {
   "cell_type": "code",
   "execution_count": 10,
   "id": "9c118377-3ac9-4625-a77c-a85af8256d21",
   "metadata": {},
   "outputs": [
    {
     "name": "stdout",
     "output_type": "stream",
     "text": [
      "0 1 2 3 4 5 6 7 8 9 "
     ]
    }
   ],
   "source": [
    "for i in range(10):\n",
    "    print(i,end=' ')"
   ]
  },
  {
   "cell_type": "code",
   "execution_count": 11,
   "id": "8025cb52-c460-462d-ac89-504d725d054e",
   "metadata": {},
   "outputs": [
    {
     "name": "stdout",
     "output_type": "stream",
     "text": [
      "good night\n",
      "good night\n",
      "good night\n"
     ]
    }
   ],
   "source": [
    "print('good night')\n",
    "print('good night')\n",
    "print('good night')"
   ]
  },
  {
   "cell_type": "code",
   "execution_count": 12,
   "id": "1b671419-c17d-4264-8dbe-7d71d31b057e",
   "metadata": {},
   "outputs": [
    {
     "name": "stdout",
     "output_type": "stream",
     "text": [
      "good night\n",
      "good night\n",
      "good night\n"
     ]
    }
   ],
   "source": [
    "for i in range(3):\n",
    "    print('good night')"
   ]
  },
  {
   "cell_type": "markdown",
   "id": "0e0ba710-48f5-4f48-99c4-f4b9e30c95cf",
   "metadata": {},
   "source": [
    "**Case-2:range(start,stop)**\n",
    "\n",
    "- Suppose I want to start my loop with a particular number\n",
    "\n",
    "- then add start also inside range\n",
    "\n",
    "- start=start\n",
    "\n",
    "- increment by 1\n",
    "\n",
    "- last= stop-1\n",
    "\n",
    "range(10,20)\n",
    "\n",
    "- start=10,increment by1 , last=20-1=19"
   ]
  },
  {
   "cell_type": "code",
   "execution_count": 13,
   "id": "923debbe-cbb9-415a-88e2-3f12ada9529e",
   "metadata": {},
   "outputs": [
    {
     "name": "stdout",
     "output_type": "stream",
     "text": [
      "10 11 12 13 14 15 16 17 18 19 "
     ]
    }
   ],
   "source": [
    "for i in range(10,20):\n",
    "    print(i,end=' ')"
   ]
  },
  {
   "cell_type": "code",
   "execution_count": 14,
   "id": "382e901f-b740-4d16-b18f-d7fc7531a5dc",
   "metadata": {},
   "outputs": [
    {
     "name": "stdout",
     "output_type": "stream",
     "text": [
      "the square of 1 is:1\n",
      "the square of 2 is:4\n",
      "the square of 3 is:9\n",
      "the square of 4 is:16\n",
      "the square of 5 is:25\n"
     ]
    }
   ],
   "source": [
    "# wap ask the user print the square first 5 number\n",
    "# square of 1 is 1\n",
    "# square of 2 is 4\n",
    "# so on \n",
    "\n",
    "for i in range(1,6):\n",
    "    print(f\"the square of {i} is:{i*i}\")"
   ]
  },
  {
   "cell_type": "code",
   "execution_count": 15,
   "id": "67dd295b-45e0-4abe-9aca-cb0f16da286c",
   "metadata": {},
   "outputs": [
    {
     "name": "stdin",
     "output_type": "stream",
     "text": [
      "enter the number: 20\n"
     ]
    },
    {
     "name": "stdout",
     "output_type": "stream",
     "text": [
      "the square of 20 is:400\n"
     ]
    },
    {
     "name": "stdin",
     "output_type": "stream",
     "text": [
      "enter the number: 30\n"
     ]
    },
    {
     "name": "stdout",
     "output_type": "stream",
     "text": [
      "the square of 30 is:900\n"
     ]
    },
    {
     "name": "stdin",
     "output_type": "stream",
     "text": [
      "enter the number: 40\n"
     ]
    },
    {
     "name": "stdout",
     "output_type": "stream",
     "text": [
      "the square of 40 is:1600\n"
     ]
    },
    {
     "name": "stdin",
     "output_type": "stream",
     "text": [
      "enter the number: 50\n"
     ]
    },
    {
     "name": "stdout",
     "output_type": "stream",
     "text": [
      "the square of 50 is:2500\n"
     ]
    },
    {
     "name": "stdin",
     "output_type": "stream",
     "text": [
      "enter the number: 60\n"
     ]
    },
    {
     "name": "stdout",
     "output_type": "stream",
     "text": [
      "the square of 60 is:3600\n"
     ]
    }
   ],
   "source": [
    "# wap ask the user enter a number the prompt should happen 5 times\n",
    "# and print the square of the number\n",
    "for i in range(5):\n",
    "    num=eval(input('enter the number:'))\n",
    "    print(f\"the square of {num} is:{num*num}\")"
   ]
  },
  {
   "cell_type": "code",
   "execution_count": 16,
   "id": "824ac64c-fb93-4211-993c-6c6afa3c23e4",
   "metadata": {},
   "outputs": [
    {
     "name": "stdin",
     "output_type": "stream",
     "text": [
      "enter the number: 30\n"
     ]
    },
    {
     "name": "stdout",
     "output_type": "stream",
     "text": [
      "the square of 30 is:900\n"
     ]
    },
    {
     "name": "stdin",
     "output_type": "stream",
     "text": [
      "enter the number: 50\n"
     ]
    },
    {
     "name": "stdout",
     "output_type": "stream",
     "text": [
      "the square of 50 is:2500\n"
     ]
    }
   ],
   "source": [
    "def square():\n",
    "    num=eval(input('enter the number:'))\n",
    "    print(f\"the square of {num} is:{num*num}\")\n",
    "    \n",
    "for i in range(2):\n",
    "    square()"
   ]
  },
  {
   "cell_type": "code",
   "execution_count": 18,
   "id": "2c4c5cfa-af62-4ca0-aa3d-72c0af04ef6b",
   "metadata": {},
   "outputs": [
    {
     "name": "stdin",
     "output_type": "stream",
     "text": [
      "enter the number: 4\n"
     ]
    },
    {
     "name": "stdout",
     "output_type": "stream",
     "text": [
      "the square of 4 is:16\n"
     ]
    },
    {
     "name": "stdin",
     "output_type": "stream",
     "text": [
      "enter the number: 5\n"
     ]
    },
    {
     "name": "stdout",
     "output_type": "stream",
     "text": [
      "the square of 5 is:25\n"
     ]
    },
    {
     "name": "stdin",
     "output_type": "stream",
     "text": [
      "enter the number: 6\n"
     ]
    },
    {
     "name": "stdout",
     "output_type": "stream",
     "text": [
      "the square of 6 is:36\n"
     ]
    }
   ],
   "source": [
    "for i in range(133,136):\n",
    "    num=eval(input('enter the number:'))\n",
    "    print(f\"the square of {num} is:{num*num}\")"
   ]
  },
  {
   "cell_type": "markdown",
   "id": "847e931e-9ebc-49d0-bc4f-10f48b3dc51b",
   "metadata": {},
   "source": [
    "**Case-3: range(start,stop,step)**\n",
    "\n",
    "- start=start only\n",
    "\n",
    "- step:\n",
    "\n",
    "    - look about step sign is it postive or negative sign\n",
    "\n",
    "    - positive means increment\n",
    "\n",
    "        - last:stop-1\n",
    "\n",
    "   - negative means decrement\n",
    "\n",
    "        - last:stop+1"
   ]
  },
  {
   "cell_type": "code",
   "execution_count": 19,
   "id": "cc67435e-60f5-44b5-a00f-c1778b13a5a3",
   "metadata": {},
   "outputs": [
    {
     "name": "stdout",
     "output_type": "stream",
     "text": [
      "3 5 7 9 11 13 15 17 "
     ]
    }
   ],
   "source": [
    "# example1: range(3,19,2)\n",
    "# start=3\n",
    "# step=+2 postive direction\n",
    "# last = 19-1=18\n",
    "# 3,5,7,9,11,13,15,17\n",
    "for i in range(3,19,2):\n",
    "    print(i,end=' ')"
   ]
  },
  {
   "cell_type": "code",
   "execution_count": 1,
   "id": "4900cef9-812d-4f25-aa90-c5359a22282f",
   "metadata": {},
   "outputs": [],
   "source": [
    "# example2: range(3,19,-2)\n",
    "# start=3\n",
    "# step=-2 negative direction\n",
    "# last = 19+1=20\n",
    "for i in range(3,19,-2):\n",
    "    print(i)"
   ]
  },
  {
   "cell_type": "code",
   "execution_count": 2,
   "id": "6f8167e7-fca2-4783-98b4-725d29b036ff",
   "metadata": {},
   "outputs": [
    {
     "name": "stdout",
     "output_type": "stream",
     "text": [
      "3 1 -1 -3 -5 -7 -9 -11 -13 -15 -17 "
     ]
    }
   ],
   "source": [
    "for i in range(3,-19,-2):\n",
    "    print(i,end=' ')\n",
    "\n",
    "# start=3  dire =nega  last= stop+1= -19+1=-18"
   ]
  },
  {
   "cell_type": "code",
   "execution_count": 3,
   "id": "09e93d1b-1273-4e43-8a29-071aa15202e9",
   "metadata": {},
   "outputs": [],
   "source": [
    "for i in range(3,-19,2):\n",
    "    print(i,end=' ')"
   ]
  },
  {
   "cell_type": "code",
   "execution_count": null,
   "id": "1383c652-8228-4f0d-8445-ae91368dda00",
   "metadata": {},
   "outputs": [],
   "source": [
    "range(3,15,3) # P\n",
    "range(3,15,-3) # np\n",
    "range(3,-15,3) # np\n",
    "range(-3,15,3) # p\n",
    "range(3,-15,-3) # p\n",
    "range(-3,-15,3) # np\n",
    "range(-3,15,-3) # np \n",
    "range(15,3,3) # np\n",
    "range(15,3,-3) # p \n",
    "range(15,-3,3) # np\n",
    "range(-15,3,3) # p\n",
    "range(-15,3,-3) # np\n",
    "range(-15,-3,3) # p\n",
    "range(-15,-3,-3) # np"
   ]
  },
  {
   "cell_type": "code",
   "execution_count": 4,
   "id": "1a2ff06d-3d2e-4261-ad17-b01255a9b9eb",
   "metadata": {},
   "outputs": [
    {
     "name": "stdout",
     "output_type": "stream",
     "text": [
      "20\n",
      "10\n",
      "0\n",
      "-10\n"
     ]
    }
   ],
   "source": [
    "for i in range(20,-20,-10):\n",
    "    print(i)\n",
    "\n",
    "# start=20\n",
    "# dire = -ve step=-10\n",
    "# last= -20+1=-19\n",
    "# 20 10 0 -10"
   ]
  },
  {
   "cell_type": "code",
   "execution_count": 6,
   "id": "c03bd1d6-05b9-4648-853b-df80d0626037",
   "metadata": {},
   "outputs": [
    {
     "name": "stdin",
     "output_type": "stream",
     "text": [
      "enter the table number: 14\n"
     ]
    },
    {
     "name": "stdout",
     "output_type": "stream",
     "text": [
      "14X1=14\n",
      "14X2=28\n",
      "14X3=42\n",
      "14X4=56\n",
      "14X5=70\n",
      "14X6=84\n",
      "14X7=98\n",
      "14X8=112\n",
      "14X9=126\n",
      "14X10=140\n"
     ]
    }
   ],
   "source": [
    "# Q4) Print the 7th table \n",
    "# 7x1=7\n",
    "# 7x2=14\n",
    "# 7x3=21\n",
    "# 7xi=num*i\n",
    "num=eval(input('enter the table number:'))\n",
    "for i in range(1,11):\n",
    "    print(f\"{num}X{i}={num*i}\")"
   ]
  },
  {
   "cell_type": "code",
   "execution_count": 8,
   "id": "7d67cb55-576f-488d-988f-22868a17fa54",
   "metadata": {},
   "outputs": [
    {
     "name": "stdin",
     "output_type": "stream",
     "text": [
      "which number divisiors you want: 75\n"
     ]
    },
    {
     "name": "stdout",
     "output_type": "stream",
     "text": [
      "1 is a divisor of 75\n",
      "3 is a divisor of 75\n",
      "5 is a divisor of 75\n",
      "15 is a divisor of 75\n",
      "25 is a divisor of 75\n",
      "75 is a divisor of 75\n"
     ]
    }
   ],
   "source": [
    "#Q5) Find the number of divisors of 75\n",
    "# if you divide 75 with any number the reminder should be zero\n",
    "# 75%1==0  True  then print 1\n",
    "# 75%2==0  False\n",
    "# 75%3==0  True  then print 3\n",
    "# 75%4==0  F\n",
    "# 75%5==0  T\n",
    "#\n",
    "# 75%15==0  T\n",
    "#\n",
    "# 75%15==0 T\n",
    "# 75%75==0\n",
    "\n",
    "# if 75%i==0\n",
    "\n",
    "\n",
    "num=eval(input('which number divisiors you want:'))\n",
    "for i in range(1,num+1):\n",
    "    if num%i==0:\n",
    "        print(f\"{i} is a divisor of {num}\")"
   ]
  },
  {
   "cell_type": "code",
   "execution_count": 9,
   "id": "7a9a2d96-afb7-4958-8f11-dedea6c44c8a",
   "metadata": {},
   "outputs": [
    {
     "data": {
      "text/plain": [
       "55.0"
      ]
     },
     "execution_count": 9,
     "metadata": {},
     "output_type": "execute_result"
    }
   ],
   "source": [
    "# Q6) sum of first 10 natural numbers\n",
    "# natural : starts from 1\n",
    "# 1+2+3+4+5+6+7+8+9+10=55\n",
    "# n(n+1)/2\n",
    "n=10\n",
    "n*(n+1)/2"
   ]
  },
  {
   "cell_type": "markdown",
   "id": "d31cd232-7c92-4481-94b3-fc4519339247",
   "metadata": {},
   "source": [
    "**summation wrapper**\n",
    "\n",
    "- starting we intialise the sum value: summ=0 \n",
    "\n",
    "- inside loop we will add a simple line : summ=summ+i\n",
    "\n",
    "- summ=0\n",
    "  \n",
    "- for loop\n",
    "  \n",
    "  - summ=summ+i"
   ]
  },
  {
   "cell_type": "code",
   "execution_count": null,
   "id": "2b614320-d414-4f56-af85-5bcb4dde67f8",
   "metadata": {},
   "outputs": [],
   "source": [
    "0+1=1\n",
    "1+2=3\n",
    "3+3=6\n",
    "6+4=10\n",
    "10+5=15\n",
    "15+6=21\n",
    "21+7=28\n",
    "28+8=36\n",
    "36+9=45\n",
    "45+10=55\n",
    "op=0\n",
    "op+i=op ==== >  op=op+i\n"
   ]
  },
  {
   "cell_type": "code",
   "execution_count": 12,
   "id": "d3d32543-2be1-4b9e-a7a3-0ca1899d452e",
   "metadata": {},
   "outputs": [
    {
     "name": "stdout",
     "output_type": "stream",
     "text": [
      "55\n"
     ]
    }
   ],
   "source": [
    "summ=0\n",
    "########################\n",
    "for i in range(1,11):\n",
    "    summ=summ+i\n",
    "###############################\n",
    "print(summ)"
   ]
  },
  {
   "cell_type": "code",
   "execution_count": 13,
   "id": "25bbf497-e0b4-4bef-90d4-c91c4e25a39e",
   "metadata": {},
   "outputs": [
    {
     "name": "stdout",
     "output_type": "stream",
     "text": [
      "0\n",
      "1\n",
      "2\n",
      "3\n"
     ]
    }
   ],
   "source": [
    "for val in range(4):\n",
    "    print(val)"
   ]
  },
  {
   "cell_type": "code",
   "execution_count": 14,
   "id": "631d99bd-e10c-4332-a1cc-096a298ddc03",
   "metadata": {},
   "outputs": [
    {
     "data": {
      "text/plain": [
       "3"
      ]
     },
     "execution_count": 14,
     "metadata": {},
     "output_type": "execute_result"
    }
   ],
   "source": [
    "val"
   ]
  },
  {
   "cell_type": "code",
   "execution_count": 15,
   "id": "f56d0805-7039-4b0a-9eae-bf58ddbc3514",
   "metadata": {},
   "outputs": [
    {
     "name": "stdin",
     "output_type": "stream",
     "text": [
      "enter the num: 75\n"
     ]
    },
    {
     "name": "stdout",
     "output_type": "stream",
     "text": [
      "1\n",
      "3\n",
      "5\n",
      "15\n",
      "25\n",
      "75\n"
     ]
    },
    {
     "data": {
      "text/plain": [
       "124"
      ]
     },
     "execution_count": 15,
     "metadata": {},
     "output_type": "execute_result"
    }
   ],
   "source": [
    "# Q7) Find the sum of divisors of 75\n",
    "# 75 : 1,3,5,15,25,75 \n",
    "#      1+3+5+15+25+75\n",
    "\n",
    "summ=0\n",
    "\n",
    "num=eval(input('enter the num:'))\n",
    "for i in range(1,num+1):\n",
    "    if num%i==0:\n",
    "        print(i)\n",
    "        summ=summ+i\n",
    "summ"
   ]
  },
  {
   "cell_type": "markdown",
   "id": "3832e7aa-59df-497e-951a-96a54b7f4fba",
   "metadata": {},
   "source": [
    "**counter wrapper**\n",
    "\n",
    "- Counter means counting the success ones\n",
    "\n",
    "- count=0\n",
    "\n",
    "- for loop\n",
    "\n",
    "    - count=count+1\n",
    "\n"
   ]
  },
  {
   "cell_type": "code",
   "execution_count": 16,
   "id": "3695aacc-e910-4710-b865-7b5d61227cf1",
   "metadata": {},
   "outputs": [
    {
     "name": "stdin",
     "output_type": "stream",
     "text": [
      "enter the num: 75\n"
     ]
    },
    {
     "name": "stdout",
     "output_type": "stream",
     "text": [
      "1\n",
      "3\n",
      "5\n",
      "15\n",
      "25\n",
      "75\n",
      "the number of divisors are: 6\n"
     ]
    }
   ],
   "source": [
    "# Q7) Find the number of divisors of 75\n",
    "count=0\n",
    "num=eval(input('enter the num:'))\n",
    "for i in range(1,num+1):#\n",
    "    if num%i==0:\n",
    "        print(i)\n",
    "        count=count+1\n",
    "print('the number of divisors are:',count)"
   ]
  },
  {
   "cell_type": "code",
   "execution_count": 17,
   "id": "21af624f-fba4-470d-9ee2-ae836173f053",
   "metadata": {},
   "outputs": [],
   "source": [
    "# Q8)\n",
    "# ask the get 5 random numbers \n",
    "# means you need a get a random number inside for loop\n",
    "# the loop should run 5 times\n",
    "# now perform the even and odd opeation\n",
    "# 1) even count # 2) sum of even numbers  3) odd count 4) sum of add numbers"
   ]
  },
  {
   "cell_type": "code",
   "execution_count": null,
   "id": "a3fbdfa3-8d50-4abe-976e-20aedad5eeec",
   "metadata": {},
   "outputs": [],
   "source": [
    " # even_Count=0 \n",
    "# odd_count=0\n",
    "# even_sum=0\n",
    "# odd_sum=0\n",
    "# for loop\n",
    "#   randm\n",
    "#  if even\n",
    "#    summ\n",
    "#    counter\n",
    "# else\n",
    "#    summ\n",
    "#    count"
   ]
  },
  {
   "cell_type": "code",
   "execution_count": 20,
   "id": "2a7a4ef2-fd00-4e18-aa81-f1230766a210",
   "metadata": {},
   "outputs": [
    {
     "name": "stdout",
     "output_type": "stream",
     "text": [
      "37 is an odd\n",
      "50 is an even\n",
      "18 is an even\n",
      "44 is an even\n",
      "95 is an odd\n",
      "number of evens are: 3\n",
      "number of odds are: 2\n",
      "sum of evens are: 112\n",
      "sum of odds are: 132\n"
     ]
    }
   ],
   "source": [
    "import random\n",
    "even_count,odd_count=0,0\n",
    "even_sum,odd_sum=0,0\n",
    "for i in range(5):\n",
    "    num=random.randint(1,100)\n",
    "    if num%2==0:\n",
    "        print(f\"{num} is an even\")\n",
    "        even_count=even_count+1\n",
    "        even_sum=even_sum+num\n",
    "    else:\n",
    "        print(f\"{num} is an odd\")\n",
    "        odd_count=odd_count+1\n",
    "        odd_sum=odd_sum+num\n",
    "print('number of evens are:',even_count)\n",
    "print('number of odds are:',odd_count)\n",
    "print('sum of evens are:',even_sum)\n",
    "print('sum of odds are:',odd_sum)"
   ]
  },
  {
   "cell_type": "code",
   "execution_count": 21,
   "id": "c65288e4-8e1b-4144-b39d-bb3654164be9",
   "metadata": {},
   "outputs": [],
   "source": [
    "# Q9) Game program\n",
    "# user enter one num\n",
    "# another number will generate randomly\n",
    "# if both numbers are equal then you won\n",
    "# otherwise you lost\n",
    "# i want to give 3 chances\n",
    "\n",
    "# for loop\n",
    "#   num1=random\n",
    "#   num2= user keybaord\n",
    "#   if num1==num2\n",
    "#     print won\n",
    "#  else\n",
    "#    print fail"
   ]
  },
  {
   "cell_type": "code",
   "execution_count": 22,
   "id": "d0853b40-76c5-4068-aa81-8ca2fba2a008",
   "metadata": {},
   "outputs": [
    {
     "name": "stdin",
     "output_type": "stream",
     "text": [
      "enter a num: 6\n"
     ]
    },
    {
     "name": "stdout",
     "output_type": "stream",
     "text": [
      "you won\n"
     ]
    },
    {
     "name": "stdin",
     "output_type": "stream",
     "text": [
      "enter a num: 8\n"
     ]
    },
    {
     "name": "stdout",
     "output_type": "stream",
     "text": [
      "better luck next time\n"
     ]
    },
    {
     "name": "stdin",
     "output_type": "stream",
     "text": [
      "enter a num: 9\n"
     ]
    },
    {
     "name": "stdout",
     "output_type": "stream",
     "text": [
      "better luck next time\n"
     ]
    }
   ],
   "source": [
    "for i in range(3):\n",
    "    n1=random.randint(1,10)\n",
    "    n2=eval(input('enter a num:'))\n",
    "    if n1==n2:\n",
    "        print('you won')\n",
    "    else:\n",
    "        print('better luck next time')"
   ]
  },
  {
   "cell_type": "code",
   "execution_count": 25,
   "id": "2d68f6b4-18cf-46e0-8664-d9de8e243c65",
   "metadata": {},
   "outputs": [
    {
     "name": "stdout",
     "output_type": "stream",
     "text": [
      "2\n"
     ]
    },
    {
     "name": "stdin",
     "output_type": "stream",
     "text": [
      "enter a num: 3\n"
     ]
    },
    {
     "name": "stdout",
     "output_type": "stream",
     "text": [
      "better luck next time\n",
      "3\n"
     ]
    },
    {
     "name": "stdin",
     "output_type": "stream",
     "text": [
      "enter a num: 3\n"
     ]
    },
    {
     "name": "stdout",
     "output_type": "stream",
     "text": [
      "you won\n"
     ]
    }
   ],
   "source": [
    "for i in range(3):\n",
    "    n1=random.randint(1,10)\n",
    "    print(n1)\n",
    "    n2=eval(input('enter a num:'))\n",
    "    if n1==n2:\n",
    "        print('you won')\n",
    "        break\n",
    "    else:\n",
    "        print('better luck next time')"
   ]
  },
  {
   "cell_type": "code",
   "execution_count": null,
   "id": "c3606160-c744-4696-97fa-296597543d62",
   "metadata": {},
   "outputs": [],
   "source": [
    "# case-1: we apply the break === Completed\n",
    "# case-2: whenever the user enter the wronh answer\n",
    "#         better luck next time\n",
    "#         how many chances you are left\n",
    "# case-3: if you lost all the chances\n",
    "#         print try after 24hours time\n",
    "#         dont give time.sleep 24hours katam your zindagi\n",
    "# whatsapp group online and offline"
   ]
  },
  {
   "cell_type": "markdown",
   "id": "dd408cbc-c108-4b31-b6bb-0dff004e3ed6",
   "metadata": {},
   "source": [
    "**in**"
   ]
  },
  {
   "cell_type": "markdown",
   "id": "304d38f9-3f73-435a-ba4c-6b00e63e491b",
   "metadata": {},
   "source": [
    "- in for loop we have range and in operators\n",
    "\n",
    "- range is math related word, whenever we use range it expects a number inside range\n",
    "\n",
    "- in operator expects a string "
   ]
  },
  {
   "cell_type": "code",
   "execution_count": 1,
   "id": "a1c1d455-7bc1-4e5e-abba-3eecb3fcc4dc",
   "metadata": {},
   "outputs": [
    {
     "name": "stdout",
     "output_type": "stream",
     "text": [
      "0 1 2 3 4 5 6 7 8 9 "
     ]
    }
   ],
   "source": [
    "for i in range(10):\n",
    "    print(i,end=' ')"
   ]
  },
  {
   "cell_type": "code",
   "execution_count": 2,
   "id": "4ff2f042-122f-4c7b-a527-ddcbb302e941",
   "metadata": {},
   "outputs": [
    {
     "ename": "TypeError",
     "evalue": "'str' object cannot be interpreted as an integer",
     "output_type": "error",
     "traceback": [
      "\u001b[1;31m---------------------------------------------------------------------------\u001b[0m",
      "\u001b[1;31mTypeError\u001b[0m                                 Traceback (most recent call last)",
      "Cell \u001b[1;32mIn[2], line 1\u001b[0m\n\u001b[1;32m----> 1\u001b[0m \u001b[38;5;28;01mfor\u001b[39;00m i \u001b[38;5;129;01min\u001b[39;00m \u001b[38;5;28mrange\u001b[39m(\u001b[38;5;124m'\u001b[39m\u001b[38;5;124mpython\u001b[39m\u001b[38;5;124m'\u001b[39m):\n\u001b[0;32m      2\u001b[0m     \u001b[38;5;28mprint\u001b[39m(i,end\u001b[38;5;241m=\u001b[39m\u001b[38;5;124m'\u001b[39m\u001b[38;5;124m \u001b[39m\u001b[38;5;124m'\u001b[39m)\n",
      "\u001b[1;31mTypeError\u001b[0m: 'str' object cannot be interpreted as an integer"
     ]
    }
   ],
   "source": [
    "for i in range('python'):\n",
    "    print(i,end=' ')"
   ]
  },
  {
   "cell_type": "code",
   "execution_count": 3,
   "id": "5bf0108b-3eed-4cfc-9a43-356acbb9a931",
   "metadata": {},
   "outputs": [
    {
     "name": "stdout",
     "output_type": "stream",
     "text": [
      "p y t h o n "
     ]
    }
   ],
   "source": [
    "for i in 'python':\n",
    "    print(i,end=' ')"
   ]
  },
  {
   "cell_type": "code",
   "execution_count": 5,
   "id": "a94ba624-f3d9-4d99-abb6-1dc173b0e6f6",
   "metadata": {},
   "outputs": [
    {
     "data": {
      "text/plain": [
       "False"
      ]
     },
     "execution_count": 5,
     "metadata": {},
     "output_type": "execute_result"
    }
   ],
   "source": [
    "'p' in 'python'\n",
    "\n",
    "'y' in 'python'\n",
    "\n",
    "'t' in 'python'\n",
    "\n",
    "'h' in 'python'\n",
    "\n",
    "'o' in 'python'\n",
    "\n",
    "'n' in 'python'\n",
    "\n",
    "i in 'python'"
   ]
  },
  {
   "cell_type": "code",
   "execution_count": null,
   "id": "0f0c58a8-9f2a-4f04-a2c1-1c1cb8c5f96a",
   "metadata": {},
   "outputs": [],
   "source": [
    "'A'=='a'  # F  sense\n",
    "'A'>'a'   # T  make double sense\n",
    "'A'<'a'   # F"
   ]
  },
  {
   "cell_type": "markdown",
   "id": "731a06d8-5b78-437f-beff-0922939615ce",
   "metadata": {},
   "source": [
    "**ASCII**\n",
    "\n",
    "- AMERICAN STANDARD CODE FOR INFORMATION INTERCHANGE"
   ]
  },
  {
   "cell_type": "code",
   "execution_count": 6,
   "id": "c7a5cc36-57ca-43ee-a19a-f40013a33bef",
   "metadata": {},
   "outputs": [
    {
     "data": {
      "text/plain": [
       "False"
      ]
     },
     "execution_count": 6,
     "metadata": {},
     "output_type": "execute_result"
    }
   ],
   "source": [
    "#'A' ==== 65\n",
    "#'a' ==== 97\n",
    "\n",
    "'A'>'a'   # 65>97 "
   ]
  },
  {
   "cell_type": "markdown",
   "id": "d75342d7-b8b5-45ae-ae11-fc1ccf4068c4",
   "metadata": {},
   "source": [
    "- How to convert char to number\n",
    "\n",
    "- How to convert number to char"
   ]
  },
  {
   "cell_type": "markdown",
   "id": "88179160-1dfe-478e-a8cd-4cb998d03264",
   "metadata": {},
   "source": [
    "**char-ord**"
   ]
  },
  {
   "cell_type": "code",
   "execution_count": 7,
   "id": "caf661cc-8321-4d88-abbb-d6aaa896ef8f",
   "metadata": {},
   "outputs": [
    {
     "data": {
      "text/plain": [
       "65"
      ]
     },
     "execution_count": 7,
     "metadata": {},
     "output_type": "execute_result"
    }
   ],
   "source": [
    "ord('A')"
   ]
  },
  {
   "cell_type": "code",
   "execution_count": 8,
   "id": "59f24ad4-8601-4595-82fd-67a287d82386",
   "metadata": {},
   "outputs": [
    {
     "data": {
      "text/plain": [
       "'A'"
      ]
     },
     "execution_count": 8,
     "metadata": {},
     "output_type": "execute_result"
    }
   ],
   "source": [
    "chr(65)"
   ]
  },
  {
   "cell_type": "markdown",
   "id": "8677aa9a-f9bc-49ab-a5d2-0dcaf0a0f85e",
   "metadata": {},
   "source": [
    "- so **ord** converting char to number\n",
    "\n",
    "- **chr** converting number to char"
   ]
  },
  {
   "cell_type": "code",
   "execution_count": 10,
   "id": "f95f71df-77bd-46e9-a795-cedf13ef0962",
   "metadata": {},
   "outputs": [
    {
     "data": {
      "text/plain": [
       "66"
      ]
     },
     "execution_count": 10,
     "metadata": {},
     "output_type": "execute_result"
    }
   ],
   "source": [
    "# wap ask the user get the ASCII number A to Z\n",
    "# print: A:65\n",
    "#        B:66\n",
    "ord('A')\n",
    "ord('B')\n",
    "\n",
    "ord(i)\n",
    "\n",
    "# i will pass the letter you tell me number\n",
    "# you are doing i will pass the number and give letter to you"
   ]
  },
  {
   "cell_type": "code",
   "execution_count": 12,
   "id": "8d40ff0c-699f-45b3-ae84-0d6130b65d2f",
   "metadata": {},
   "outputs": [
    {
     "name": "stdout",
     "output_type": "stream",
     "text": [
      "66:B\n",
      "67:C\n",
      "68:D\n",
      "69:E\n",
      "70:F\n",
      "71:G\n",
      "72:H\n",
      "73:I\n",
      "74:J\n",
      "75:K\n",
      "76:L\n",
      "77:M\n",
      "78:N\n",
      "79:O\n",
      "80:P\n",
      "81:Q\n",
      "82:R\n",
      "83:S\n",
      "84:T\n",
      "85:U\n",
      "86:V\n",
      "87:W\n",
      "88:X\n",
      "89:Y\n",
      "90:Z\n",
      "91:[\n",
      "92:\\\n",
      "93:]\n",
      "94:^\n",
      "95:_\n",
      "96:`\n"
     ]
    }
   ],
   "source": [
    "for i in range(65,97):\n",
    "    print(f'{i}:{chr(i)}')"
   ]
  },
  {
   "cell_type": "code",
   "execution_count": 13,
   "id": "58c4dfc5-22e9-4923-aafa-23b1d4ef91db",
   "metadata": {},
   "outputs": [
    {
     "name": "stdout",
     "output_type": "stream",
     "text": [
      "A:65\n",
      "B:66\n",
      "C:67\n",
      "D:68\n",
      "E:69\n",
      "F:70\n",
      "G:71\n",
      "H:72\n",
      "I:73\n",
      "J:74\n",
      "K:75\n",
      "L:76\n",
      "M:77\n",
      "N:78\n",
      "O:79\n",
      "P:80\n",
      "Q:81\n",
      "R:82\n",
      "S:83\n",
      "T:84\n",
      "U:85\n",
      "V:86\n",
      "W:87\n",
      "X:88\n",
      "Y:89\n",
      "Z:90\n"
     ]
    }
   ],
   "source": [
    "for i in 'ABCDEFGHIJKLMNOPQRSTUVWXYZ':\n",
    "    print(f'{i}:{ord(i)}')"
   ]
  },
  {
   "cell_type": "markdown",
   "id": "b6304b2d-2ef9-44c4-827a-bdf07840cedb",
   "metadata": {},
   "source": [
    "**package: string**"
   ]
  },
  {
   "cell_type": "code",
   "execution_count": null,
   "id": "166b1503-ab54-44b9-bf04-28642df17074",
   "metadata": {},
   "outputs": [],
   "source": [
    "import <packagename>\n",
    "dir(<packagename>)\n",
    "in that A TO Z will be given by one method tell me that"
   ]
  },
  {
   "cell_type": "code",
   "execution_count": 14,
   "id": "055344ce-9dd8-4f43-996f-2a7399aa8e59",
   "metadata": {},
   "outputs": [
    {
     "data": {
      "text/plain": [
       "['Formatter',\n",
       " 'Template',\n",
       " '_ChainMap',\n",
       " '__all__',\n",
       " '__builtins__',\n",
       " '__cached__',\n",
       " '__doc__',\n",
       " '__file__',\n",
       " '__loader__',\n",
       " '__name__',\n",
       " '__package__',\n",
       " '__spec__',\n",
       " '_re',\n",
       " '_sentinel_dict',\n",
       " '_string',\n",
       " 'ascii_letters',\n",
       " 'ascii_lowercase',\n",
       " 'ascii_uppercase',\n",
       " 'capwords',\n",
       " 'digits',\n",
       " 'hexdigits',\n",
       " 'octdigits',\n",
       " 'printable',\n",
       " 'punctuation',\n",
       " 'whitespace']"
      ]
     },
     "execution_count": 14,
     "metadata": {},
     "output_type": "execute_result"
    }
   ],
   "source": [
    "import string\n",
    "dir(string)"
   ]
  },
  {
   "cell_type": "code",
   "execution_count": 15,
   "id": "b0be9cbc-4c43-4a23-bb80-24382e4658da",
   "metadata": {},
   "outputs": [
    {
     "data": {
      "text/plain": [
       "'abcdefghijklmnopqrstuvwxyzABCDEFGHIJKLMNOPQRSTUVWXYZ'"
      ]
     },
     "execution_count": 15,
     "metadata": {},
     "output_type": "execute_result"
    }
   ],
   "source": [
    "string.ascii_letters"
   ]
  },
  {
   "cell_type": "code",
   "execution_count": 16,
   "id": "1bd2204f-81cb-4ae9-9168-905c44500e59",
   "metadata": {},
   "outputs": [
    {
     "data": {
      "text/plain": [
       "'abcdefghijklmnopqrstuvwxyz'"
      ]
     },
     "execution_count": 16,
     "metadata": {},
     "output_type": "execute_result"
    }
   ],
   "source": [
    "string.ascii_lowercase"
   ]
  },
  {
   "cell_type": "code",
   "execution_count": 17,
   "id": "1e0abba8-0723-4001-a0b6-6e732d46100f",
   "metadata": {},
   "outputs": [
    {
     "data": {
      "text/plain": [
       "'ABCDEFGHIJKLMNOPQRSTUVWXYZ'"
      ]
     },
     "execution_count": 17,
     "metadata": {},
     "output_type": "execute_result"
    }
   ],
   "source": [
    "string.ascii_uppercase"
   ]
  },
  {
   "cell_type": "code",
   "execution_count": 18,
   "id": "f65f8c27-7242-4d01-ab83-dfe8c1217eab",
   "metadata": {},
   "outputs": [
    {
     "data": {
      "text/plain": [
       "'!\"#$%&\\'()*+,-./:;<=>?@[\\\\]^_`{|}~'"
      ]
     },
     "execution_count": 18,
     "metadata": {},
     "output_type": "execute_result"
    }
   ],
   "source": [
    "string.punctuation"
   ]
  },
  {
   "cell_type": "code",
   "execution_count": 19,
   "id": "57dc3213-1f70-4dc1-9169-7eadfebd9ecb",
   "metadata": {},
   "outputs": [
    {
     "data": {
      "text/plain": [
       "'0123456789'"
      ]
     },
     "execution_count": 19,
     "metadata": {},
     "output_type": "execute_result"
    }
   ],
   "source": [
    "string.digits"
   ]
  },
  {
   "cell_type": "code",
   "execution_count": 21,
   "id": "9849baee-1546-4f92-bd2e-93431c52dccc",
   "metadata": {},
   "outputs": [
    {
     "name": "stdout",
     "output_type": "stream",
     "text": [
      "A:65 B:66 C:67 D:68 E:69 F:70 G:71 H:72 I:73 J:74 K:75 L:76 M:77 N:78 O:79 P:80 Q:81 R:82 S:83 T:84 U:85 V:86 W:87 X:88 Y:89 Z:90 "
     ]
    }
   ],
   "source": [
    "for i in string.ascii_uppercase:\n",
    "    print(f'{i}:{ord(i)}',end=' ')"
   ]
  },
  {
   "cell_type": "code",
   "execution_count": 22,
   "id": "da5a187e-e7c5-40cf-8be2-e78d36764640",
   "metadata": {},
   "outputs": [
    {
     "name": "stdout",
     "output_type": "stream",
     "text": [
      "a:97 b:98 c:99 d:100 e:101 f:102 g:103 h:104 i:105 j:106 k:107 l:108 m:109 n:110 o:111 p:112 q:113 r:114 s:115 t:116 u:117 v:118 w:119 x:120 y:121 z:122 "
     ]
    }
   ],
   "source": [
    "for i in string.ascii_lowercase:\n",
    "    print(f'{i}:{ord(i)}',end=' ')"
   ]
  },
  {
   "cell_type": "code",
   "execution_count": 23,
   "id": "a83b0322-b188-48f0-92fa-a635b7941657",
   "metadata": {},
   "outputs": [
    {
     "name": "stdout",
     "output_type": "stream",
     "text": [
      "!:33 \":34 #:35 $:36 %:37 &:38 ':39 (:40 ):41 *:42 +:43 ,:44 -:45 .:46 /:47 ::58 ;:59 <:60 =:61 >:62 ?:63 @:64 [:91 \\:92 ]:93 ^:94 _:95 `:96 {:123 |:124 }:125 ~:126 "
     ]
    }
   ],
   "source": [
    "for i in string.punctuation:\n",
    "    print(f'{i}:{ord(i)}',end=' ')"
   ]
  },
  {
   "cell_type": "code",
   "execution_count": 24,
   "id": "77c01f5b-7ec7-4ba4-8981-d9972fa7ca82",
   "metadata": {},
   "outputs": [
    {
     "data": {
      "text/plain": [
       "range(33, 127)"
      ]
     },
     "execution_count": 24,
     "metadata": {},
     "output_type": "execute_result"
    }
   ],
   "source": [
    "range(33,127)"
   ]
  },
  {
   "cell_type": "code",
   "execution_count": 25,
   "id": "bdff937d-0d5a-484f-99b0-693235e38792",
   "metadata": {},
   "outputs": [
    {
     "name": "stdout",
     "output_type": "stream",
     "text": [
      "33:! 34:\" 35:# 36:$ 37:% 38:& 39:' 40:( 41:) 42:* 43:+ 44:, 45:- 46:. 47:/ 48:0 49:1 50:2 51:3 52:4 53:5 54:6 55:7 56:8 57:9 58:: 59:; 60:< 61:= 62:> 63:? 64:@ 65:A 66:B 67:C 68:D 69:E 70:F 71:G 72:H 73:I 74:J 75:K 76:L 77:M 78:N 79:O 80:P 81:Q 82:R 83:S 84:T 85:U 86:V 87:W 88:X 89:Y 90:Z 91:[ 92:\\ 93:] 94:^ 95:_ 96:` 97:a 98:b 99:c 100:d 101:e 102:f 103:g 104:h 105:i 106:j 107:k 108:l 109:m 110:n 111:o 112:p 113:q 114:r 115:s 116:t 117:u 118:v 119:w 120:x 121:y 122:z 123:{ 124:| 125:} 126:~ "
     ]
    }
   ],
   "source": [
    "for i in range(33,127):\n",
    "    print(f'{i}:{chr(i)}',end=' ')"
   ]
  },
  {
   "cell_type": "code",
   "execution_count": 26,
   "id": "5afd0dc6-47e8-435b-8262-cdc9706a13cf",
   "metadata": {},
   "outputs": [
    {
     "name": "stdout",
     "output_type": "stream",
     "text": [
      "1:\u0001 2:\u0002 3:\u0003 4:\u0004 5:\u0005 6:\u0006 7:\u0007 8 9:\t 10:\n",
      " 14:\u000e 15:\u000f 16:\u0010 17:\u0011 18:\u0012 19:\u0013 20:\u0014 21:\u0015 22:\u0016 23:\u0017 24:\u0018 25:\u0019 26:\u001a 27:\u001b 28:\u001c",
      " 29:\u001d",
      " 30:\u001e",
      " 31:\u001f 32:  33:! "
     ]
    }
   ],
   "source": [
    "for i in range(1,34):\n",
    "    print(f'{i}:{chr(i)}',end=' ')"
   ]
  },
  {
   "cell_type": "code",
   "execution_count": 27,
   "id": "f60db1fa-3832-48cb-8b7e-77deed5cb8ce",
   "metadata": {},
   "outputs": [
    {
     "name": "stdout",
     "output_type": "stream",
     "text": [
      "127: 128: 129: 130: 131: 132: 133:",
      " 134: 135: 136: 137: 138: 139: 140: 141: 142: 143: 144: 145: 146: 147: 148: 149: 150: 151: 152: 153: 154: 155: 156: 157: 158: 159: 160:  161:¡ 162:¢ 163:£ 164:¤ 165:¥ 166:¦ 167:§ 168:¨ 169:© 170:ª 171:« 172:¬ 173:­ 174:® 175:¯ 176:° 177:± 178:² 179:³ 180:´ 181:µ 182:¶ 183:· 184:¸ 185:¹ 186:º 187:» 188:¼ 189:½ 190:¾ 191:¿ 192:À 193:Á 194:Â 195:Ã 196:Ä 197:Å 198:Æ 199:Ç 200:È 201:É 202:Ê 203:Ë 204:Ì 205:Í 206:Î 207:Ï 208:Ð 209:Ñ 210:Ò 211:Ó 212:Ô 213:Õ 214:Ö 215:× 216:Ø 217:Ù 218:Ú 219:Û 220:Ü 221:Ý 222:Þ 223:ß 224:à 225:á 226:â 227:ã 228:ä 229:å 230:æ 231:ç 232:è 233:é 234:ê 235:ë 236:ì 237:í 238:î 239:ï 240:ð 241:ñ 242:ò 243:ó 244:ô 245:õ 246:ö 247:÷ 248:ø 249:ù "
     ]
    }
   ],
   "source": [
    "for i in range(127,250):\n",
    "    print(f'{i}:{chr(i)}',end=' ')"
   ]
  },
  {
   "cell_type": "code",
   "execution_count": 28,
   "id": "5793b98b-2fff-4d08-a29a-3eca632566e1",
   "metadata": {},
   "outputs": [
    {
     "name": "stdout",
     "output_type": "stream",
     "text": [
      "1632:٠ 1633:١ 1634:٢ 1635:٣ 1636:٤ 1637:٥ 1638:٦ 1639:٧ 1640:٨ 1641:٩ 1642:٪ 1643:٫ 1644:٬ 1645:٭ 1646:ٮ 1647:ٯ 1648:ٰ 1649:ٱ 1650:ٲ 1651:ٳ 1652:ٴ 1653:ٵ 1654:ٶ 1655:ٷ 1656:ٸ 1657:ٹ 1658:ٺ 1659:ٻ 1660:ټ 1661:ٽ 1662:پ 1663:ٿ 1664:ڀ 1665:ځ 1666:ڂ 1667:ڃ 1668:ڄ 1669:څ 1670:چ 1671:ڇ 1672:ڈ 1673:ډ 1674:ڊ 1675:ڋ 1676:ڌ 1677:ڍ 1678:ڎ 1679:ڏ 1680:ڐ 1681:ڑ 1682:ڒ 1683:ړ 1684:ڔ 1685:ڕ 1686:ږ 1687:ڗ 1688:ژ 1689:ڙ 1690:ښ 1691:ڛ 1692:ڜ 1693:ڝ 1694:ڞ 1695:ڟ 1696:ڠ 1697:ڡ 1698:ڢ 1699:ڣ "
     ]
    }
   ],
   "source": [
    "for i in range(1632,1700):\n",
    "    print(f'{i}:{chr(i)}',end=' ')"
   ]
  },
  {
   "cell_type": "code",
   "execution_count": 29,
   "id": "5446f81d-a7b0-4e34-8c77-c9c759ea6ed2",
   "metadata": {},
   "outputs": [
    {
     "name": "stdout",
     "output_type": "stream",
     "text": [
      "2308:ऄ 2309:अ 2310:आ 2311:इ 2312:ई 2313:उ 2314:ऊ 2315:ऋ 2316:ऌ 2317:ऍ 2318:ऎ 2319:ए 2320:ऐ 2321:ऑ 2322:ऒ 2323:ओ 2324:औ 2325:क 2326:ख 2327:ग 2328:घ 2329:ङ 2330:च 2331:छ 2332:ज 2333:झ 2334:ञ 2335:ट 2336:ठ 2337:ड 2338:ढ 2339:ण 2340:त 2341:थ 2342:द 2343:ध 2344:न 2345:ऩ 2346:प 2347:फ 2348:ब 2349:भ 2350:म 2351:य 2352:र 2353:ऱ 2354:ल 2355:ळ 2356:ऴ 2357:व 2358:श 2359:ष 2360:स 2361:ह 2362:ऺ 2363:ऻ 2364:़ 2365:ऽ 2366:ा 2367:ि 2368:ी 2369:ु 2370:ू 2371:ृ 2372:ॄ 2373:ॅ 2374:ॆ 2375:े 2376:ै 2377:ॉ 2378:ॊ 2379:ो 2380:ौ 2381:् 2382:ॎ 2383:ॏ 2384:ॐ 2385:॑ 2386:॒ 2387:॓ 2388:॔ 2389:ॕ 2390:ॖ 2391:ॗ 2392:क़ 2393:ख़ 2394:ग़ 2395:ज़ 2396:ड़ 2397:ढ़ 2398:फ़ 2399:य़ "
     ]
    }
   ],
   "source": [
    "for i in range(2308,2400):\n",
    "    print(f'{i}:{chr(i)}',end=' ')"
   ]
  },
  {
   "cell_type": "code",
   "execution_count": 30,
   "id": "7b3c6114-2851-4c4a-8634-5b67d38d8f0e",
   "metadata": {},
   "outputs": [
    {
     "name": "stdout",
     "output_type": "stream",
     "text": [
      "2693:અ 2694:આ 2695:ઇ 2696:ઈ 2697:ઉ 2698:ઊ 2699:ઋ 2700:ઌ 2701:ઍ 2702:઎ 2703:એ 2704:ઐ 2705:ઑ 2706:઒ 2707:ઓ 2708:ઔ 2709:ક 2710:ખ 2711:ગ 2712:ઘ 2713:ઙ 2714:ચ 2715:છ 2716:જ 2717:ઝ 2718:ઞ 2719:ટ 2720:ઠ 2721:ડ 2722:ઢ 2723:ણ 2724:ત 2725:થ 2726:દ 2727:ધ 2728:ન 2729:઩ 2730:પ 2731:ફ 2732:બ 2733:ભ 2734:મ 2735:ય 2736:ર 2737:઱ 2738:લ 2739:ળ 2740:઴ 2741:વ 2742:શ 2743:ષ 2744:સ 2745:હ 2746:઺ 2747:઻ 2748:઼ 2749:ઽ "
     ]
    }
   ],
   "source": [
    "for i in range(2693,2750):\n",
    "    print(f'{i}:{chr(i)}',end=' ')"
   ]
  },
  {
   "cell_type": "code",
   "execution_count": 31,
   "id": "bcbbe983-5b9d-400b-bc99-103fb4413e99",
   "metadata": {},
   "outputs": [
    {
     "name": "stdout",
     "output_type": "stream",
     "text": [
      "3077:అ 3078:ఆ 3079:ఇ 3080:ఈ 3081:ఉ 3082:ఊ 3083:ఋ 3084:ఌ 3085:఍ 3086:ఎ 3087:ఏ 3088:ఐ 3089:఑ 3090:ఒ 3091:ఓ 3092:ఔ 3093:క 3094:ఖ 3095:గ 3096:ఘ 3097:ఙ 3098:చ 3099:ఛ 3100:జ 3101:ఝ 3102:ఞ 3103:ట 3104:ఠ 3105:డ 3106:ఢ 3107:ణ 3108:త 3109:థ 3110:ద 3111:ధ 3112:న 3113:఩ 3114:ప 3115:ఫ 3116:బ 3117:భ 3118:మ 3119:య 3120:ర 3121:ఱ 3122:ల 3123:ళ 3124:ఴ 3125:వ 3126:శ 3127:ష 3128:స 3129:హ 3130:఺ 3131:఻ 3132:఼ 3133:ఽ 3134:ా 3135:ి 3136:ీ 3137:ు 3138:ూ 3139:ృ 3140:ౄ 3141:౅ 3142:ె 3143:ే 3144:ై 3145:౉ 3146:ొ 3147:ో 3148:ౌ 3149:్ "
     ]
    }
   ],
   "source": [
    "for i in range(3077,3150):\n",
    "    print(f'{i}:{chr(i)}',end=' ')"
   ]
  },
  {
   "cell_type": "code",
   "execution_count": null,
   "id": "79e70529-efa0-4209-a06c-35a8c1faaa56",
   "metadata": {},
   "outputs": [],
   "source": []
  }
 ],
 "metadata": {
  "kernelspec": {
   "display_name": "Python 3 (ipykernel)",
   "language": "python",
   "name": "python3"
  },
  "language_info": {
   "codemirror_mode": {
    "name": "ipython",
    "version": 3
   },
   "file_extension": ".py",
   "mimetype": "text/x-python",
   "name": "python",
   "nbconvert_exporter": "python",
   "pygments_lexer": "ipython3",
   "version": "3.12.7"
  }
 },
 "nbformat": 4,
 "nbformat_minor": 5
}
