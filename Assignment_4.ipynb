{
 "cells": [
  {
   "cell_type": "code",
   "execution_count": null,
   "id": "0c3ce407-ed6d-461f-aaa7-10ff32ec96a7",
   "metadata": {},
   "outputs": [],
   "source": [
    "\n",
    "# wap ask the user take two numbers\n",
    "# num1 and num2\n",
    "# if both numbers are matched then print we are won\n",
    "# otherwise print we lost\n",
    "\n",
    "# step-1: n1=eval(input('en'))\n",
    "# step-2: n2=eval(input('en'))\n",
    "# step-3: if <condition>:\n",
    "# step-4:      print('we won')\n",
    "# step-5: else:\n",
    "# step-6:     print('we lost')"
   ]
  },
  {
   "cell_type": "code",
   "execution_count": 5,
   "id": "73ab58db-4e8e-4089-859a-63c83e67484b",
   "metadata": {},
   "outputs": [
    {
     "name": "stdin",
     "output_type": "stream",
     "text": [
      "Enter number 1 :  15\n",
      "Enter number 2 :  20\n"
     ]
    },
    {
     "name": "stdout",
     "output_type": "stream",
     "text": [
      "we lost\n"
     ]
    }
   ],
   "source": [
    "try:\n",
    "    num1 = eval(input(\"Enter number 1 : \"))\n",
    "    num2 = eval(input(\"Enter number 2 : \"))\n",
    "    \n",
    "    if num1==num2:\n",
    "        print(\"we are won\")\n",
    "    else:\n",
    "        print('we lost')\n",
    "    \n",
    "except Exception as e:\n",
    "    print(e)\n"
   ]
  },
  {
   "cell_type": "code",
   "execution_count": null,
   "id": "08e4d93f-bebe-4904-83ad-391a0213f44a",
   "metadata": {},
   "outputs": [],
   "source": [
    "# wap ask the user take one number\n",
    "# another number comes as random integer between 1 to 10\n",
    "# num1 and num2\n",
    "# if both numbers are matched then print we are won\n",
    "# otherwise print we lost\n",
    "\n",
    "# step-1: n1=<random number>\n",
    "# step-2: n2=eval(input('en'))\n",
    "# step-3: if <condition>:\n",
    "# step-4:      print('we won')\n",
    "# step-5: else:\n",
    "# step-6:     print('we lost')"
   ]
  },
  {
   "cell_type": "code",
   "execution_count": 1,
   "id": "02384616-24e1-4197-ac3d-6bf0fe5d4f6e",
   "metadata": {},
   "outputs": [
    {
     "name": "stdin",
     "output_type": "stream",
     "text": [
      "Enter number:  6\n"
     ]
    },
    {
     "name": "stdout",
     "output_type": "stream",
     "text": [
      "we lost\n"
     ]
    }
   ],
   "source": [
    "import random\n",
    "try:\n",
    "    n1 = eval(input(\"Enter number: \"))\n",
    "    n2 = random.randint(1,10)\n",
    "    \n",
    "    if n1==n2:\n",
    "        print(\"we are won\")\n",
    "    else:\n",
    "        print('we lost')\n",
    "    \n",
    "except Exception as e:\n",
    "    print(e)"
   ]
  },
  {
   "cell_type": "code",
   "execution_count": null,
   "id": "60670819-8bfd-4c4e-960b-67ccdcc5d3db",
   "metadata": {},
   "outputs": [],
   "source": [
    "#wap ask the user enter a number\n",
    "# print if the number is even or odd\n",
    "\n",
    "# idea == reminder should be zero\n",
    "# step-1: num=eval(input())\n",
    "# step-2: if <con>:\n",
    "# step-3:   print (the given number is even)\n",
    "# step-4: else:\n",
    "# step-5:   print(the given number is odd)"
   ]
  },
  {
   "cell_type": "code",
   "execution_count": 12,
   "id": "e741ff27-83e2-46d6-b799-f91ef783ed21",
   "metadata": {},
   "outputs": [
    {
     "name": "stdin",
     "output_type": "stream",
     "text": [
      "Enter number 1 :  20\n"
     ]
    },
    {
     "name": "stdout",
     "output_type": "stream",
     "text": [
      "The given number 20 is even\n"
     ]
    }
   ],
   "source": [
    "try:\n",
    "    n1 = eval(input(\"Enter number 1 : \"))\n",
    "    if n1%2 == 0:\n",
    "        print(f\"The given number {n1} is even\")\n",
    "    else:\n",
    "        print(f\"The given number {n1} is odd\")\n",
    "    \n",
    "except Exception as e:\n",
    "    print(e)"
   ]
  },
  {
   "cell_type": "code",
   "execution_count": null,
   "id": "ae6ff4c4-952d-4f34-9795-e639ecf3b3cc",
   "metadata": {},
   "outputs": [],
   "source": [
    "# wap ask the user enter distance\n",
    "# if distance greater than 25\n",
    "#      ask the charge\n",
    "#      calculate the charge other than25km distance\n",
    "# else\n",
    "#    print free ride\n",
    "\n",
    "# step-1: distance= eval(input(''))\n",
    "# step-2: if <>:\n",
    "# step-3:    charge=eval(input(''))\n",
    "# step-4:    total charge= (d-25)*\n",
    "# step-5: else:\n",
    "# step-6:    print free ride"
   ]
  },
  {
   "cell_type": "code",
   "execution_count": 16,
   "id": "b0e08348-d920-4b37-83c1-feb9d522ade4",
   "metadata": {},
   "outputs": [
    {
     "name": "stdin",
     "output_type": "stream",
     "text": [
      "Enter distance :  nik\n"
     ]
    },
    {
     "name": "stdout",
     "output_type": "stream",
     "text": [
      "name 'nik' is not defined\n"
     ]
    }
   ],
   "source": [
    "try:\n",
    "    distance = eval(input(\"Enter distance : \"))\n",
    "    if distance > 25:\n",
    "        charge = eval(input(\"Charges per km : \"))\n",
    "        total_charge = distance*charge\n",
    "        print(f\"The total charge is:{total_charge} INR\")\n",
    "    else:\n",
    "        print(\"Free Ride.\")\n",
    "    \n",
    "except Exception as e:\n",
    "    print(e)"
   ]
  },
  {
   "cell_type": "code",
   "execution_count": null,
   "id": "aa67543a-997c-4111-bce6-787ef80fe82c",
   "metadata": {},
   "outputs": [],
   "source": [
    "# wap ask the user take two numbers\n",
    "# print which is greater number\n",
    "\n",
    "# step-1: n1= eval(input())\n",
    "# step-2: n2= eval(input())\n",
    "# step-3: if <cond>:\n",
    "# step-4:    print()\n",
    "# step-5: else:\n",
    "# step-6:    print()"
   ]
  },
  {
   "cell_type": "code",
   "execution_count": 3,
   "id": "1764ecd2-0852-4016-a932-cde4ea162433",
   "metadata": {},
   "outputs": [
    {
     "name": "stdin",
     "output_type": "stream",
     "text": [
      "Enter number 1 :  20\n",
      "Enter number 2 :  40\n"
     ]
    },
    {
     "name": "stdout",
     "output_type": "stream",
     "text": [
      "40 is greater than 20\n"
     ]
    }
   ],
   "source": [
    "try:\n",
    "    num1 = eval(input(\"Enter number 1 : \"))\n",
    "    num2 = eval(input(\"Enter number 2 : \"))\n",
    "    \n",
    "    if num1>num2:\n",
    "        print(f\"{num1} is greater than {num2}\")\n",
    "    else:\n",
    "        print(f\"{num2} is greater than {num1}\")\n",
    "    \n",
    "except Exception as e:\n",
    "    print(e)"
   ]
  },
  {
   "cell_type": "code",
   "execution_count": null,
   "id": "c574baf1-e796-449b-bc24-e9c03730b156",
   "metadata": {},
   "outputs": [],
   "source": [
    "# wap ask the user\n",
    "# enter the course name\n",
    "# enter the institute name\n",
    "# if course name equal to data science\n",
    "# and institute name equal to naresh it\n",
    "# then print we are good\n",
    "# else print not good\n",
    "\n",
    "# step-1: course_name=input()\n",
    "# step-2: inst_name=input()\n",
    "# step-3: if <c1> and <c2>:\n",
    "# step-4:    print\n",
    "# step-5: else:\n",
    "# step-6:    print"
   ]
  },
  {
   "cell_type": "code",
   "execution_count": 4,
   "id": "994a3571-4ef8-4ac7-908b-cc0e44dfbf8f",
   "metadata": {},
   "outputs": [
    {
     "name": "stdin",
     "output_type": "stream",
     "text": [
      "Enter the Course Name:  nik\n",
      "Enter the Institute Name:  sdh\n"
     ]
    },
    {
     "name": "stdout",
     "output_type": "stream",
     "text": [
      "Khatam Zindagi\n"
     ]
    }
   ],
   "source": [
    "try:\n",
    "    course_name=input(\"Enter the Course Name: \")\n",
    "    inst_name=input(\"Enter the Institute Name: \")\n",
    "    if course_name=='Data Science' or inst_name=='Naresh IT':\n",
    "      print(\"You are in Safe Hands!\")\n",
    "    else:\n",
    "      print(\"Khatam Zindagi\")\n",
    "except Exception as e:\n",
    "    print(e)"
   ]
  },
  {
   "cell_type": "code",
   "execution_count": null,
   "id": "68bf815b-6a39-4f41-8907-0f76702b5c51",
   "metadata": {},
   "outputs": [],
   "source": []
  },
  {
   "cell_type": "code",
   "execution_count": null,
   "id": "c1e91be5-ecf8-4fd8-a130-c0ceef601870",
   "metadata": {},
   "outputs": [],
   "source": []
  },
  {
   "cell_type": "code",
   "execution_count": null,
   "id": "3a936a61-4755-4eb9-ad90-790051fd33cf",
   "metadata": {},
   "outputs": [],
   "source": []
  },
  {
   "cell_type": "code",
   "execution_count": null,
   "id": "13052388-34fd-4a7c-9aed-2818cfa6057e",
   "metadata": {},
   "outputs": [],
   "source": []
  },
  {
   "cell_type": "code",
   "execution_count": null,
   "id": "934d3525-6840-4629-8b14-8bb2e2aa62dd",
   "metadata": {},
   "outputs": [],
   "source": []
  },
  {
   "cell_type": "code",
   "execution_count": null,
   "id": "33bbb0d4-f70f-4195-af66-bcbff7890d23",
   "metadata": {},
   "outputs": [],
   "source": []
  },
  {
   "cell_type": "code",
   "execution_count": null,
   "id": "77e05754-fada-45bf-b672-740d2fb1625d",
   "metadata": {},
   "outputs": [],
   "source": []
  },
  {
   "cell_type": "code",
   "execution_count": null,
   "id": "b8172bc1-02e2-4f18-96e3-48a133b622fb",
   "metadata": {},
   "outputs": [],
   "source": []
  },
  {
   "cell_type": "code",
   "execution_count": null,
   "id": "fcae4a95-cc1f-4f33-981c-5658fd507806",
   "metadata": {},
   "outputs": [],
   "source": []
  },
  {
   "cell_type": "code",
   "execution_count": null,
   "id": "3cfb3928-ed7d-4f1e-a231-bd0512f58f40",
   "metadata": {},
   "outputs": [],
   "source": []
  },
  {
   "cell_type": "code",
   "execution_count": null,
   "id": "428c5e88-7db2-4b6a-9af4-e2029dc40bc8",
   "metadata": {},
   "outputs": [],
   "source": []
  },
  {
   "cell_type": "code",
   "execution_count": null,
   "id": "9136a3af-0205-4d71-beeb-3bdf89e7f802",
   "metadata": {},
   "outputs": [],
   "source": []
  },
  {
   "cell_type": "code",
   "execution_count": null,
   "id": "98e29885-4b15-4a3f-9251-fbe21f545842",
   "metadata": {},
   "outputs": [],
   "source": []
  },
  {
   "cell_type": "code",
   "execution_count": null,
   "id": "2d177aa2-cd3f-4967-8c99-7a8989d4c21d",
   "metadata": {},
   "outputs": [],
   "source": []
  }
 ],
 "metadata": {
  "kernelspec": {
   "display_name": "Python 3 (ipykernel)",
   "language": "python",
   "name": "python3"
  },
  "language_info": {
   "codemirror_mode": {
    "name": "ipython",
    "version": 3
   },
   "file_extension": ".py",
   "mimetype": "text/x-python",
   "name": "python",
   "nbconvert_exporter": "python",
   "pygments_lexer": "ipython3",
   "version": "3.12.7"
  }
 },
 "nbformat": 4,
 "nbformat_minor": 5
}
