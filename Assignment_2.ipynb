{
 "cells": [
  {
   "cell_type": "code",
   "execution_count": null,
   "id": "a9de0e64-2e3f-4873-9197-e82405c3e4bc",
   "metadata": {},
   "outputs": [],
   "source": [
    "# Random:\n",
    "\n",
    "# 1. randint\n",
    "# 2. random\n",
    "# 3. choice\n",
    "#      list=[1,2,3,4,5]\n",
    "#     random.choice(list)\n",
    "# 4. sample\n",
    "# 5. rand range\n",
    "\n",
    "# math:\n",
    "\n",
    "# 1. sqrt\n",
    "# 2.pi\n",
    "# 3.ceil\n",
    "#       similar to round\n",
    "# 4.e\n",
    "# 5.pow\n",
    "# 6.sin\n",
    "\n",
    "# time:\n",
    "# 1.sleep\n",
    "# 2.start=time.time()\n",
    "#    write some codes print some statements\n",
    "# 3.end=time.time()\n",
    "# 4.print(end-start)"
   ]
  },
  {
   "cell_type": "code",
   "execution_count": null,
   "id": "e74fb051-299c-4108-b943-335af54374e0",
   "metadata": {},
   "outputs": [],
   "source": [
    "# 1. randint\n",
    "# 2. random\n",
    "# 3. choice\n",
    "#      list=[1,2,3,4,5]\n",
    "#     random.choice(list)\n",
    "# 4. sample\n",
    "# 5. rand range"
   ]
  },
  {
   "cell_type": "code",
   "execution_count": 1,
   "id": "22b02834-eec0-4ab0-9d4d-6e94adb6e7f2",
   "metadata": {},
   "outputs": [],
   "source": [
    "import random"
   ]
  },
  {
   "cell_type": "code",
   "execution_count": 7,
   "id": "9d03b168-69c5-4917-8b6b-fbbfe0021021",
   "metadata": {},
   "outputs": [
    {
     "data": {
      "text/plain": [
       "7"
      ]
     },
     "execution_count": 7,
     "metadata": {},
     "output_type": "execute_result"
    }
   ],
   "source": [
    "random.randint(1,15)"
   ]
  },
  {
   "cell_type": "code",
   "execution_count": 10,
   "id": "dab87667-60bc-44e4-a638-44dfae620884",
   "metadata": {},
   "outputs": [
    {
     "data": {
      "text/plain": [
       "0.640050842175002"
      ]
     },
     "execution_count": 10,
     "metadata": {},
     "output_type": "execute_result"
    }
   ],
   "source": [
    "random.random()"
   ]
  },
  {
   "cell_type": "code",
   "execution_count": 13,
   "id": "d88d06f2-9a4d-4b3e-9895-cd7f48662e1f",
   "metadata": {},
   "outputs": [
    {
     "data": {
      "text/plain": [
       "3"
      ]
     },
     "execution_count": 13,
     "metadata": {},
     "output_type": "execute_result"
    }
   ],
   "source": [
    "numbers = [1,2,3,4,5,6,7,8,9,10]\n",
    "random.choice(numbers)"
   ]
  },
  {
   "cell_type": "code",
   "execution_count": null,
   "id": "64c7207b-1acc-458d-b20b-ed5a5640fba9",
   "metadata": {},
   "outputs": [],
   "source": [
    "random.sample()"
   ]
  },
  {
   "cell_type": "code",
   "execution_count": 23,
   "id": "5a47bdb2-1058-48b4-a400-7b9beaa4342a",
   "metadata": {},
   "outputs": [
    {
     "name": "stdout",
     "output_type": "stream",
     "text": [
      "[3, 10, 2]\n"
     ]
    }
   ],
   "source": [
    "numbers = [1,2,3,4,5,6,7,8,9,10]\n",
    "sample_numbers = random.sample(numbers, 3)\n",
    "print(sample_numbers)"
   ]
  },
  {
   "cell_type": "code",
   "execution_count": 26,
   "id": "ac211bcb-f25a-4c3a-8ee6-52f2ed2da85d",
   "metadata": {},
   "outputs": [
    {
     "name": "stdout",
     "output_type": "stream",
     "text": [
      "['i', 'k', 'l']\n"
     ]
    }
   ],
   "source": [
    "text = \"Nikil\"\n",
    "sample_chars = random.sample(text, 3)\n",
    "print(sample_chars)"
   ]
  },
  {
   "cell_type": "code",
   "execution_count": 27,
   "id": "af7db55a-81a2-4772-8ab0-f2c222ea03ce",
   "metadata": {},
   "outputs": [
    {
     "name": "stdout",
     "output_type": "stream",
     "text": [
      "[13, 5, 16, 15, 9]\n"
     ]
    }
   ],
   "source": [
    "sample_range = random.sample(range(1, 20), 5)\n",
    "print(sample_range)"
   ]
  },
  {
   "cell_type": "code",
   "execution_count": null,
   "id": "751f01b9-9997-48cd-a8bd-11025558b430",
   "metadata": {},
   "outputs": [],
   "source": []
  },
  {
   "cell_type": "code",
   "execution_count": null,
   "id": "c9a8b0e3-359c-4323-8112-0e4461243066",
   "metadata": {},
   "outputs": [],
   "source": [
    "# math:\n",
    "\n",
    "# 1. sqrt\n",
    "# 2.pi\n",
    "# 3.ceil\n",
    "#       similar to round\n",
    "# 4.e\n",
    "# 5.pow\n",
    "# 6.sin"
   ]
  },
  {
   "cell_type": "code",
   "execution_count": 28,
   "id": "672aa772-7980-4768-bb6e-c05c1ca1248c",
   "metadata": {},
   "outputs": [],
   "source": [
    "import math"
   ]
  },
  {
   "cell_type": "code",
   "execution_count": 30,
   "id": "3d99a77b-cf81-4b19-b368-dbb0e1420d84",
   "metadata": {},
   "outputs": [
    {
     "data": {
      "text/plain": [
       "6.928203230275509"
      ]
     },
     "execution_count": 30,
     "metadata": {},
     "output_type": "execute_result"
    }
   ],
   "source": [
    "math.sqrt(48)"
   ]
  },
  {
   "cell_type": "code",
   "execution_count": 32,
   "id": "8792e0d3-8dcd-4e6f-9b12-b14627b3704e",
   "metadata": {},
   "outputs": [
    {
     "data": {
      "text/plain": [
       "3.141592653589793"
      ]
     },
     "execution_count": 32,
     "metadata": {},
     "output_type": "execute_result"
    }
   ],
   "source": [
    "math.pi"
   ]
  },
  {
   "cell_type": "code",
   "execution_count": 34,
   "id": "061f55f4-dcea-4b0d-8710-56e2849c90a8",
   "metadata": {},
   "outputs": [
    {
     "data": {
      "text/plain": [
       "81"
      ]
     },
     "execution_count": 34,
     "metadata": {},
     "output_type": "execute_result"
    }
   ],
   "source": [
    "math.ceil(80.5)"
   ]
  },
  {
   "cell_type": "code",
   "execution_count": 38,
   "id": "6764eb21-e7d9-444b-985b-14ad3f15af68",
   "metadata": {},
   "outputs": [
    {
     "data": {
      "text/plain": [
       "2.718281828459045"
      ]
     },
     "execution_count": 38,
     "metadata": {},
     "output_type": "execute_result"
    }
   ],
   "source": [
    "math.e"
   ]
  },
  {
   "cell_type": "code",
   "execution_count": 41,
   "id": "5ccf7414-94da-4e4b-96ce-c3326f7f278e",
   "metadata": {},
   "outputs": [
    {
     "data": {
      "text/plain": [
       "100.0"
      ]
     },
     "execution_count": 41,
     "metadata": {},
     "output_type": "execute_result"
    }
   ],
   "source": [
    "math.pow(10,2)"
   ]
  },
  {
   "cell_type": "code",
   "execution_count": 43,
   "id": "70216449-bb2c-4584-a065-28c1d53afc55",
   "metadata": {},
   "outputs": [
    {
     "data": {
      "text/plain": [
       "0.8509035245341184"
      ]
     },
     "execution_count": 43,
     "metadata": {},
     "output_type": "execute_result"
    }
   ],
   "source": [
    "math.sin(45)"
   ]
  },
  {
   "cell_type": "code",
   "execution_count": null,
   "id": "0f6a4084-c2f8-414c-aa76-d71ffebf2c23",
   "metadata": {},
   "outputs": [],
   "source": [
    "# time:\n",
    "# 1.sleep\n",
    "# 2.start=time.time()\n",
    "#    write some codes print some statements\n",
    "# 3.end=time.time()\n",
    "# 4.print(end-start)"
   ]
  },
  {
   "cell_type": "code",
   "execution_count": 44,
   "id": "d484f664-d7bc-4246-b0fc-00b96ecfd47e",
   "metadata": {},
   "outputs": [],
   "source": [
    "import time"
   ]
  },
  {
   "cell_type": "code",
   "execution_count": 46,
   "id": "c09a08eb-8ab0-4311-90ab-6cb52632d7a9",
   "metadata": {},
   "outputs": [
    {
     "name": "stdout",
     "output_type": "stream",
     "text": [
      "Hi my name is Nikhil\n",
      "I am learning Python\n"
     ]
    }
   ],
   "source": [
    "print(\"Hi my name is Nikhil\")\n",
    "time.sleep(5)\n",
    "print(\"I am learning Python\")"
   ]
  },
  {
   "cell_type": "code",
   "execution_count": 48,
   "id": "8ad3e655-0820-47cb-8003-36f08f9022dc",
   "metadata": {},
   "outputs": [
    {
     "name": "stdout",
     "output_type": "stream",
     "text": [
      "Hi my name is Nikhil\n",
      "I am learning Python\n",
      "This code is taking 5.001055955886841 sec to run above programme.\n"
     ]
    }
   ],
   "source": [
    "start= time.time()\n",
    "print(\"Hi my name is Nikhil\")\n",
    "time.sleep(5)\n",
    "print(\"I am learning Python\")\n",
    "end = time.time()\n",
    "diff = end-start\n",
    "print(f\"This code is taking {diff} sec to run above programme.\")"
   ]
  },
  {
   "cell_type": "code",
   "execution_count": null,
   "id": "3c93f48a-bf80-4863-892e-91dfe0ef10fa",
   "metadata": {},
   "outputs": [],
   "source": []
  },
  {
   "cell_type": "code",
   "execution_count": null,
   "id": "a409f443-e275-4a39-9595-7b4a2c45b363",
   "metadata": {},
   "outputs": [],
   "source": []
  },
  {
   "cell_type": "code",
   "execution_count": null,
   "id": "aba42a0c-d8bb-4923-b0d8-934d0e339215",
   "metadata": {},
   "outputs": [],
   "source": []
  }
 ],
 "metadata": {
  "kernelspec": {
   "display_name": "Python 3 (ipykernel)",
   "language": "python",
   "name": "python3"
  },
  "language_info": {
   "codemirror_mode": {
    "name": "ipython",
    "version": 3
   },
   "file_extension": ".py",
   "mimetype": "text/x-python",
   "name": "python",
   "nbconvert_exporter": "python",
   "pygments_lexer": "ipython3",
   "version": "3.12.7"
  }
 },
 "nbformat": 4,
 "nbformat_minor": 5
}
