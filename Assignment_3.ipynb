{
 "cells": [
  {
   "cell_type": "code",
   "execution_count": null,
   "id": "4f4d32c2-614d-4e3c-9862-b2a85bf3af1e",
   "metadata": {},
   "outputs": [],
   "source": [
    "# 1.Take all numbers using random package randint method between 1 to 100\n",
    "# 2. use math.ceil for round off the values\n",
    "# 3. while printing multiple statemennts add time.sleep wherever required\n",
    "\n",
    "\n",
    "# 1)wap ask the user enter 3 random numbers n1,n2,n3 from ketboard\n",
    "# calculate average\n",
    "\n",
    "# 2)wap ask the user enter name \n",
    "#      random age  and  city using input\n",
    "# print my name is python im 10 years old and came from hyd\n",
    "\n",
    "# 3)wap ask the user to enter random radidus of a circle calculate area of the circle\n",
    "# var: radidus  var: pi=3.14\n",
    "# formuale: pi*radius*radius\n",
    "# print the answers using f string and format\n",
    "\n",
    "# 4)wap ask the user enter random breadth and height of a right angle triangle\n",
    "# calculate the area\n",
    "# var1: bredath  var2: height\n",
    "# formuale : 0.5*breadth*heigh\n",
    "\n",
    "# 5)wap ask the user the random bill amount and tip amount\n",
    "#   calculate total bill\n",
    "#   var1: bill amount var2: tip amount\n",
    "#   formuale\n",
    "\n",
    "# 6)wap ask the user the random bill amount and tip percentage\n",
    "#    take tip percentage as 10\n",
    "#   calculate total bill= bill amount+ bill amount*tip per/100\n",
    "#   var1: bill amount var2: tip amount\n",
    "#    formuale\n",
    "\n",
    "# 7)wap ask the random length and breadth of a rectangle calculate area\n",
    "#   var1: length  var2: breadth\n",
    "#   formulae: length * breadth\n",
    "\n",
    "# 8) wap ask the user take the random radius and calculate volume of sphere\n",
    "#   formulae: pi*r**3(pi*r*r*r)\n",
    "\n",
    "# 9) wap ask the user enter random  amount in dollars convert into rupees\n",
    "#     1$=85rs\n",
    "\n",
    "# 10)wap ask the user enter random weight in kgs convert into pounds\n",
    "#    1kg= 2.2pounds\n"
   ]
  },
  {
   "cell_type": "code",
   "execution_count": null,
   "id": "c53f4b4d-79e3-44e0-a28e-bd090f8e20f3",
   "metadata": {},
   "outputs": [],
   "source": [
    "# 1.Take all numbers using random package randint method between 1 to 100\n",
    "# 2. use math.ceil for round off the values\n",
    "# 3. while printing multiple statemennts add time.sleep wherever required\n",
    "\n",
    "\n",
    "# 1)wap ask the user enter 3 random numbers n1,n2,n3 from ketboard\n",
    "# calculate average"
   ]
  },
  {
   "cell_type": "code",
   "execution_count": 3,
   "id": "0e626ff3-da7e-41f0-9f2a-80c538a1831a",
   "metadata": {},
   "outputs": [
    {
     "name": "stdout",
     "output_type": "stream",
     "text": [
      "The average of 40,22 & 41 is : 34.333333333333336\n"
     ]
    }
   ],
   "source": [
    "import random\n",
    "\n",
    "n1=random.randint(1,100)\n",
    "n2=random.randint(1,100)\n",
    "n3=random.randint(1,100)\n",
    "avg= (n1+n2+n3)/3\n",
    "print(f\"The average of {n1},{n2} & {n3} is : {avg}\")"
   ]
  },
  {
   "cell_type": "code",
   "execution_count": null,
   "id": "004fffeb-a7e5-4537-9a44-40b23c897901",
   "metadata": {},
   "outputs": [],
   "source": [
    "# 2)wap ask the user enter name \n",
    "#      random age  and  city using input\n",
    "# print my name is python im 10 years old and came from hyd"
   ]
  },
  {
   "cell_type": "code",
   "execution_count": 5,
   "id": "6a40bb70-6bef-438f-a7b0-3bc82713dc82",
   "metadata": {},
   "outputs": [
    {
     "name": "stdin",
     "output_type": "stream",
     "text": [
      "Enter Your Name Nik\n",
      "Enter City Nag\n"
     ]
    },
    {
     "name": "stdout",
     "output_type": "stream",
     "text": [
      "My name is Nik I'm 95 years old and came from Nag.\n"
     ]
    }
   ],
   "source": [
    "name= input(\"Enter Your Name\")\n",
    "city= input(\"Enter City\")\n",
    "age= random.randint(1,100)\n",
    "print(f\"My name is {name} I'm {age} years old and came from {city}.\")"
   ]
  },
  {
   "cell_type": "code",
   "execution_count": null,
   "id": "a0745e25-1298-404d-84d1-eea3e86a37b3",
   "metadata": {},
   "outputs": [],
   "source": [
    "# 3)wap ask the user to enter random radidus of a circle calculate area of the circle\n",
    "# var: radidus  var: pi=3.14\n",
    "# formuale: pi*radius*radius\n",
    "# print the answers using f string and format"
   ]
  },
  {
   "cell_type": "code",
   "execution_count": 8,
   "id": "e39fdae1-9c6e-4b90-bdea-ee1ee642fa60",
   "metadata": {},
   "outputs": [
    {
     "name": "stdout",
     "output_type": "stream",
     "text": [
      "Taken 18 radius The area of the circle is : 1017.36\n"
     ]
    }
   ],
   "source": [
    "radius= random.randint(1,20)\n",
    "pi=3.14\n",
    "calculate_area = pi*radius*radius\n",
    "print(f\"Taken {radius} radius The area of the circle is : {calculate_area}\")"
   ]
  },
  {
   "cell_type": "code",
   "execution_count": null,
   "id": "b1a86e32-2d52-404b-be41-d875c30ed3e2",
   "metadata": {},
   "outputs": [],
   "source": [
    "# 4)wap ask the user enter random breadth and height of a right angle triangle\n",
    "# calculate the area\n",
    "# var1: bredath  var2: height\n",
    "# formuale : 0.5*breadth*heigh"
   ]
  },
  {
   "cell_type": "code",
   "execution_count": 9,
   "id": "68ddfd7a-4e0c-42ed-b45b-4b3186eea6e0",
   "metadata": {},
   "outputs": [
    {
     "name": "stdout",
     "output_type": "stream",
     "text": [
      "Breadth is 8 & Height is 20. The area of a right angle triangle is :80.0.\n"
     ]
    }
   ],
   "source": [
    "breadth= random.randint(1,20)\n",
    "height= random.randint(1,30)\n",
    "area= 0.5*breadth*height\n",
    "print(f\"Breadth is {breadth} & Height is {height}. The area of a right angle triangle is :{area}.\")"
   ]
  },
  {
   "cell_type": "code",
   "execution_count": 11,
   "id": "8eb687cf-efe5-4f8c-a4cc-9f4241cf2b11",
   "metadata": {},
   "outputs": [],
   "source": [
    "# 5)wap ask the user the random bill amount and tip amount\n",
    "#   calculate total bill\n",
    "#   var1: bill amount var2: tip amount\n",
    "#   formuale"
   ]
  },
  {
   "cell_type": "code",
   "execution_count": 12,
   "id": "732a9d02-0167-46e7-a466-d21b38392ed6",
   "metadata": {},
   "outputs": [
    {
     "name": "stdout",
     "output_type": "stream",
     "text": [
      "The bill amount is :253 & tip amount is 35 so total bill amount is : 288.\n"
     ]
    }
   ],
   "source": [
    "bill_amount= random.randint(1,2000)\n",
    "tip_amount= random.randint(1,100)\n",
    "total_bill=bill_amount+tip_amount\n",
    "print(f\"The bill amount is :{bill_amount} & tip amount is {tip_amount} so total bill amount is : {total_bill}.\")"
   ]
  },
  {
   "cell_type": "code",
   "execution_count": null,
   "id": "0110d246-abc4-4a84-9437-f3103bc4669d",
   "metadata": {},
   "outputs": [],
   "source": [
    "# 6)wap ask the user the random bill amount and tip percentage\n",
    "#    take tip percentage as 10\n",
    "#   calculate total bill= bill amount+ bill amount*tip per/100\n",
    "#   var1: bill amount var2: tip amount\n",
    "#    formuale"
   ]
  },
  {
   "cell_type": "code",
   "execution_count": 14,
   "id": "88b629fe-f3f9-4e71-8372-d90df6502d8f",
   "metadata": {},
   "outputs": [
    {
     "name": "stdout",
     "output_type": "stream",
     "text": [
      "The bill amount is :1616 & tip amount is 7 so total bill amount is : 1729.12.\n"
     ]
    }
   ],
   "source": [
    "bill = random.randint(1,2000)\n",
    "tip = random.randint(1,20)\n",
    "total_bill= bill + bill * tip/100\n",
    "print(f\"The bill amount is :{bill} & tip amount is {tip} so total bill amount is : {total_bill}.\")"
   ]
  },
  {
   "cell_type": "code",
   "execution_count": null,
   "id": "fa8ba566-42e4-43ea-9df2-301cf30c349a",
   "metadata": {},
   "outputs": [],
   "source": [
    "# 7)wap ask the random length and breadth of a rectangle calculate area\n",
    "#   var1: length  var2: breadth\n",
    "#   formulae: length * breadth"
   ]
  },
  {
   "cell_type": "code",
   "execution_count": 15,
   "id": "d9cd2bb9-10f1-4907-9963-c9790025ab3c",
   "metadata": {},
   "outputs": [
    {
     "name": "stdout",
     "output_type": "stream",
     "text": [
      "Length is 31 & Breadth is 3,The area of a rectangle is :93\n"
     ]
    }
   ],
   "source": [
    "length= random.randint(1,50)\n",
    "breadth= random.randint(1,100)\n",
    "area= length*breadth\n",
    "print(f\"Length is {length} & Breadth is {breadth},The area of a rectangle is :{area}\")"
   ]
  },
  {
   "cell_type": "code",
   "execution_count": null,
   "id": "b19840b0-5f9d-4440-8d2b-9b3f552d6e9e",
   "metadata": {},
   "outputs": [],
   "source": [
    "# 8) wap ask the user take the random radius and calculate volume of sphere\n",
    "#   formulae: pi*r**3(pi*r*r*r)"
   ]
  },
  {
   "cell_type": "code",
   "execution_count": 17,
   "id": "7a55fec6-c9df-4a84-9f07-d82cc24ba9d1",
   "metadata": {},
   "outputs": [
    {
     "name": "stdout",
     "output_type": "stream",
     "text": [
      "The radius is 3, The volume of sphere is : 84.78\n"
     ]
    }
   ],
   "source": [
    "radius= random.randint(1,50)\n",
    "pi=3.14\n",
    "vol_of_sphere = pi*radius**3\n",
    "print(f\"The radius is {radius}, The volume of sphere is : {vol_of_sphere}\")"
   ]
  },
  {
   "cell_type": "code",
   "execution_count": null,
   "id": "c404c599-c4de-4146-a16e-44379482865d",
   "metadata": {},
   "outputs": [],
   "source": [
    "# 9) wap ask the user enter random  amount in dollars convert into rupees\n",
    "#     1$=85rs"
   ]
  },
  {
   "cell_type": "code",
   "execution_count": 18,
   "id": "5b991e2e-42d8-423f-ba0a-e0adbc6eb57f",
   "metadata": {},
   "outputs": [
    {
     "name": "stdout",
     "output_type": "stream",
     "text": [
      "The 6$ is in indian rupees is :510\n"
     ]
    }
   ],
   "source": [
    "amount= random.randint(1,50)\n",
    "convert =  amount*85\n",
    "print(f\"The {amount}$ is in indian rupees is :{convert}\")"
   ]
  },
  {
   "cell_type": "code",
   "execution_count": null,
   "id": "b6be0036-35d8-4bf0-8ba5-3a7b8386e8f7",
   "metadata": {},
   "outputs": [],
   "source": [
    "# 10)wap ask the user enter random weight in kgs convert into pounds\n",
    "#    1kg= 2.2pounds"
   ]
  },
  {
   "cell_type": "code",
   "execution_count": 19,
   "id": "75d6f431-4501-4d33-bc39-afb4e04511a8",
   "metadata": {},
   "outputs": [
    {
     "name": "stdout",
     "output_type": "stream",
     "text": [
      "Your weight is 50 kg & in pounds it is :110.00000000000001.\n"
     ]
    }
   ],
   "source": [
    "weight= random.randint(1,100)\n",
    "convert =  weight*2.2\n",
    "print(f\"Your weight is {weight} kg & in pounds it is :{convert}.\")"
   ]
  },
  {
   "cell_type": "code",
   "execution_count": null,
   "id": "0f6d1c1d-9067-477b-ac85-4a67c2fc703a",
   "metadata": {},
   "outputs": [],
   "source": []
  }
 ],
 "metadata": {
  "kernelspec": {
   "display_name": "Python 3 (ipykernel)",
   "language": "python",
   "name": "python3"
  },
  "language_info": {
   "codemirror_mode": {
    "name": "ipython",
    "version": 3
   },
   "file_extension": ".py",
   "mimetype": "text/x-python",
   "name": "python",
   "nbconvert_exporter": "python",
   "pygments_lexer": "ipython3",
   "version": "3.12.7"
  }
 },
 "nbformat": 4,
 "nbformat_minor": 5
}
