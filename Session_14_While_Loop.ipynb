{
 "cells": [
  {
   "cell_type": "markdown",
   "id": "5e5e16fa-d648-4ec4-acc8-8d3e00e6b0e3",
   "metadata": {},
   "source": [
    "## While loop"
   ]
  },
  {
   "cell_type": "markdown",
   "id": "601c1a9c-b72e-46dd-8da9-ded01350f7a5",
   "metadata": {},
   "source": [
    "- intialization to start\n",
    "\n",
    "- increment or decrement\n",
    "\n",
    "- condition to stop"
   ]
  },
  {
   "cell_type": "code",
   "execution_count": null,
   "id": "d96b2c14-eafb-4dd9-83c2-505a28b10586",
   "metadata": {},
   "outputs": [],
   "source": [
    "for i in range(1,10) \n",
    "in a single line we have start=1 increment +1  stop 10-1=9"
   ]
  },
  {
   "cell_type": "code",
   "execution_count": null,
   "id": "53f9b7b5-e511-465b-9d7a-c3135f5b5082",
   "metadata": {},
   "outputs": [],
   "source": [
    "<intialization>\n",
    "\n",
    "while <condition>:\n",
    "    #======python\n",
    "\n",
    "    increment/decrement"
   ]
  },
  {
   "cell_type": "code",
   "execution_count": 1,
   "id": "ecf11374-6049-4832-b848-413b5e16fce8",
   "metadata": {},
   "outputs": [
    {
     "name": "stdout",
     "output_type": "stream",
     "text": [
      "1 2 3 4 5 6 7 8 9 "
     ]
    }
   ],
   "source": [
    "for i in range(1,10):\n",
    "    print(i,end=' ')"
   ]
  },
  {
   "cell_type": "code",
   "execution_count": null,
   "id": "0333aac1-7f14-449f-8ba6-e41f39a2be4d",
   "metadata": {},
   "outputs": [],
   "source": [
    "#for i in range(1,10) ===== > 3lines \n",
    "\n",
    "i=1\n",
    "while <con>:\n",
    "    i=i+1\n",
    "\n",
    "Rule:1\n",
    "tell me the condition that become True \n",
    "then only i can enter inside the while loop\n",
    "\n",
    "Rule:2 \n",
    "  valid condition\n",
    "i<10  True  yes \n",
    "i<11  True  No\n",
    "i<12\n",
    "i<"
   ]
  },
  {
   "cell_type": "code",
   "execution_count": 5,
   "id": "93ac3361-1d77-473f-b23f-f367dbc57704",
   "metadata": {},
   "outputs": [
    {
     "name": "stdout",
     "output_type": "stream",
     "text": [
      "1 2 "
     ]
    }
   ],
   "source": [
    "# for i in range(1,10):\n",
    "#     print(i,end=' ')\n",
    "\n",
    "i=1\n",
    "while i<3:\n",
    "    print(i,end=' ')\n",
    "    i=i+1\n",
    "\n",
    "# step-1: i=1  while 1<3  True  print(1) i=1+1=2\n",
    "# step-2: i=2  while 2<3  True  print(2) i=2+1=3\n",
    "# step-3: i=3  while 3<3  False"
   ]
  },
  {
   "cell_type": "code",
   "execution_count": null,
   "id": "dd1ccc8c-f9be-4c54-9fed-f124863abf1c",
   "metadata": {},
   "outputs": [],
   "source": [
    "# Q1) print 1 to 10\n",
    "# Q2) print 10 to 1\n",
    "# Q3) print -1 to -10\n",
    "# Q4) print -10 to -1\n",
    "\n",
    "# write intialization first\n",
    "# dont write condition now\n",
    "# write increment or decrement\n",
    "# then think about condition"
   ]
  },
  {
   "cell_type": "code",
   "execution_count": 6,
   "id": "397979e3-0bac-42cb-a7a5-ac8701d49480",
   "metadata": {},
   "outputs": [
    {
     "name": "stdout",
     "output_type": "stream",
     "text": [
      "10\n",
      "9\n",
      "8\n",
      "7\n",
      "6\n",
      "5\n",
      "4\n",
      "3\n",
      "2\n",
      "1\n"
     ]
    }
   ],
   "source": [
    "i=10\n",
    "while i>=1:   # 0r i>0\n",
    "    print(i)\n",
    "    i=i-1   "
   ]
  },
  {
   "cell_type": "code",
   "execution_count": 2,
   "id": "9c7f790c-ba6e-4a0d-981f-b4c72cddc318",
   "metadata": {},
   "outputs": [
    {
     "name": "stdout",
     "output_type": "stream",
     "text": [
      "10\n",
      "9\n",
      "8\n",
      "7\n",
      "6\n",
      "5\n",
      "4\n",
      "3\n",
      "2\n",
      "1\n"
     ]
    }
   ],
   "source": [
    "i=10\n",
    "while True:\n",
    "    print(i)\n",
    "    i=i-1 \n",
    "    if i==0:\n",
    "        break"
   ]
  },
  {
   "cell_type": "code",
   "execution_count": null,
   "id": "4ef7a3da-81a2-4b6d-b102-264a8d513a14",
   "metadata": {},
   "outputs": [],
   "source": [
    "i=10\n",
    "while i>=1:   \n",
    "    print(i)\n",
    "    i=i-1   \n",
    "\n",
    "i=10\n",
    "while True:\n",
    "    print(i)\n",
    "    i=i-1 \n",
    "    if i==0:\n",
    "        break"
   ]
  },
  {
   "cell_type": "code",
   "execution_count": 4,
   "id": "15af09ed-2002-495f-9896-78a9ad1a8354",
   "metadata": {},
   "outputs": [
    {
     "name": "stdin",
     "output_type": "stream",
     "text": [
      " 2\n"
     ]
    },
    {
     "name": "stdout",
     "output_type": "stream",
     "text": [
      "fail\n"
     ]
    },
    {
     "name": "stdin",
     "output_type": "stream",
     "text": [
      " 3\n"
     ]
    },
    {
     "name": "stdout",
     "output_type": "stream",
     "text": [
      "fail\n"
     ]
    },
    {
     "name": "stdin",
     "output_type": "stream",
     "text": [
      " 5\n"
     ]
    },
    {
     "name": "stdout",
     "output_type": "stream",
     "text": [
      "fail\n"
     ]
    },
    {
     "name": "stdin",
     "output_type": "stream",
     "text": [
      " 6\n"
     ]
    },
    {
     "name": "stdout",
     "output_type": "stream",
     "text": [
      "fail\n"
     ]
    },
    {
     "name": "stdin",
     "output_type": "stream",
     "text": [
      " 7\n"
     ]
    },
    {
     "name": "stdout",
     "output_type": "stream",
     "text": [
      "fail\n"
     ]
    },
    {
     "name": "stdin",
     "output_type": "stream",
     "text": [
      " 8\n"
     ]
    },
    {
     "name": "stdout",
     "output_type": "stream",
     "text": [
      "fail\n"
     ]
    },
    {
     "name": "stdin",
     "output_type": "stream",
     "text": [
      " 7\n"
     ]
    },
    {
     "name": "stdout",
     "output_type": "stream",
     "text": [
      "fail\n"
     ]
    },
    {
     "name": "stdin",
     "output_type": "stream",
     "text": [
      " 7\n"
     ]
    },
    {
     "name": "stdout",
     "output_type": "stream",
     "text": [
      "fail\n"
     ]
    },
    {
     "name": "stdin",
     "output_type": "stream",
     "text": [
      " 7\n"
     ]
    },
    {
     "name": "stdout",
     "output_type": "stream",
     "text": [
      "won\n"
     ]
    }
   ],
   "source": [
    "import random\n",
    "while True:\n",
    "    num1=random.randint(1,10)\n",
    "    num2=eval(input())\n",
    "    if num1==num2:\n",
    "        print('won')\n",
    "        break\n",
    "    else:\n",
    "        print('fail')"
   ]
  },
  {
   "cell_type": "code",
   "execution_count": 3,
   "id": "112f54e7-1bec-462a-841a-937556224d91",
   "metadata": {},
   "outputs": [
    {
     "name": "stdin",
     "output_type": "stream",
     "text": [
      " 10\n"
     ]
    },
    {
     "name": "stdout",
     "output_type": "stream",
     "text": [
      "fail\n"
     ]
    },
    {
     "name": "stdin",
     "output_type": "stream",
     "text": [
      " 12\n"
     ]
    },
    {
     "name": "stdout",
     "output_type": "stream",
     "text": [
      "fail\n"
     ]
    },
    {
     "name": "stdin",
     "output_type": "stream",
     "text": [
      " 3\n"
     ]
    },
    {
     "name": "stdout",
     "output_type": "stream",
     "text": [
      "fail\n"
     ]
    }
   ],
   "source": [
    "import random\n",
    "i=1\n",
    "while i<=3\n",
    "    num1=random.randint(1,10)\n",
    "    num2=eval(input())\n",
    "    if num1==num2:\n",
    "        print('won')\n",
    "        break\n",
    "    else:\n",
    "        print('fail')\n",
    "    i=i+1"
   ]
  },
  {
   "cell_type": "code",
   "execution_count": null,
   "id": "bf40835c-b4cf-4e71-8db4-4ce4d37eb816",
   "metadata": {},
   "outputs": [],
   "source": [
    "# go to lab\n",
    "# complete all for loop qns using while loop\n",
    "# i con in"
   ]
  }
 ],
 "metadata": {
  "kernelspec": {
   "display_name": "Python 3 (ipykernel)",
   "language": "python",
   "name": "python3"
  },
  "language_info": {
   "codemirror_mode": {
    "name": "ipython",
    "version": 3
   },
   "file_extension": ".py",
   "mimetype": "text/x-python",
   "name": "python",
   "nbconvert_exporter": "python",
   "pygments_lexer": "ipython3",
   "version": "3.11.7"
  }
 },
 "nbformat": 4,
 "nbformat_minor": 5
}
