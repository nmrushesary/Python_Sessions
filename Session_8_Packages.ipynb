{
 "cells": [
  {
   "cell_type": "code",
   "execution_count": null,
   "id": "54ba4e98-e830-4a42-8eb7-d2c7a1c2baf5",
   "metadata": {},
   "outputs": [],
   "source": [
    "likith is good python developer\n",
    "he created a addition code"
   ]
  },
  {
   "cell_type": "code",
   "execution_count": 1,
   "id": "4de10dac-b6bf-4398-9d79-4dde6cbdaeb8",
   "metadata": {},
   "outputs": [
    {
     "data": {
      "text/plain": [
       "30"
      ]
     },
     "execution_count": 1,
     "metadata": {},
     "output_type": "execute_result"
    }
   ],
   "source": [
    "n1=10\n",
    "n2=20\n",
    "add=n1+n2\n",
    "add"
   ]
  },
  {
   "cell_type": "code",
   "execution_count": null,
   "id": "ea99cd10-570a-4228-a979-b402ed5a53ce",
   "metadata": {},
   "outputs": [],
   "source": [
    "he though that he only created a addition code\n",
    "no one is created\n",
    "\n",
    "i will give this free to entire world\n",
    "\n",
    "he went anaconda organization\n",
    "\n",
    "who ever install your sofware that python code also\n",
    "should automatically in thier laptop\n",
    "\n",
    "anaconda : okay great\n",
    "\n",
    "make that python code as package\n",
    "\n",
    "package: python code\n",
    "         Python OOPS concept\n",
    "pcakges module"
   ]
  },
  {
   "cell_type": "code",
   "execution_count": null,
   "id": "d0b4696d-ba3c-41c5-a529-89e48c700d02",
   "metadata": {},
   "outputs": [],
   "source": [
    "green color line \n",
    "max 5 min\n",
    "packages are downloaded in your laptop\n",
    "\n",
    "\n",
    "package name: addition"
   ]
  },
  {
   "cell_type": "code",
   "execution_count": null,
   "id": "0a26eaa1-c74d-495d-a4df-4ff3108ff4e3",
   "metadata": {},
   "outputs": [],
   "source": [
    "# syntax: \n",
    "\n",
    "import <package name>\n"
   ]
  },
  {
   "cell_type": "code",
   "execution_count": 1,
   "id": "6d3f53dd-3f4c-4c79-b261-827faa926bd9",
   "metadata": {},
   "outputs": [
    {
     "ename": "SyntaxError",
     "evalue": "invalid syntax (3740611026.py, line 1)",
     "output_type": "error",
     "traceback": [
      "\u001b[1;36m  Cell \u001b[1;32mIn[1], line 1\u001b[1;36m\u001b[0m\n\u001b[1;33m    pacakage name: random\u001b[0m\n\u001b[1;37m             ^\u001b[0m\n\u001b[1;31mSyntaxError\u001b[0m\u001b[1;31m:\u001b[0m invalid syntax\n"
     ]
    }
   ],
   "source": [
    "pacakage name: random\n",
    "package name : math\n",
    "package name : time\n",
    "package name : keyword\n",
    "package name : pandas\n",
    "package name : numpy\n",
    "package name : cv2"
   ]
  },
  {
   "cell_type": "code",
   "execution_count": 2,
   "id": "accdd841-5a5c-4e76-8c4a-783c23b845fa",
   "metadata": {},
   "outputs": [],
   "source": [
    "import random"
   ]
  },
  {
   "cell_type": "code",
   "execution_count": 3,
   "id": "3c3534bd-ccda-4d4e-99de-d28d42af1fd5",
   "metadata": {},
   "outputs": [],
   "source": [
    "import math"
   ]
  },
  {
   "cell_type": "code",
   "execution_count": 4,
   "id": "a0a90f1c-f3b3-4b0a-9e0f-2c9525e75cbb",
   "metadata": {},
   "outputs": [],
   "source": [
    "import time"
   ]
  },
  {
   "cell_type": "code",
   "execution_count": 5,
   "id": "ac11c282-16fc-431e-8e4f-2c407246b7dc",
   "metadata": {},
   "outputs": [],
   "source": [
    "import keyword"
   ]
  },
  {
   "cell_type": "code",
   "execution_count": 6,
   "id": "15dcd6eb-0cd0-456d-9571-3f7d7da9df8a",
   "metadata": {},
   "outputs": [],
   "source": [
    "import pandas"
   ]
  },
  {
   "cell_type": "code",
   "execution_count": 7,
   "id": "a4854483-d27d-465d-8fc0-bc4c078b7cef",
   "metadata": {},
   "outputs": [],
   "source": [
    "import numpy"
   ]
  },
  {
   "cell_type": "code",
   "execution_count": 8,
   "id": "15c7fe29-13e8-45dc-b632-8767c98c8748",
   "metadata": {},
   "outputs": [],
   "source": [
    "import cv2"
   ]
  },
  {
   "cell_type": "code",
   "execution_count": 9,
   "id": "6067fa7f-61f0-4196-8556-133cbd31bdf0",
   "metadata": {},
   "outputs": [
    {
     "ename": "ModuleNotFoundError",
     "evalue": "No module named 'addition'",
     "output_type": "error",
     "traceback": [
      "\u001b[1;31m---------------------------------------------------------------------------\u001b[0m",
      "\u001b[1;31mModuleNotFoundError\u001b[0m                       Traceback (most recent call last)",
      "Cell \u001b[1;32mIn[9], line 1\u001b[0m\n\u001b[1;32m----> 1\u001b[0m \u001b[38;5;28;01mimport\u001b[39;00m \u001b[38;5;21;01maddition\u001b[39;00m\n",
      "\u001b[1;31mModuleNotFoundError\u001b[0m: No module named 'addition'"
     ]
    }
   ],
   "source": [
    "import addition"
   ]
  },
  {
   "cell_type": "markdown",
   "id": "f5a00509-8cec-4bb6-89b5-8e631c126d38",
   "metadata": {},
   "source": [
    "- with this addition name no package available in your laptop\n",
    "\n",
    "- for you cv2 also not available in your laptop\n",
    "\n",
    "- whever you got error always share two screenshots\n",
    "\n",
    "    - the code lines which you written\n",
    "\n",
    "    - error screenshot till last line\n",
    "\n",
    "    - error information always at last line only"
   ]
  },
  {
   "cell_type": "code",
   "execution_count": 10,
   "id": "c6b55059-ef92-401a-a0fb-b80c5e840910",
   "metadata": {},
   "outputs": [],
   "source": [
    "import random"
   ]
  },
  {
   "cell_type": "code",
   "execution_count": 11,
   "id": "dc884c59-7609-46b7-9542-d0e8eaf6ae62",
   "metadata": {},
   "outputs": [
    {
     "data": {
      "text/plain": [
       "<module 'random' from 'C:\\\\Users\\\\nikhi\\\\anaconda3\\\\Lib\\\\random.py'>"
      ]
     },
     "execution_count": 11,
     "metadata": {},
     "output_type": "execute_result"
    }
   ],
   "source": [
    "random"
   ]
  },
  {
   "cell_type": "markdown",
   "id": "26f44d99-05f5-49a1-8331-26b1a71a6465",
   "metadata": {},
   "source": [
    "- package or module is a python code only\n",
    "\n",
    "- many packages will automatically install while anaconda installations\n",
    "\n",
    "- if any module not available\n",
    "\n",
    "    - **Module not found error**\n",
    " \n",
    "- how we call the package : **import packagename**"
   ]
  },
  {
   "cell_type": "code",
   "execution_count": 12,
   "id": "5c89cfbf-af78-4835-b0d3-ab75e0170562",
   "metadata": {},
   "outputs": [],
   "source": [
    "import random"
   ]
  },
  {
   "cell_type": "markdown",
   "id": "2e5304b8-f653-4cb2-9de3-3ebe6dfc52e5",
   "metadata": {},
   "source": [
    "- random also have many sub function \n",
    "\n",
    "- these are called as methods\n",
    "\n",
    "- in order to see the available methods \n",
    "\n",
    "    - dir(packagename)"
   ]
  },
  {
   "cell_type": "code",
   "execution_count": 13,
   "id": "a349d627-7ce1-4a61-90ed-a6a389dee59e",
   "metadata": {},
   "outputs": [
    {
     "data": {
      "text/plain": [
       "['BPF',\n",
       " 'LOG4',\n",
       " 'NV_MAGICCONST',\n",
       " 'RECIP_BPF',\n",
       " 'Random',\n",
       " 'SG_MAGICCONST',\n",
       " 'SystemRandom',\n",
       " 'TWOPI',\n",
       " '_ONE',\n",
       " '_Sequence',\n",
       " '_Set',\n",
       " '__all__',\n",
       " '__builtins__',\n",
       " '__cached__',\n",
       " '__doc__',\n",
       " '__file__',\n",
       " '__loader__',\n",
       " '__name__',\n",
       " '__package__',\n",
       " '__spec__',\n",
       " '_accumulate',\n",
       " '_acos',\n",
       " '_bisect',\n",
       " '_ceil',\n",
       " '_cos',\n",
       " '_e',\n",
       " '_exp',\n",
       " '_floor',\n",
       " '_index',\n",
       " '_inst',\n",
       " '_isfinite',\n",
       " '_log',\n",
       " '_os',\n",
       " '_pi',\n",
       " '_random',\n",
       " '_repeat',\n",
       " '_sha512',\n",
       " '_sin',\n",
       " '_sqrt',\n",
       " '_test',\n",
       " '_test_generator',\n",
       " '_urandom',\n",
       " '_warn',\n",
       " 'betavariate',\n",
       " 'choice',\n",
       " 'choices',\n",
       " 'expovariate',\n",
       " 'gammavariate',\n",
       " 'gauss',\n",
       " 'getrandbits',\n",
       " 'getstate',\n",
       " 'lognormvariate',\n",
       " 'normalvariate',\n",
       " 'paretovariate',\n",
       " 'randbytes',\n",
       " 'randint',\n",
       " 'random',\n",
       " 'randrange',\n",
       " 'sample',\n",
       " 'seed',\n",
       " 'setstate',\n",
       " 'shuffle',\n",
       " 'triangular',\n",
       " 'uniform',\n",
       " 'vonmisesvariate',\n",
       " 'weibullvariate']"
      ]
     },
     "execution_count": 13,
     "metadata": {},
     "output_type": "execute_result"
    }
   ],
   "source": [
    "# step-1: import packagename\n",
    "# step-2: dir(packagename)\n",
    "\n",
    "import random\n",
    "dir(random)"
   ]
  },
  {
   "cell_type": "code",
   "execution_count": null,
   "id": "41906e21-761d-4514-b079-085529ff163f",
   "metadata": {},
   "outputs": [],
   "source": [
    "# method: randint\n",
    "# qn : what is randint\n",
    "#     package name: random\n",
    "#     method name : randint\n",
    "\n",
    "#    module name    : random\n",
    "#    attribute name : randint\n",
    "\n",
    "#    uncle name :\n",
    "#     gf name "
   ]
  },
  {
   "cell_type": "code",
   "execution_count": 14,
   "id": "6e15b946-7c54-44b5-9cde-fa6420ee6240",
   "metadata": {},
   "outputs": [
    {
     "data": {
      "text/plain": [
       "<bound method Random.randint of <random.Random object at 0x0000026879D299B0>>"
      ]
     },
     "execution_count": 14,
     "metadata": {},
     "output_type": "execute_result"
    }
   ],
   "source": [
    "# step-3:  packagename.methodname\n",
    "random.randint"
   ]
  },
  {
   "cell_type": "code",
   "execution_count": 15,
   "id": "1c091977-7b9d-4c2a-b4ec-7163730407a7",
   "metadata": {},
   "outputs": [
    {
     "data": {
      "text/plain": [
       "<bound method Random.randint of <random.Random object at 0x0000026879D299B0>>"
      ]
     },
     "execution_count": 15,
     "metadata": {},
     "output_type": "execute_result"
    }
   ],
   "source": [
    "# step-1: import package name\n",
    "# step-2: dir(package name)\n",
    "# step-3: packagename.methodname\n",
    "\n",
    "import random\n",
    "dir(random) #  i want to call randint\n",
    "random.randint"
   ]
  },
  {
   "cell_type": "code",
   "execution_count": 16,
   "id": "f7d62739-6910-401f-a582-2718b31acd66",
   "metadata": {},
   "outputs": [
    {
     "name": "stdout",
     "output_type": "stream",
     "text": [
      "Help on method randint in module random:\n",
      "\n",
      "randint(a, b) method of random.Random instance\n",
      "    Return random integer in range [a, b], including both end points.\n",
      "\n"
     ]
    }
   ],
   "source": [
    "help(random.randint)"
   ]
  },
  {
   "cell_type": "code",
   "execution_count": 17,
   "id": "ad0fc4c2-9f24-4a79-aa00-c6824477b582",
   "metadata": {},
   "outputs": [
    {
     "data": {
      "text/plain": [
       "11"
      ]
     },
     "execution_count": 17,
     "metadata": {},
     "output_type": "execute_result"
    }
   ],
   "source": [
    "random.randint(10,20)  # a=10  b=20  10 11 12 13 14 15v 16 17 18 19 20"
   ]
  },
  {
   "cell_type": "code",
   "execution_count": 23,
   "id": "ecd70ed3-e87e-41a5-a594-85749ab0af7d",
   "metadata": {},
   "outputs": [
    {
     "name": "stdout",
     "output_type": "stream",
     "text": [
      "Help on method randint in module random:\n",
      "\n",
      "randint(a, b) method of random.Random instance\n",
      "    Return random integer in range [a, b], including both end points.\n",
      "\n"
     ]
    },
    {
     "data": {
      "text/plain": [
       "7"
      ]
     },
     "execution_count": 23,
     "metadata": {},
     "output_type": "execute_result"
    }
   ],
   "source": [
    "import random\n",
    "dir(random)\n",
    "help(random.randint)\n",
    "random.randint(1,10)"
   ]
  },
  {
   "cell_type": "code",
   "execution_count": 25,
   "id": "1fe3a0b1-badd-4ab3-81df-ae03a6994511",
   "metadata": {},
   "outputs": [
    {
     "name": "stdout",
     "output_type": "stream",
     "text": [
      "Help on method randint in module random:\n",
      "\n",
      "randint(a, b) method of random.Random instance\n",
      "    Return random integer in range [a, b], including both end points.\n",
      "\n"
     ]
    },
    {
     "data": {
      "text/plain": [
       "8"
      ]
     },
     "execution_count": 25,
     "metadata": {},
     "output_type": "execute_result"
    }
   ],
   "source": [
    "import random\n",
    "dir(random)\n",
    "help(random.randint)\n",
    "random.randint(1,20)"
   ]
  },
  {
   "cell_type": "code",
   "execution_count": 26,
   "id": "d747928e-e251-4c3e-80e0-960e30c7dedc",
   "metadata": {},
   "outputs": [
    {
     "ename": "TypeError",
     "evalue": "Random.randint() missing 2 required positional arguments: 'a' and 'b'",
     "output_type": "error",
     "traceback": [
      "\u001b[1;31m---------------------------------------------------------------------------\u001b[0m",
      "\u001b[1;31mTypeError\u001b[0m                                 Traceback (most recent call last)",
      "Cell \u001b[1;32mIn[26], line 2\u001b[0m\n\u001b[0;32m      1\u001b[0m \u001b[38;5;28;01mimport\u001b[39;00m \u001b[38;5;21;01mrandom\u001b[39;00m\n\u001b[1;32m----> 2\u001b[0m random\u001b[38;5;241m.\u001b[39mrandint()\n",
      "\u001b[1;31mTypeError\u001b[0m: Random.randint() missing 2 required positional arguments: 'a' and 'b'"
     ]
    }
   ],
   "source": [
    "import random\n",
    "random.randint()  \n",
    "\n",
    "# take your cursor inside the bracket apply shift+tab\n",
    "# help function only return\n",
    "# the top name : Doc string"
   ]
  },
  {
   "cell_type": "code",
   "execution_count": 29,
   "id": "d4885a42-6a75-4de6-b2e9-c42e80360cbc",
   "metadata": {},
   "outputs": [
    {
     "data": {
      "text/plain": [
       "<bound method Random.randint of <random.Random object at 0x0000026879D299B0>>"
      ]
     },
     "execution_count": 29,
     "metadata": {},
     "output_type": "execute_result"
    }
   ],
   "source": [
    "import random\n",
    "random.randint()"
   ]
  },
  {
   "cell_type": "code",
   "execution_count": null,
   "id": "3d6760f1-24d3-4a1e-b10a-cb97e7d27770",
   "metadata": {},
   "outputs": [],
   "source": [
    "# package name is : random\n",
    "# method name is : random\n",
    "\n",
    "# package name is : math\n",
    "# method name is : sqrt\n",
    "\n",
    "# package name is : math\n",
    "# method name is : pow\n",
    "\n",
    "# package name is : math\n",
    "# method name is : pie\n",
    "\n",
    "# package name is : math\n",
    "# method name is : sin"
   ]
  },
  {
   "cell_type": "code",
   "execution_count": null,
   "id": "7200870d-412a-4baf-b021-0499a9023422",
   "metadata": {},
   "outputs": [],
   "source": [
    "# import packages one time is enough"
   ]
  },
  {
   "cell_type": "code",
   "execution_count": 34,
   "id": "533e5367-2864-4fcf-80ca-cc1b043858e6",
   "metadata": {},
   "outputs": [
    {
     "data": {
      "text/plain": [
       "0.5448638376502353"
      ]
     },
     "execution_count": 34,
     "metadata": {},
     "output_type": "execute_result"
    }
   ],
   "source": [
    "import random\n",
    "random.random()"
   ]
  },
  {
   "cell_type": "code",
   "execution_count": 35,
   "id": "86599551-c232-43f6-a65a-be7bc9a32571",
   "metadata": {},
   "outputs": [],
   "source": [
    "import math"
   ]
  },
  {
   "cell_type": "code",
   "execution_count": 37,
   "id": "18bdb327-0c1f-41bd-9c79-0d49b30dc5f9",
   "metadata": {},
   "outputs": [
    {
     "data": {
      "text/plain": [
       "5.0"
      ]
     },
     "execution_count": 37,
     "metadata": {},
     "output_type": "execute_result"
    }
   ],
   "source": [
    "math.sqrt(25)"
   ]
  },
  {
   "cell_type": "code",
   "execution_count": 40,
   "id": "877c939e-f5fd-493d-8054-3f7b09e06afa",
   "metadata": {},
   "outputs": [
    {
     "data": {
      "text/plain": [
       "8.0"
      ]
     },
     "execution_count": 40,
     "metadata": {},
     "output_type": "execute_result"
    }
   ],
   "source": [
    "math.pow(2,3)  # 2 power 3"
   ]
  },
  {
   "cell_type": "code",
   "execution_count": 41,
   "id": "ca4e07c8-3cb2-4646-96d9-1a2a364f24d1",
   "metadata": {},
   "outputs": [
    {
     "ename": "AttributeError",
     "evalue": "module 'math' has no attribute 'pie'",
     "output_type": "error",
     "traceback": [
      "\u001b[1;31m---------------------------------------------------------------------------\u001b[0m",
      "\u001b[1;31mAttributeError\u001b[0m                            Traceback (most recent call last)",
      "Cell \u001b[1;32mIn[41], line 1\u001b[0m\n\u001b[1;32m----> 1\u001b[0m math\u001b[38;5;241m.\u001b[39mpie\n",
      "\u001b[1;31mAttributeError\u001b[0m: module 'math' has no attribute 'pie'"
     ]
    }
   ],
   "source": [
    "math.pie"
   ]
  },
  {
   "cell_type": "code",
   "execution_count": 42,
   "id": "5f6b0aea-39fb-443a-a2a3-b8769f38c87b",
   "metadata": {},
   "outputs": [
    {
     "data": {
      "text/plain": [
       "['__doc__',\n",
       " '__loader__',\n",
       " '__name__',\n",
       " '__package__',\n",
       " '__spec__',\n",
       " 'acos',\n",
       " 'acosh',\n",
       " 'asin',\n",
       " 'asinh',\n",
       " 'atan',\n",
       " 'atan2',\n",
       " 'atanh',\n",
       " 'cbrt',\n",
       " 'ceil',\n",
       " 'comb',\n",
       " 'copysign',\n",
       " 'cos',\n",
       " 'cosh',\n",
       " 'degrees',\n",
       " 'dist',\n",
       " 'e',\n",
       " 'erf',\n",
       " 'erfc',\n",
       " 'exp',\n",
       " 'exp2',\n",
       " 'expm1',\n",
       " 'fabs',\n",
       " 'factorial',\n",
       " 'floor',\n",
       " 'fmod',\n",
       " 'frexp',\n",
       " 'fsum',\n",
       " 'gamma',\n",
       " 'gcd',\n",
       " 'hypot',\n",
       " 'inf',\n",
       " 'isclose',\n",
       " 'isfinite',\n",
       " 'isinf',\n",
       " 'isnan',\n",
       " 'isqrt',\n",
       " 'lcm',\n",
       " 'ldexp',\n",
       " 'lgamma',\n",
       " 'log',\n",
       " 'log10',\n",
       " 'log1p',\n",
       " 'log2',\n",
       " 'modf',\n",
       " 'nan',\n",
       " 'nextafter',\n",
       " 'perm',\n",
       " 'pi',\n",
       " 'pow',\n",
       " 'prod',\n",
       " 'radians',\n",
       " 'remainder',\n",
       " 'sin',\n",
       " 'sinh',\n",
       " 'sqrt',\n",
       " 'tan',\n",
       " 'tanh',\n",
       " 'tau',\n",
       " 'trunc',\n",
       " 'ulp']"
      ]
     },
     "execution_count": 42,
     "metadata": {},
     "output_type": "execute_result"
    }
   ],
   "source": [
    "dir(math)"
   ]
  },
  {
   "cell_type": "code",
   "execution_count": 43,
   "id": "c42d98dd-31f4-4603-8ba7-02ec3214ecfe",
   "metadata": {},
   "outputs": [
    {
     "data": {
      "text/plain": [
       "3.141592653589793"
      ]
     },
     "execution_count": 43,
     "metadata": {},
     "output_type": "execute_result"
    }
   ],
   "source": [
    "math.pi\n",
    "# contsant values does not need brackets"
   ]
  },
  {
   "cell_type": "code",
   "execution_count": 44,
   "id": "717356ec-25c6-410e-a43b-c069d9683b3f",
   "metadata": {},
   "outputs": [
    {
     "data": {
      "text/plain": [
       "2.718281828459045"
      ]
     },
     "execution_count": 44,
     "metadata": {},
     "output_type": "execute_result"
    }
   ],
   "source": [
    "math.e"
   ]
  },
  {
   "cell_type": "code",
   "execution_count": 46,
   "id": "2f2b0232-4b94-4722-8cb1-f9de8ceeb649",
   "metadata": {},
   "outputs": [
    {
     "data": {
      "text/plain": [
       "0.8939966636005579"
      ]
     },
     "execution_count": 46,
     "metadata": {},
     "output_type": "execute_result"
    }
   ],
   "source": [
    "math.sin(90)"
   ]
  },
  {
   "cell_type": "code",
   "execution_count": 47,
   "id": "6db927e8-2f0f-4e1b-bdfc-b3dee5f8b9d8",
   "metadata": {},
   "outputs": [
    {
     "data": {
      "text/plain": [
       "['__doc__',\n",
       " '__loader__',\n",
       " '__name__',\n",
       " '__package__',\n",
       " '__spec__',\n",
       " 'acos',\n",
       " 'acosh',\n",
       " 'asin',\n",
       " 'asinh',\n",
       " 'atan',\n",
       " 'atan2',\n",
       " 'atanh',\n",
       " 'cbrt',\n",
       " 'ceil',\n",
       " 'comb',\n",
       " 'copysign',\n",
       " 'cos',\n",
       " 'cosh',\n",
       " 'degrees',\n",
       " 'dist',\n",
       " 'e',\n",
       " 'erf',\n",
       " 'erfc',\n",
       " 'exp',\n",
       " 'exp2',\n",
       " 'expm1',\n",
       " 'fabs',\n",
       " 'factorial',\n",
       " 'floor',\n",
       " 'fmod',\n",
       " 'frexp',\n",
       " 'fsum',\n",
       " 'gamma',\n",
       " 'gcd',\n",
       " 'hypot',\n",
       " 'inf',\n",
       " 'isclose',\n",
       " 'isfinite',\n",
       " 'isinf',\n",
       " 'isnan',\n",
       " 'isqrt',\n",
       " 'lcm',\n",
       " 'ldexp',\n",
       " 'lgamma',\n",
       " 'log',\n",
       " 'log10',\n",
       " 'log1p',\n",
       " 'log2',\n",
       " 'modf',\n",
       " 'nan',\n",
       " 'nextafter',\n",
       " 'perm',\n",
       " 'pi',\n",
       " 'pow',\n",
       " 'prod',\n",
       " 'radians',\n",
       " 'remainder',\n",
       " 'sin',\n",
       " 'sinh',\n",
       " 'sqrt',\n",
       " 'tan',\n",
       " 'tanh',\n",
       " 'tau',\n",
       " 'trunc',\n",
       " 'ulp']"
      ]
     },
     "execution_count": 47,
     "metadata": {},
     "output_type": "execute_result"
    }
   ],
   "source": [
    "dir(math)"
   ]
  },
  {
   "cell_type": "code",
   "execution_count": null,
   "id": "fd0e4268-7bb0-4531-9ffa-ba6de770dbb8",
   "metadata": {},
   "outputs": [],
   "source": [
    "math.pie\n",
    "math.pi\n",
    "math.pi() # pi is a constant \n",
    "# constant does not need brackets"
   ]
  },
  {
   "cell_type": "code",
   "execution_count": 48,
   "id": "986aaf2e-30c6-4812-9e16-4b6f6035e8d4",
   "metadata": {},
   "outputs": [
    {
     "name": "stdout",
     "output_type": "stream",
     "text": [
      "hello\n",
      "bye\n"
     ]
    }
   ],
   "source": [
    "print('hello')\n",
    "print('bye')"
   ]
  },
  {
   "cell_type": "code",
   "execution_count": 12,
   "id": "4023afc8-fe3f-4163-8ffe-fd4ccfc80ac7",
   "metadata": {},
   "outputs": [
    {
     "name": "stdout",
     "output_type": "stream",
     "text": [
      "hello\n",
      "bye\n"
     ]
    }
   ],
   "source": [
    "import time\n",
    "print('hello')\n",
    "time.sleep(5)\n",
    "print('bye')"
   ]
  },
  {
   "cell_type": "code",
   "execution_count": 51,
   "id": "e92154b2-4005-4dbe-a036-b70aa6546d6c",
   "metadata": {},
   "outputs": [
    {
     "data": {
      "text/plain": [
       "35"
      ]
     },
     "execution_count": 51,
     "metadata": {},
     "output_type": "execute_result"
    }
   ],
   "source": [
    "#package name: keyword\n",
    "#method name: kwlist\n",
    "import keyword\n",
    "len(keyword.kwlist)"
   ]
  },
  {
   "cell_type": "code",
   "execution_count": null,
   "id": "4a45eb49-e69c-45f2-9cba-2243a7390473",
   "metadata": {},
   "outputs": [],
   "source": [
    "True\n",
    "False\n",
    "if\n",
    "else\n",
    "for\n",
    "while\n",
    "None\n",
    "elif\n",
    "and\n",
    "def\n",
    "or\n",
    "return\n",
    "class\n",
    "lambda\n",
    "try\n",
    "except\n",
    "continue\n",
    "break\n",
    "pass\n"
   ]
  },
  {
   "cell_type": "code",
   "execution_count": null,
   "id": "ab2683c7-d0af-464c-a7df-d44ef6747e86",
   "metadata": {},
   "outputs": [],
   "source": [
    "randrange is not availalbel\n",
    "cele \n",
    "sample method not understand\n",
    "how to do start and end"
   ]
  },
  {
   "cell_type": "code",
   "execution_count": 2,
   "id": "0cfc6551-eea5-45ba-9bbc-0835f61ddbbf",
   "metadata": {},
   "outputs": [
    {
     "ename": "AttributeError",
     "evalue": "module 'random' has no attribute 'randange'",
     "output_type": "error",
     "traceback": [
      "\u001b[1;31m---------------------------------------------------------------------------\u001b[0m",
      "\u001b[1;31mAttributeError\u001b[0m                            Traceback (most recent call last)",
      "Cell \u001b[1;32mIn[2], line 2\u001b[0m\n\u001b[0;32m      1\u001b[0m \u001b[38;5;28;01mimport\u001b[39;00m \u001b[38;5;21;01mrandom\u001b[39;00m\n\u001b[1;32m----> 2\u001b[0m random\u001b[38;5;241m.\u001b[39mrandange\n",
      "\u001b[1;31mAttributeError\u001b[0m: module 'random' has no attribute 'randange'"
     ]
    }
   ],
   "source": [
    "import random\n",
    "random.randange"
   ]
  },
  {
   "cell_type": "markdown",
   "id": "b9bf5337-1903-47f1-9ae1-46d450e8d3d1",
   "metadata": {},
   "source": [
    "**attribute error**\n",
    "\n",
    "- the method we providedd is no available in that package"
   ]
  },
  {
   "cell_type": "code",
   "execution_count": 3,
   "id": "8d8f1c8b-578d-4450-a7a5-263c86dceba0",
   "metadata": {},
   "outputs": [
    {
     "data": {
      "text/plain": [
       "['BPF',\n",
       " 'LOG4',\n",
       " 'NV_MAGICCONST',\n",
       " 'RECIP_BPF',\n",
       " 'Random',\n",
       " 'SG_MAGICCONST',\n",
       " 'SystemRandom',\n",
       " 'TWOPI',\n",
       " '_ONE',\n",
       " '_Sequence',\n",
       " '_Set',\n",
       " '__all__',\n",
       " '__builtins__',\n",
       " '__cached__',\n",
       " '__doc__',\n",
       " '__file__',\n",
       " '__loader__',\n",
       " '__name__',\n",
       " '__package__',\n",
       " '__spec__',\n",
       " '_accumulate',\n",
       " '_acos',\n",
       " '_bisect',\n",
       " '_ceil',\n",
       " '_cos',\n",
       " '_e',\n",
       " '_exp',\n",
       " '_floor',\n",
       " '_index',\n",
       " '_inst',\n",
       " '_isfinite',\n",
       " '_log',\n",
       " '_os',\n",
       " '_pi',\n",
       " '_random',\n",
       " '_repeat',\n",
       " '_sha512',\n",
       " '_sin',\n",
       " '_sqrt',\n",
       " '_test',\n",
       " '_test_generator',\n",
       " '_urandom',\n",
       " '_warn',\n",
       " 'betavariate',\n",
       " 'choice',\n",
       " 'choices',\n",
       " 'expovariate',\n",
       " 'gammavariate',\n",
       " 'gauss',\n",
       " 'getrandbits',\n",
       " 'getstate',\n",
       " 'lognormvariate',\n",
       " 'normalvariate',\n",
       " 'paretovariate',\n",
       " 'randbytes',\n",
       " 'randint',\n",
       " 'random',\n",
       " 'randrange',\n",
       " 'sample',\n",
       " 'seed',\n",
       " 'setstate',\n",
       " 'shuffle',\n",
       " 'triangular',\n",
       " 'uniform',\n",
       " 'vonmisesvariate',\n",
       " 'weibullvariate']"
      ]
     },
     "execution_count": 3,
     "metadata": {},
     "output_type": "execute_result"
    }
   ],
   "source": [
    "dir(random)"
   ]
  },
  {
   "cell_type": "code",
   "execution_count": 13,
   "id": "a5d7fb71-abaa-44dc-86c4-645c5235cef7",
   "metadata": {},
   "outputs": [
    {
     "data": {
      "text/plain": [
       "<function math.ceil(x, /)>"
      ]
     },
     "execution_count": 13,
     "metadata": {},
     "output_type": "execute_result"
    }
   ],
   "source": [
    "import math\n",
    "math.ceil"
   ]
  },
  {
   "cell_type": "code",
   "execution_count": 5,
   "id": "4e4802c7-110b-4e28-b90a-14d79caf0929",
   "metadata": {},
   "outputs": [
    {
     "name": "stdout",
     "output_type": "stream",
     "text": [
      "Help on method choice in module random:\n",
      "\n",
      "choice(seq) method of random.Random instance\n",
      "    Choose a random element from a non-empty sequence.\n",
      "\n"
     ]
    }
   ],
   "source": [
    "help(random.choice)"
   ]
  },
  {
   "cell_type": "code",
   "execution_count": 14,
   "id": "aee21d2e-7b12-419d-bfc0-69d280b5a21a",
   "metadata": {},
   "outputs": [
    {
     "data": {
      "text/plain": [
       "'A'"
      ]
     },
     "execution_count": 14,
     "metadata": {},
     "output_type": "execute_result"
    }
   ],
   "source": [
    "random.choice(['A','B','C'])"
   ]
  },
  {
   "cell_type": "code",
   "execution_count": 7,
   "id": "dfbdec32-c172-40e9-955f-ccc64d11dbb6",
   "metadata": {},
   "outputs": [
    {
     "name": "stdout",
     "output_type": "stream",
     "text": [
      "Help on method sample in module random:\n",
      "\n",
      "sample(population, k, *, counts=None) method of random.Random instance\n",
      "    Chooses k unique random elements from a population sequence.\n",
      "    \n",
      "    Returns a new list containing elements from the population while\n",
      "    leaving the original population unchanged.  The resulting list is\n",
      "    in selection order so that all sub-slices will also be valid random\n",
      "    samples.  This allows raffle winners (the sample) to be partitioned\n",
      "    into grand prize and second place winners (the subslices).\n",
      "    \n",
      "    Members of the population need not be hashable or unique.  If the\n",
      "    population contains repeats, then each occurrence is a possible\n",
      "    selection in the sample.\n",
      "    \n",
      "    Repeated elements can be specified one at a time or with the optional\n",
      "    counts parameter.  For example:\n",
      "    \n",
      "        sample(['red', 'blue'], counts=[4, 2], k=5)\n",
      "    \n",
      "    is equivalent to:\n",
      "    \n",
      "        sample(['red', 'red', 'red', 'red', 'blue', 'blue'], k=5)\n",
      "    \n",
      "    To choose a sample from a range of integers, use range() for the\n",
      "    population argument.  This is especially fast and space efficient\n",
      "    for sampling from a large population:\n",
      "    \n",
      "        sample(range(10000000), 60)\n",
      "\n"
     ]
    }
   ],
   "source": [
    "help(random.sample)"
   ]
  },
  {
   "cell_type": "code",
   "execution_count": 8,
   "id": "23104716-17bf-42ad-8235-2dc45e3e1ba9",
   "metadata": {},
   "outputs": [
    {
     "data": {
      "text/plain": [
       "['blue', 'red', 'red']"
      ]
     },
     "execution_count": 8,
     "metadata": {},
     "output_type": "execute_result"
    }
   ],
   "source": [
    "random.sample(['red', 'red', 'red', 'red', 'blue', 'blue'],k=3)"
   ]
  },
  {
   "cell_type": "code",
   "execution_count": 10,
   "id": "6d2dfb6f-13ae-4a83-9e66-dc0ad25e10c4",
   "metadata": {},
   "outputs": [
    {
     "name": "stdout",
     "output_type": "stream",
     "text": [
      "hai\n"
     ]
    }
   ],
   "source": [
    "import time\n",
    "time.sleep(5)\n",
    "print('hai')"
   ]
  },
  {
   "cell_type": "code",
   "execution_count": null,
   "id": "cdf213df-b81f-469f-a0b1-f047315c8bdc",
   "metadata": {},
   "outputs": [],
   "source": [
    "some time we need to check how much time is taking\n",
    "to execute the code lines\n",
    "time.time()   hyd  10am\n",
    "time.time()   delhi 6pm next "
   ]
  },
  {
   "cell_type": "code",
   "execution_count": 13,
   "id": "ac7d4303-4be8-4b50-8aec-c251aa235516",
   "metadata": {},
   "outputs": [
    {
     "name": "stdout",
     "output_type": "stream",
     "text": [
      "5.0017242431640625\n"
     ]
    }
   ],
   "source": [
    "start=time.time()\n",
    "time.sleep(5)\n",
    "end=time.time()\n",
    "print(end-start)"
   ]
  },
  {
   "cell_type": "code",
   "execution_count": null,
   "id": "e4f17c92-afc7-433a-a666-eaa136a8a8db",
   "metadata": {},
   "outputs": [],
   "source": [
    "random.sample(['red', 'red', 'red', 'red', 'blue', 'blue'],k=3)\n"
   ]
  },
  {
   "cell_type": "code",
   "execution_count": 14,
   "id": "0b3e08ee-dd2c-42bd-b35d-3a38eb275ed9",
   "metadata": {},
   "outputs": [
    {
     "data": {
      "text/plain": [
       "9"
      ]
     },
     "execution_count": 14,
     "metadata": {},
     "output_type": "execute_result"
    }
   ],
   "source": [
    "import random\n",
    "random.randint(1,10)"
   ]
  },
  {
   "cell_type": "code",
   "execution_count": 15,
   "id": "c65c5eab-b632-4c5a-adfd-8ea05f1d7659",
   "metadata": {},
   "outputs": [
    {
     "data": {
      "text/plain": [
       "1"
      ]
     },
     "execution_count": 15,
     "metadata": {},
     "output_type": "execute_result"
    }
   ],
   "source": [
    "from random import randint\n",
    "randint(1,10)"
   ]
  },
  {
   "cell_type": "code",
   "execution_count": 16,
   "id": "b5fe16fc-38c9-4e00-933a-8567cbc55f9b",
   "metadata": {},
   "outputs": [
    {
     "data": {
      "text/plain": [
       "5.0"
      ]
     },
     "execution_count": 16,
     "metadata": {},
     "output_type": "execute_result"
    }
   ],
   "source": [
    "import math\n",
    "math.sqrt(25)"
   ]
  },
  {
   "cell_type": "code",
   "execution_count": 17,
   "id": "ad5f84f3-e689-4b46-851d-99474bfd35e8",
   "metadata": {},
   "outputs": [
    {
     "data": {
      "text/plain": [
       "5.0"
      ]
     },
     "execution_count": 17,
     "metadata": {},
     "output_type": "execute_result"
    }
   ],
   "source": [
    "from math import sqrt\n",
    "sqrt(25)"
   ]
  },
  {
   "cell_type": "code",
   "execution_count": 18,
   "id": "1ed99153-6e42-4fcd-82e4-8cd646d03c55",
   "metadata": {},
   "outputs": [
    {
     "data": {
      "text/plain": [
       "4"
      ]
     },
     "execution_count": 18,
     "metadata": {},
     "output_type": "execute_result"
    }
   ],
   "source": [
    "from random import randint as rt\n",
    "rt(1,10)"
   ]
  },
  {
   "cell_type": "code",
   "execution_count": null,
   "id": "259b6b5b-755c-4396-9b95-ee435fc97c27",
   "metadata": {},
   "outputs": [],
   "source": [
    "import random\n",
    "random.randint(1,10)\n",
    "\n",
    "from random import randint\n",
    "randint(1,10)\n",
    "\n",
    "from random import randint as rt\n",
    "rt(1,10)"
   ]
  },
  {
   "cell_type": "code",
   "execution_count": 19,
   "id": "879efd5b-550a-4e27-9efb-d3788359392b",
   "metadata": {},
   "outputs": [],
   "source": [
    "import cv2  # computer vision"
   ]
  },
  {
   "cell_type": "code",
   "execution_count": 20,
   "id": "7492d2a6-af7c-4844-86a8-f8dc6f216624",
   "metadata": {},
   "outputs": [],
   "source": [
    "import wordcloud # pasting the words on the cloud"
   ]
  },
  {
   "cell_type": "markdown",
   "id": "c8c16b5b-01cb-44f3-8df2-d0983f75c636",
   "metadata": {},
   "source": [
    "**module not found error**"
   ]
  },
  {
   "cell_type": "markdown",
   "id": "ce49c91d-51a4-4d83-8944-26deff94dc37",
   "metadata": {},
   "source": [
    "- whenever packages are not there we need to install\n",
    "\n",
    "- 90% the install name and import name both are same\n",
    "\n",
    "- always reference as pypi.org\n",
    "\n",
    "- syntax is :  pip install packagename\n",
    "\n",
    "    - pip install wordcloud\n",
    "\n",
    "    - pip install cv2(we are not sure)\n",
    "\n",
    "- we can install the packages in **anaconda prompt**\n",
    "\n",
    "- or we can install inside jupyter notebook (not recomended)\n",
    "\n",
    "- inorder to install the packages we need internet\n",
    "\n",
    "- if internet not suffucient or not available the will get http error"
   ]
  },
  {
   "cell_type": "code",
   "execution_count": 21,
   "id": "8c33b80c-3486-455e-9ada-c8723ad83b59",
   "metadata": {},
   "outputs": [],
   "source": [
    "import wordcloud"
   ]
  },
  {
   "cell_type": "code",
   "execution_count": 22,
   "id": "e1a572cc-ced2-4a67-ae44-aa7b9b1e9f30",
   "metadata": {},
   "outputs": [
    {
     "name": "stdout",
     "output_type": "stream",
     "text": [
      "Requirement already satisfied: opencv-python in c:\\users\\omkar\\anaconda3\\lib\\site-packages (4.9.0.80)\n",
      "Requirement already satisfied: numpy>=1.21.2 in c:\\users\\omkar\\anaconda3\\lib\\site-packages (from opencv-python) (1.26.4)\n",
      "Note: you may need to restart the kernel to use updated packages.\n"
     ]
    }
   ],
   "source": [
    "pip install opencv-python"
   ]
  },
  {
   "cell_type": "code",
   "execution_count": null,
   "id": "2ea592a3-c781-447c-94a0-ef329195fd71",
   "metadata": {},
   "outputs": [],
   "source": [
    "# if you are getting error in jupyter notebook\n",
    "# add ! mark\n",
    "!pip install opencv-python"
   ]
  },
  {
   "cell_type": "code",
   "execution_count": 1,
   "id": "4eedc9bf-775f-468d-9ab9-439b2150446e",
   "metadata": {},
   "outputs": [
    {
     "name": "stdout",
     "output_type": "stream",
     "text": [
      "aiobotocore @ file:///C:/b/abs_a0zxrsvpwx/croot/aiobotocore_1714464454692/workNote: you may need to restart the kernel to use updated packages.\n",
      "\n",
      "aiohappyeyeballs @ file:///C:/b/abs_b505trsapr/croot/aiohappyeyeballs_1725434036096/work\n",
      "aiohttp @ file:///C:/b/abs_13j6efxjb7/croot/aiohttp_1725529348885/work\n",
      "aioitertools @ file:///tmp/build/80754af9/aioitertools_1607109665762/work\n",
      "aiosignal @ file:///tmp/build/80754af9/aiosignal_1637843061372/work\n",
      "alabaster @ file:///C:/b/abs_45ba4vacaj/croot/alabaster_1718201502252/work\n",
      "altair @ file:///C:/Users/dev-admin/perseverance-python-buildout/croot/altair_1699497320503/work\n",
      "anaconda-anon-usage @ file:///C:/b/abs_c3w_h1zzjg/croot/anaconda-anon-usage_1710965204622/work\n",
      "anaconda-catalogs @ file:///C:/Users/dev-admin/perseverance-python-buildout/croot/anaconda-catalogs_1701816586117/work\n",
      "anaconda-client @ file:///C:/b/abs_34txutm0ue/croot/anaconda-client_1708640705294/work\n",
      "anaconda-cloud-auth @ file:///C:/b/abs_b02evi84gh/croot/anaconda-cloud-auth_1713991445770/work\n",
      "anaconda-navigator @ file:///C:/b/abs_a5gzce6vy0/croot/anaconda-navigator_1727709729163/work\n",
      "anaconda-project @ file:///C:/b/abs_95s0l9dwvd/croot/anaconda-project_1706049257687/work\n",
      "annotated-types @ file:///C:/b/abs_0dmaoyhhj3/croot/annotated-types_1709542968311/work\n",
      "anyio @ file:///C:/b/abs_847uobe7ea/croot/anyio_1706220224037/work\n",
      "appdirs==1.4.4\n",
      "archspec @ file:///croot/archspec_1709217642129/work\n",
      "argon2-cffi @ file:///opt/conda/conda-bld/argon2-cffi_1645000214183/work\n",
      "argon2-cffi-bindings @ file:///C:/Users/dev-admin/perseverance-python-buildout/croot/argon2-cffi-bindings_1699549801117/work\n",
      "arrow @ file:///C:/Users/dev-admin/perseverance-python-buildout/croot/arrow_1699549851004/work\n",
      "astroid @ file:///C:/Users/dev-admin/perseverance-python-buildout/croot/astroid_1699480418189/work\n",
      "astropy @ file:///C:/b/abs_5egnt0gyqe/croot/astropy_1726174619184/work\n",
      "astropy-iers-data @ file:///C:/b/abs_ecdfv0_ea2/croot/astropy-iers-data_1726000550777/work\n",
      "asttokens @ file:///opt/conda/conda-bld/asttokens_1646925590279/work\n",
      "async-lru @ file:///C:/Users/dev-admin/perseverance-python-buildout/croot/async-lru_1701796859357/work\n",
      "atomicwrites==1.4.0\n",
      "attrs @ file:///C:/Users/dev-admin/perseverance-python-buildout/croot/attrs_1699473735254/work\n",
      "Automat @ file:///tmp/build/80754af9/automat_1600298431173/work\n",
      "autopep8 @ file:///croot/autopep8_1708962882016/work\n",
      "Babel @ file:///C:/Users/dev-admin/perseverance-python-buildout/croot/babel_1699475785740/work\n",
      "bcrypt @ file:///C:/Users/dev-admin/perseverance-python-buildout/croot/bcrypt_1699483842258/work\n",
      "beautifulsoup4 @ file:///C:/b/abs_d5wytg_p0w/croot/beautifulsoup4-split_1718029833749/work\n",
      "binaryornot @ file:///tmp/build/80754af9/binaryornot_1617751525010/work\n",
      "black @ file:///C:/b/abs_3arhghl9_x/croot/black_1725573890945/work\n",
      "bleach @ file:///opt/conda/conda-bld/bleach_1641577558959/work\n",
      "blinker @ file:///C:/Users/dev-admin/perseverance-python-buildout/croot/blinker_1699474692786/work\n",
      "bokeh @ file:///C:/b/abs_b40zi4jp_s/croot/bokeh_1727914495891/work\n",
      "boltons @ file:///C:/Users/dev-admin/perseverance-python-buildout/croot/boltons_1699480450092/work\n",
      "botocore @ file:///C:/b/abs_0dkeqep0ox/croot/botocore_1714460586193/work\n",
      "Bottleneck @ file:///C:/b/abs_f7un855idq/croot/bottleneck_1709069969633/work\n",
      "Brotli @ file:///C:/b/abs_3d36mno480/croot/brotli-split_1714483178642/work\n",
      "cachetools @ file:///C:/b/abs_792zbtc0ua/croot/cachetools_1713977157919/work\n",
      "certifi @ file:///C:/b/abs_1fw_exq1si/croot/certifi_1725551736618/work/certifi\n",
      "cffi @ file:///C:/b/abs_90yq4lmu83/croot/cffi_1726856448345/work\n",
      "chardet @ file:///C:/Users/dev-admin/perseverance-python-buildout/croot/chardet_1699498892802/work\n",
      "charset-normalizer @ file:///croot/charset-normalizer_1721748349566/work\n",
      "click @ file:///C:/Users/dev-admin/perseverance-python-buildout/croot/click_1699473800648/work\n",
      "cloudpickle @ file:///C:/b/abs_8abv3sva4p/croot/cloudpickle_1721657372632/work\n",
      "colorama @ file:///C:/Users/dev-admin/perseverance-python-buildout/croot/colorama_1699472650914/work\n",
      "colorcet @ file:///C:/b/abs_7ep0mfawez/croot/colorcet_1709758405232/work\n",
      "comm @ file:///C:/b/abs_67a8058udb/croot/comm_1709322909844/work\n",
      "conda @ file:///C:/b/abs_85jnuwc__u/croot/conda_1729193917673/work\n",
      "conda-build @ file:///C:/b/abs_afd1hjce19/croot/conda-build_1726839930400/work\n",
      "conda-content-trust @ file:///C:/b/abs_bdfatn_wzf/croot/conda-content-trust_1714483201909/work\n",
      "conda-libmamba-solver @ file:///croot/conda-libmamba-solver_1727775630457/work/src\n",
      "conda-pack @ file:///C:/b/abs_0cu91sbau5/croot/conda-pack_1710258097566/work\n",
      "conda-package-handling @ file:///C:/b/abs_831_pypuuz/croot/conda-package-handling_1718138287790/work\n",
      "conda-repo-cli @ file:///C:/b/abs_67rnnns_lt/croot/conda-repo-cli_1727366919559/work\n",
      "conda-token @ file:///croot/conda-token_1718995751285/work\n",
      "conda_index @ file:///C:/b/abs_45v3w98im_/croot/conda-index_1719338245731/work\n",
      "conda_package_streaming @ file:///C:/b/abs_fe6zb0_j8_/croot/conda-package-streaming_1718136098642/work\n",
      "constantly @ file:///C:/b/abs_cbuavw4443/croot/constantly_1703165617403/work\n",
      "contourpy @ file:///C:/Users/dev-admin/perseverance-python-buildout/croot/contourpy_1701817388761/work\n",
      "cookiecutter @ file:///C:/b/abs_66untpu1ub/croot/cookiecutter_1711059869779/work\n",
      "cryptography @ file:///C:/b/abs_35g500qir4/croot/cryptography_1724940575116/work\n",
      "cssselect @ file:///C:/b/abs_71gnjab7b0/croot/cssselect_1707339955530/work\n",
      "cycler @ file:///tmp/build/80754af9/cycler_1637851556182/work\n",
      "cytoolz @ file:///C:/b/abs_d43s8lnb60/croot/cytoolz_1701723636699/work\n",
      "dask @ file:///C:/b/abs_12bk4i_z1j/croot/dask-core_1725464350376/work\n",
      "dask-expr @ file:///C:/b/abs_d8e1rqubql/croot/dask-expr_1725523012670/work\n",
      "datashader @ file:///C:/b/abs_37m05texdf/croot/datashader_1720534925330/work\n",
      "debugpy @ file:///C:/Users/dev-admin/perseverance-python-buildout/croot/debugpy_1699554994633/work\n",
      "decorator @ file:///opt/conda/conda-bld/decorator_1643638310831/work\n",
      "defusedxml @ file:///tmp/build/80754af9/defusedxml_1615228127516/work\n",
      "diff-match-patch @ file:///Users/ktietz/demo/mc3/conda-bld/diff-match-patch_1630511840874/work\n",
      "dill @ file:///C:/b/abs_f79eg27d2q/croot/dill_1715094735295/work\n",
      "distributed @ file:///C:/b/abs_52ju83vjqr/croot/distributed_1725523030746/work\n",
      "distro @ file:///C:/b/abs_71xr36ua5r/croot/distro_1714488282676/work\n",
      "docstring-to-markdown @ file:///C:/Users/dev-admin/perseverance-python-buildout/croot/docstring-to-markdown_1699484265167/work\n",
      "docutils @ file:///C:/Users/dev-admin/perseverance-python-buildout/croot/docutils_1699474820579/work\n",
      "et-xmlfile @ file:///C:/Users/dev-admin/perseverance-python-buildout/croot/et_xmlfile_1699500373144/work\n",
      "executing @ file:///opt/conda/conda-bld/executing_1646925071911/work\n",
      "fastjsonschema @ file:///C:/Users/dev-admin/perseverance-python-buildout/croot/python-fastjsonschema_1699475134300/work\n",
      "filelock @ file:///C:/Users/dev-admin/perseverance-python-buildout/croot/filelock_1701807523603/work\n",
      "flake8 @ file:///C:/b/abs_caud66drfv/croot/flake8_1708965316778/work\n",
      "Flask @ file:///C:/b/abs_f9w7doyu0h/croot/flask_1716545924884/work\n",
      "fonttools @ file:///C:/b/abs_f47gnfqnx0/croot/fonttools_1713551644747/work\n",
      "frozendict @ file:///C:/b/abs_2alamqss6p/croot/frozendict_1713194885124/work\n",
      "frozenlist @ file:///C:/Users/dev-admin/perseverance-python-buildout/croot/frozenlist_1699557027827/work\n",
      "fsspec @ file:///C:/b/abs_02vh2bpxfo/croot/fsspec_1724855601370/work\n",
      "gensim @ file:///C:/b/abs_efsh9stgvi/croot/gensim_1725376635600/work\n",
      "gitdb @ file:///tmp/build/80754af9/gitdb_1617117951232/work\n",
      "GitPython @ file:///C:/b/abs_2bkslnqz4i/croot/gitpython_1720455044865/work\n",
      "greenlet @ file:///C:/b/abs_a6c75ie0bc/croot/greenlet_1702060012174/work\n",
      "h11 @ file:///C:/b/abs_1czwoyexjf/croot/h11_1706652332846/work\n",
      "h5py @ file:///C:/b/abs_c4ha_1xv14/croot/h5py_1715094776210/work\n",
      "HeapDict @ file:///Users/ktietz/demo/mc3/conda-bld/heapdict_1630598515714/work\n",
      "holoviews @ file:///C:/b/abs_5f962ukrbq/croot/holoviews_1720534381286/work\n",
      "httpcore @ file:///C:/b/abs_55n7g233bw/croot/httpcore_1706728507241/work\n",
      "httpx @ file:///C:/b/abs_43e135shby/croot/httpx_1723474830126/work\n",
      "hvplot @ file:///C:/b/abs_b05v45vms6/croot/hvplot_1727775587313/work\n",
      "hyperlink @ file:///tmp/build/80754af9/hyperlink_1610130746837/work\n",
      "idna @ file:///C:/b/abs_aad84bnnw5/croot/idna_1714398896795/work\n",
      "imagecodecs @ file:///C:/Users/dev-admin/perseverance-python-buildout/croot/imagecodecs_1699481498787/work\n",
      "imageio @ file:///C:/b/abs_aeqerw_nps/croot/imageio_1707247365204/work\n",
      "imagesize @ file:///C:/Users/dev-admin/perseverance-python-buildout/croot/imagesize_1699476341924/work\n",
      "imbalanced-learn @ file:///C:/b/abs_43zx11b5ex/croot/imbalanced-learn_1718132243956/work\n",
      "importlib-metadata @ file:///C:/b/abs_c1egths604/croot/importlib_metadata-suite_1704813568388/work\n",
      "incremental @ file:///croot/incremental_1708639938299/work\n",
      "inflection @ file:///C:/Users/dev-admin/perseverance-python-buildout/croot/inflection_1699500974258/work\n",
      "iniconfig @ file:///home/linux1/recipes/ci/iniconfig_1610983019677/work\n",
      "intake @ file:///C:/b/abs_ebww2no2x2/croot/intake_1726109581477/work\n",
      "intervaltree @ file:///Users/ktietz/demo/mc3/conda-bld/intervaltree_1630511889664/work\n",
      "ipykernel @ file:///C:/b/abs_c2u94kxcy6/croot/ipykernel_1705933907920/work\n",
      "ipython @ file:///C:/b/abs_53it5seiim/croot/ipython_1726064251844/work\n",
      "ipython-genutils @ file:///tmp/build/80754af9/ipython_genutils_1606773439826/work\n",
      "ipywidgets @ file:///C:/b/abs_4fgmepzmbu/croot/ipywidgets_1710961556913/work\n",
      "isort @ file:///C:/b/abs_50iy840e4z/croot/isort_1718291849200/work\n",
      "itemadapter @ file:///tmp/build/80754af9/itemadapter_1626442940632/work\n",
      "itemloaders @ file:///C:/b/abs_5e3azgv25z/croot/itemloaders_1708639993442/work\n",
      "itsdangerous @ file:///C:/b/abs_c4vwgdr5yn/croot/itsdangerous_1716533399914/work\n",
      "jaraco.classes @ file:///tmp/build/80754af9/jaraco.classes_1620983179379/work\n",
      "jedi @ file:///C:/b/abs_1b8kmj7rrm/croot/jedi_1721058359741/work\n",
      "jellyfish @ file:///C:/Users/dev-admin/perseverance-python-buildout/croot/jellyfish_1699558116601/work\n",
      "Jinja2 @ file:///C:/b/abs_92fccttino/croot/jinja2_1716993447201/work\n",
      "jmespath @ file:///C:/Users/dev-admin/perseverance-python-buildout/croot/jmespath_1701807551985/work\n",
      "joblib @ file:///C:/b/abs_f4b98l6lgk/croot/joblib_1718217224240/work\n",
      "json5 @ file:///tmp/build/80754af9/json5_1624432770122/work\n",
      "jsonpatch @ file:///C:/b/abs_4fdm88t7zi/croot/jsonpatch_1714483974578/work\n",
      "jsonpointer==2.1\n",
      "jsonschema @ file:///C:/b/abs_394_t6__xq/croot/jsonschema_1728486718320/work\n",
      "jsonschema-specifications @ file:///C:/Users/dev-admin/py312/jsonschema-specifications_1706803038066/work\n",
      "jupyter @ file:///C:/b/abs_03nm7xrhxz/croot/jupyter_1709837239940/work\n",
      "jupyter-console @ file:///C:/Users/dev-admin/perseverance-python-buildout/croot/jupyter_console_1707430148515/work\n",
      "jupyter-events @ file:///C:/b/abs_c2m9s5b5m5/croot/jupyter_events_1718738115254/work\n",
      "jupyter-lsp @ file:///C:/Users/dev-admin/perseverance-python-buildout/croot/jupyter-lsp-meta_1701806528286/work\n",
      "jupyter_client @ file:///C:/Users/dev-admin/perseverance-python-buildout/croot/jupyter_client_1701796382758/work\n",
      "jupyter_core @ file:///C:/b/abs_beftpbuevw/croot/jupyter_core_1718818307097/work\n",
      "jupyter_server @ file:///C:/b/abs_9a333nh6yu/croot/jupyter_server_1718827092223/work\n",
      "jupyter_server_terminals @ file:///C:/Users/dev-admin/perseverance-python-buildout/croot/jupyter_server_terminals_1701798041635/work\n",
      "jupyterlab @ file:///C:/b/abs_88qjk9lo2r/croot/jupyterlab_1725895228333/work\n",
      "jupyterlab-pygments @ file:///tmp/build/80754af9/jupyterlab_pygments_1601490720602/work\n",
      "jupyterlab-widgets @ file:///tmp/build/80754af9/jupyterlab_widgets_1609884341231/work\n",
      "jupyterlab_server @ file:///C:/b/abs_fdi5r_tpjc/croot/jupyterlab_server_1725865372811/work\n",
      "keyring @ file:///C:/b/abs_78uoj9sw00/croot/keyring_1709632550180/work\n",
      "kiwisolver @ file:///C:/Users/dev-admin/perseverance-python-buildout/croot/kiwisolver_1699476425777/work\n",
      "lazy-object-proxy @ file:///C:/b/abs_19td_nzb6n/croot/lazy-object-proxy_1712908735070/work\n",
      "lazy_loader @ file:///C:/b/abs_3fs2i5w5p3/croot/lazy_loader_1718176758844/work\n",
      "lckr_jupyterlab_variableinspector @ file:///C:/Users/dev-admin/perseverance-python-buildout/croot/jupyterlab-variableinspector_1709167201477/work\n",
      "libarchive-c @ file:///croot/python-libarchive-c_1726069797193/work\n",
      "libmambapy @ file:///C:/b/abs_aam1usey89/croot/mamba-split_1725563515831/work/libmambapy\n",
      "linkify-it-py @ file:///C:/Users/dev-admin/perseverance-python-buildout/croot/linkify-it-py_1699558957411/work\n",
      "llvmlite @ file:///C:/b/abs_80rinyr2fr/croot/llvmlite_1720455223586/work\n",
      "lmdb @ file:///C:/Users/dev-admin/perseverance-python-buildout/croot/python-lmdb_1699495888630/work\n",
      "locket @ file:///C:/Users/dev-admin/perseverance-python-buildout/croot/locket_1699476508014/work\n",
      "lxml==5.2.1\n",
      "lz4 @ file:///C:/Users/dev-admin/perseverance-python-buildout/croot/lz4_1699559532268/work\n",
      "Markdown @ file:///C:/Users/dev-admin/perseverance-python-buildout/croot/markdown_1699503092856/work\n",
      "markdown-it-py @ file:///C:/Users/dev-admin/perseverance-python-buildout/croot/markdown-it-py_1699473886965/work\n",
      "MarkupSafe @ file:///C:/Users/dev-admin/perseverance-python-buildout/croot/markupsafe_1707425732791/work\n",
      "matplotlib==3.9.2\n",
      "matplotlib-inline @ file:///C:/Users/dev-admin/perseverance-python-buildout/croot/matplotlib-inline_1699484796387/work\n",
      "mccabe @ file:///opt/conda/conda-bld/mccabe_1644221741721/work\n",
      "mdit-py-plugins @ file:///C:/Users/dev-admin/perseverance-python-buildout/croot/mdit-py-plugins_1699559788389/work\n",
      "mdurl @ file:///C:/Users/dev-admin/perseverance-python-buildout/croot/mdurl_1699473506455/work\n",
      "menuinst @ file:///C:/b/abs_76jwd47ck1/croot/menuinst_1723567618942/work\n",
      "mistune @ file:///C:/Users/dev-admin/perseverance-python-buildout/croot/mistune_1699559923704/work\n",
      "mkl-service==2.4.0\n",
      "mkl_fft @ file:///C:/b/abs_f55mv94vyg/croot/mkl_fft_1725370278455/work\n",
      "mkl_random @ file:///C:/b/abs_21ydbzdu8d/croot/mkl_random_1725370276095/work\n",
      "more-itertools @ file:///C:/b/abs_a2n4mhb8gn/croot/more-itertools_1727185463826/work\n",
      "mpmath @ file:///C:/Users/dev-admin/perseverance-python-buildout/croot/mpmath_1699484863771/work\n",
      "msgpack @ file:///C:/Users/dev-admin/perseverance-python-buildout/croot/msgpack-python_1699473924872/work\n",
      "multidict @ file:///C:/b/abs_44ido987fv/croot/multidict_1701097803486/work\n",
      "multipledispatch @ file:///C:/Users/dev-admin/perseverance-python-buildout/croot/multipledispatch_1699473951974/work\n",
      "mypy @ file:///C:/b/abs_b8k0j63oc7/croot/mypy-split_1725574346532/work\n",
      "mypy-extensions @ file:///C:/Users/dev-admin/perseverance-python-buildout/croot/mypy_extensions_1699482634516/work\n",
      "navigator-updater @ file:///C:/b/abs_22_3uaq2ey/croot/navigator-updater_1718030405023/work\n",
      "nbclient @ file:///C:/Users/dev-admin/perseverance-python-buildout/croot/nbclient_1701796752236/work\n",
      "nbconvert @ file:///C:/b/abs_ac6qnzi3no/croot/nbconvert_1728050663985/work\n",
      "nbformat @ file:///C:/b/abs_c2jkw46etm/croot/nbformat_1728050303821/work\n",
      "nest-asyncio @ file:///C:/b/abs_65d6lblmoi/croot/nest-asyncio_1708532721305/work\n",
      "networkx @ file:///C:/b/abs_36fmumtynt/croot/networkx_1720002497414/work\n",
      "nltk @ file:///C:/b/abs_3e10flry37/croot/nltk_1724427703710/work\n",
      "notebook @ file:///C:/b/abs_feeub5ouq6/croot/notebook_1727197380211/work\n",
      "notebook_shim @ file:///C:/Users/dev-admin/perseverance-python-buildout/croot/notebook-shim_1701806592322/work\n",
      "numba @ file:///C:/b/abs_51yyu3qucu/croot/numba_1720540987599/work\n",
      "numexpr @ file:///C:/Users/dev-admin/perseverance-python-buildout/croot/numexpr_1699503421264/work\n",
      "numpy @ file:///C:/b/abs_c1ywpu18ar/croot/numpy_and_numpy_base_1708638681471/work/dist/numpy-1.26.4-cp312-cp312-win_amd64.whl#sha256=becc06674317799ad0165a939a7613809d0bee9bd328a1e4308c57c39cacf08c\n",
      "numpydoc @ file:///C:/b/abs_bbspp5l8vu/croot/numpydoc_1718279185573/work\n",
      "opencv-python==4.10.0.84\n",
      "openpyxl @ file:///C:/b/abs_0e6ca21lac/croot/openpyxl_1721752965859/work\n",
      "overrides @ file:///C:/Users/dev-admin/perseverance-python-buildout/croot/overrides_1701806336503/work\n",
      "packaging @ file:///C:/b/abs_c3vlh0z4jw/croot/packaging_1720101866539/work\n",
      "pandas @ file:///C:/b/abs_9aotnvvz16/croot/pandas_1718308978393/work/dist/pandas-2.2.2-cp312-cp312-win_amd64.whl#sha256=93959056e02e9855025011adb18394296a58d49e72b9342733b7693a5267c790\n",
      "pandocfilters @ file:///opt/conda/conda-bld/pandocfilters_1643405455980/work\n",
      "panel @ file:///C:/b/abs_fas2lxv_bs/croot/panel_1728066386547/work\n",
      "param @ file:///C:/b/abs_b4yato0oux/croot/param_1719347953072/work\n",
      "paramiko @ file:///opt/conda/conda-bld/paramiko_1640109032755/work\n",
      "parsel @ file:///C:/b/abs_ebc3tzm_c4/croot/parsel_1707503517596/work\n",
      "parso @ file:///opt/conda/conda-bld/parso_1641458642106/work\n",
      "partd @ file:///C:/Users/dev-admin/perseverance-python-buildout/croot/partd_1699482661603/work\n",
      "pathspec @ file:///C:/Users/dev-admin/perseverance-python-buildout/croot/pathspec_1699472481068/work\n",
      "patsy @ file:///C:/b/abs_21hy_wyj13/croot/patsy_1718378184379/work\n",
      "pexpect @ file:///tmp/build/80754af9/pexpect_1605563209008/work\n",
      "pickleshare @ file:///tmp/build/80754af9/pickleshare_1606932040724/work\n",
      "pillow @ file:///C:/b/abs_32o8er3uqp/croot/pillow_1721059447598/work\n",
      "pkce @ file:///C:/Users/dev-admin/perseverance-python-buildout/croot/pkce_1699482718905/work\n",
      "pkginfo @ file:///C:/b/abs_bciypal17m/croot/pkginfo_1715696027839/work\n",
      "platformdirs @ file:///C:/Users/dev-admin/perseverance-python-buildout/croot/platformdirs_1701797392447/work\n",
      "plotly @ file:///C:/b/abs_1014knmz1t/croot/plotly_1726245573566/work\n",
      "pluggy @ file:///C:/Users/dev-admin/perseverance-python-buildout/croot/pluggy_1699472504117/work\n",
      "ply @ file:///C:/Users/dev-admin/perseverance-python-buildout/croot/ply_1699473999871/work\n",
      "prometheus-client @ file:///C:/Users/dev-admin/perseverance-python-buildout/croot/prometheus_client_1699495496669/work\n",
      "prompt-toolkit @ file:///C:/b/abs_68uwr58ed1/croot/prompt-toolkit_1704404394082/work\n",
      "Protego @ file:///tmp/build/80754af9/protego_1598657180827/work\n",
      "protobuf==4.25.3\n",
      "psutil @ file:///C:/Users/dev-admin/perseverance-python-buildout/croot/psutil_1699482842340/work\n",
      "ptyprocess @ file:///tmp/build/80754af9/ptyprocess_1609355006118/work/dist/ptyprocess-0.7.0-py2.py3-none-any.whl\n",
      "pure-eval @ file:///opt/conda/conda-bld/pure_eval_1646925070566/work\n",
      "py-cpuinfo @ file:///C:/Users/dev-admin/perseverance-python-buildout/croot/py-cpuinfo_1699495567147/work\n",
      "pyarrow @ file:///C:/b/abs_cbc4sg_1e0/croot/pyarrow_1721664257308/work/python\n",
      "pyasn1 @ file:///Users/ktietz/demo/mc3/conda-bld/pyasn1_1629708007385/work\n",
      "pyasn1-modules==0.2.8\n",
      "pycodestyle @ file:///C:/b/abs_e9pt4mahct/croot/pycodestyle_1701910643139/work\n",
      "pycosat @ file:///C:/b/abs_5csdern___/croot/pycosat_1714513102923/work\n",
      "pycparser @ file:///tmp/build/80754af9/pycparser_1636541352034/work\n",
      "pyct @ file:///C:/Users/dev-admin/perseverance-python-buildout/croot/pyct_1699542988857/work\n",
      "pycurl @ file:///C:/b/abs_2bemyov07c/croot/pycurl_1725370252605/work\n",
      "pydantic @ file:///C:/b/abs_b7acb4hnl_/croot/pydantic_1725040540545/work\n",
      "pydantic_core @ file:///C:/b/abs_3ax4s6v28p/croot/pydantic-core_1724790490828/work\n",
      "pydeck @ file:///C:/b/abs_ad9p880wi1/croot/pydeck_1706194121328/work\n",
      "PyDispatcher @ file:///C:/Users/dev-admin/perseverance-python-buildout/croot/pydispatcher_1699543033434/work\n",
      "pydocstyle @ file:///C:/Users/dev-admin/perseverance-python-buildout/croot/pydocstyle_1699495611004/work\n",
      "pyerfa @ file:///C:/b/abs_477fivsfe8/croot/pyerfa_1717700768172/work\n",
      "pyflakes @ file:///C:/b/abs_b6t1aazq2e/croot/pyflakes_1708963020907/work\n",
      "Pygments @ file:///C:/Users/dev-admin/perseverance-python-buildout/croot/pygments_1699474141968/work\n",
      "PyJWT @ file:///C:/b/abs_04qhgo75wz/croot/pyjwt_1715095119685/work\n",
      "pylint @ file:///C:/Users/dev-admin/perseverance-python-buildout/croot/pylint_1699495689806/work\n",
      "pylint-venv @ file:///C:/b/abs_3f6p_17zia/croot/pylint-venv_1709837680309/work\n",
      "pyls-spyder==0.4.0\n",
      "PyNaCl @ file:///C:/Users/dev-admin/perseverance-python-buildout/croot/pynacl_1699563077212/work\n",
      "pyodbc @ file:///C:/b/abs_cbgr1yn8qs/croot/pyodbc_1725560257385/work\n",
      "pyOpenSSL @ file:///C:/b/abs_61vvbgrloc/croot/pyopenssl_1723651600236/work\n",
      "pyparsing @ file:///C:/b/abs_520r19rysg/croot/pyparsing_1725041656021/work\n",
      "PyQt5==5.15.10\n",
      "PyQt5-sip @ file:///C:/Users/dev-admin/perseverance-python-buildout/croot/pyqt-split_1699478669290/work/pyqt_sip\n",
      "PyQtWebEngine==5.15.6\n",
      "PySocks @ file:///C:/Users/dev-admin/perseverance-python-buildout/croot/pysocks_1699473336188/work\n",
      "pytest @ file:///C:/b/abs_een_3z747j/croot/pytest_1717793253670/work\n",
      "python-dateutil @ file:///C:/b/abs_3au_koqnbs/croot/python-dateutil_1716495777160/work\n",
      "python-dotenv @ file:///C:/Users/dev-admin/perseverance-python-buildout/croot/python-dotenv_1699475097728/work\n",
      "python-json-logger @ file:///C:/Users/dev-admin/perseverance-python-buildout/croot/python-json-logger_1699543626759/work\n",
      "python-lsp-black @ file:///C:/b/abs_5dhen_5vga/croot/python-lsp-black_1709232962589/work\n",
      "python-lsp-jsonrpc @ file:///croot/python-lsp-jsonrpc_1708962872556/work\n",
      "python-lsp-server @ file:///C:/b/abs_2cdyzvcq4z/croot/python-lsp-server_1708971796975/work\n",
      "python-slugify @ file:///tmp/build/80754af9/python-slugify_1620405669636/work\n",
      "pytoolconfig @ file:///C:/b/abs_f2j_xsvrpn/croot/pytoolconfig_1701728751207/work\n",
      "pytz @ file:///C:/b/abs_6ap4tsz1ox/croot/pytz_1713974360290/work\n",
      "pyviz_comms @ file:///C:/b/abs_674gfmqoxa/croot/pyviz_comms_1711136872853/work\n",
      "PyWavelets @ file:///C:/b/abs_95ujr8_xu1/croot/pywavelets_1725657962149/work\n",
      "pywin32==305.1\n",
      "pywin32-ctypes @ file:///C:/b/abs_2cfx5l4nvi/croot/pywin32-ctypes_1709340246092/work\n",
      "pywinpty @ file:///C:/Users/dev-admin/perseverance-python-buildout/croot/pywinpty_1699496010557/work/target/wheels/pywinpty-2.0.10-cp312-none-win_amd64.whl#sha256=227f3f94f568f63ab3418c02875c4b429a0a3638e1a2917a22bb8e4ba1762179\n",
      "PyYAML @ file:///C:/Users/dev-admin/perseverance-python-buildout/croot/pyyaml_1699479991712/work\n",
      "pyzmq @ file:///C:/b/abs_89aq69t0up/croot/pyzmq_1705605705281/work\n",
      "QDarkStyle @ file:///croot/qdarkstyle_1709231003551/work\n",
      "qstylizer @ file:///C:/Users/dev-admin/perseverance-python-buildout/croot/qstylizer_1699565338341/work/dist/qstylizer-0.2.2-py2.py3-none-any.whl#sha256=be2f7d956d89710f13dee80f2d594e794c2710f12576fe60ecee84dd1ad72180\n",
      "QtAwesome @ file:///C:/b/abs_e1w2vmh9q7/croot/qtawesome_1726169367822/work\n",
      "qtconsole @ file:///C:/b/abs_03f8rg9vl6/croot/qtconsole_1709231218069/work\n",
      "QtPy @ file:///C:/Users/dev-admin/perseverance-python-buildout/croot/qtpy_1701807198514/work\n",
      "queuelib @ file:///C:/Users/dev-admin/perseverance-python-buildout/croot/queuelib_1699543858829/work\n",
      "referencing @ file:///C:/Users/dev-admin/py312/referencing_1706802962559/work\n",
      "regex @ file:///C:/b/abs_5cm86yjgo3/croot/regex_1726670543261/work\n",
      "requests @ file:///C:/b/abs_9frifg92q2/croot/requests_1721410901096/work\n",
      "requests-file @ file:///Users/ktietz/demo/mc3/conda-bld/requests-file_1629455781986/work\n",
      "requests-toolbelt @ file:///C:/Users/dev-admin/perseverance-python-buildout/croot/requests-toolbelt_1699475466775/work\n",
      "rfc3339-validator @ file:///C:/Users/dev-admin/perseverance-python-buildout/croot/rfc3339-validator_1699543924991/work\n",
      "rfc3986-validator @ file:///C:/Users/dev-admin/perseverance-python-buildout/croot/rfc3986-validator_1699543955651/work\n",
      "rich @ file:///C:/b/abs_21nw9z7xby/croot/rich_1720637504376/work\n",
      "rope @ file:///C:/b/abs_a4uy0nuc8z/croot/rope_1708963217026/work\n",
      "rpds-py @ file:///C:/Users/dev-admin/perseverance-python-buildout/croot/rpds-py_1699565648947/work\n",
      "Rtree @ file:///C:/Users/dev-admin/perseverance-python-buildout/croot/rtree_1699565751755/work\n",
      "ruamel-yaml-conda @ file:///C:/Users/dev-admin/perseverance-python-buildout/croot/ruamel_yaml_1699543990032/work\n",
      "ruamel.yaml @ file:///C:/b/abs_0cunwx_ww6/croot/ruamel.yaml_1727980181547/work\n",
      "ruamel.yaml.clib @ file:///C:/b/abs_5fk8zi6n09/croot/ruamel.yaml.clib_1727769837359/work\n",
      "s3fs @ file:///C:/b/abs_ddtjx92ddb/croot/s3fs_1724924140381/work\n",
      "scikit-image @ file:///C:/b/abs_85dh_ywewv/croot/scikit-image_1726762076100/work\n",
      "scikit-learn @ file:///C:/b/abs_aajc9f7v6r/croot/scikit-learn_1722067652693/work/dist/scikit_learn-1.5.1-cp312-cp312-win_amd64.whl#sha256=96ed6defb86c154d2ff360afdbf0c37c33c4c729d4a15c9d8ada0b70fd817816\n",
      "scipy @ file:///C:/b/abs_efv75hqhju/croot/scipy_1717521501389/work/dist/scipy-1.13.1-cp312-cp312-win_amd64.whl#sha256=b29dba691773ea983857b31cad894f31623348583937b6f03783facfd7abc734\n",
      "Scrapy @ file:///C:/b/abs_b407wrcuij/croot/scrapy_1708714755460/work\n",
      "seaborn @ file:///C:/b/abs_ca2mi1rgmn/croot/seaborn_1718303534355/work\n",
      "semver @ file:///C:/b/abs_4bkbn3v6jp/croot/semver_1709243682483/work\n",
      "Send2Trash @ file:///C:/Users/dev-admin/perseverance-python-buildout/croot/send2trash_1701806400767/work\n",
      "service-identity @ file:///Users/ktietz/demo/mc3/conda-bld/service_identity_1629460757137/work\n",
      "setuptools==75.1.0\n",
      "sip @ file:///C:/Users/dev-admin/perseverance-python-buildout/croot/sip_1699475590677/work\n",
      "six @ file:///tmp/build/80754af9/six_1644875935023/work\n",
      "smart-open @ file:///C:/Users/dev-admin/perseverance-python-buildout/croot/smart_open_1699483216058/work\n",
      "smmap @ file:///tmp/build/80754af9/smmap_1611694433573/work\n",
      "sniffio @ file:///C:/b/abs_3akdewudo_/croot/sniffio_1705431337396/work\n",
      "snowballstemmer @ file:///tmp/build/80754af9/snowballstemmer_1637937080595/work\n",
      "sortedcontainers @ file:///tmp/build/80754af9/sortedcontainers_1623949099177/work\n",
      "soupsieve @ file:///C:/Users/dev-admin/perseverance-python-buildout/croot/soupsieve_1699496611169/work\n",
      "Sphinx @ file:///C:/b/abs_67j2y1kkd0/croot/sphinx_1718275396111/work\n",
      "sphinxcontrib-applehelp @ file:///home/ktietz/src/ci/sphinxcontrib-applehelp_1611920841464/work\n",
      "sphinxcontrib-devhelp @ file:///home/ktietz/src/ci/sphinxcontrib-devhelp_1611920923094/work\n",
      "sphinxcontrib-htmlhelp @ file:///tmp/build/80754af9/sphinxcontrib-htmlhelp_1623945626792/work\n",
      "sphinxcontrib-jsmath @ file:///home/ktietz/src/ci/sphinxcontrib-jsmath_1611920942228/work\n",
      "sphinxcontrib-qthelp @ file:///home/ktietz/src/ci/sphinxcontrib-qthelp_1611921055322/work\n",
      "sphinxcontrib-serializinghtml @ file:///C:/b/abs_91266tdnkr/croot/sphinxcontrib-serializinghtml_1718201501959/work\n",
      "spyder @ file:///C:/b/abs_2f04kjngiv/croot/spyder_1727197291220/work\n",
      "spyder-kernels @ file:///C:/b/abs_e5u6y4ldr2/croot/spyder-kernels_1707937767956/work\n",
      "SQLAlchemy @ file:///C:/b/abs_7duxw5rxx8/croot/sqlalchemy_1725885067126/work\n",
      "stack-data @ file:///opt/conda/conda-bld/stack_data_1646927590127/work\n",
      "statsmodels @ file:///C:/b/abs_54b33xdukx/croot/statsmodels_1718381209933/work\n",
      "streamlit @ file:///C:/b/abs_84p_54gim8/croot/streamlit_1724335176234/work\n",
      "sympy @ file:///C:/b/abs_4e4p71hdj_/croot/sympy_1724938208509/work\n",
      "tables @ file:///C:/b/abs_92un5wtnqq/croot/pytables_1725380800658/work\n",
      "tabulate @ file:///C:/Users/dev-admin/perseverance-python-buildout/croot/tabulate_1701812852133/work\n",
      "tblib @ file:///Users/ktietz/demo/mc3/conda-bld/tblib_1629402031467/work\n",
      "tenacity @ file:///C:/b/abs_d2_havtscu/croot/tenacity_1721222514290/work\n",
      "terminado @ file:///C:/Users/dev-admin/perseverance-python-buildout/croot/terminado_1699545066607/work\n",
      "text-unidecode @ file:///Users/ktietz/demo/mc3/conda-bld/text-unidecode_1629401354553/work\n",
      "textdistance @ file:///tmp/build/80754af9/textdistance_1612461398012/work\n",
      "threadpoolctl @ file:///C:/b/abs_def0dwqlft/croot/threadpoolctl_1719407816649/work\n",
      "three-merge @ file:///tmp/build/80754af9/three-merge_1607553261110/work\n",
      "tifffile @ file:///C:/Users/dev-admin/perseverance-python-buildout/croot/tifffile_1699496794322/work\n",
      "tinycss2 @ file:///C:/Users/dev-admin/perseverance-python-buildout/croot/tinycss2_1699545185754/work\n",
      "tldextract @ file:///C:/b/abs_34gknp7o18/croot/tldextract_1723064394448/work\n",
      "toml @ file:///tmp/build/80754af9/toml_1616166611790/work\n",
      "tomli @ file:///C:/Users/dev-admin/perseverance-python-buildout/croot/tomli_1699472528897/work\n",
      "tomlkit @ file:///C:/Users/dev-admin/perseverance-python-buildout/croot/tomlkit_1699475633229/work\n",
      "toolz @ file:///C:/Users/dev-admin/perseverance-python-buildout/croot/toolz_1699474617784/work\n",
      "tornado @ file:///C:/b/abs_7bua0304mj/croot/tornado_1718740122405/work\n",
      "tqdm @ file:///C:/b/abs_77wju137gk/croot/tqdm_1724853945787/work\n",
      "traitlets @ file:///C:/b/abs_bfsnoxl4pq/croot/traitlets_1718227069245/work\n",
      "truststore @ file:///C:/Users/dev-admin/perseverance-python-buildout/croot/truststore_1701881385424/work\n",
      "Twisted @ file:///C:/b/abs_e7yqd811in/croot/twisted_1708702883769/work\n",
      "twisted-iocpsupport @ file:///C:/Users/dev-admin/perseverance-python-buildout/croot/twisted-iocpsupport_1699496891011/work\n",
      "typing_extensions @ file:///C:/b/abs_0as9mdbkfl/croot/typing_extensions_1715268906610/work\n",
      "tzdata @ file:///croot/python-tzdata_1690578112552/work\n",
      "uc-micro-py @ file:///C:/Users/dev-admin/perseverance-python-buildout/croot/uc-micro-py_1699545612984/work\n",
      "ujson @ file:///C:/b/abs_c93a278xy4/croot/ujson_1717598062082/work\n",
      "unicodedata2 @ file:///C:/b/abs_b6apldlg7y/croot/unicodedata2_1713212998255/work\n",
      "Unidecode @ file:///C:/b/abs_4cczv71djp/croot/unidecode_1724790062151/work\n",
      "urllib3 @ file:///C:/b/abs_9a_f8h_bn2/croot/urllib3_1727769836930/work\n",
      "w3lib @ file:///C:/Users/dev-admin/perseverance-python-buildout/croot/w3lib_1709162573908/work\n",
      "watchdog @ file:///C:/b/abs_b3l_3s276z/croot/watchdog_1717166538403/work\n",
      "wcwidth @ file:///Users/ktietz/demo/mc3/conda-bld/wcwidth_1629357192024/work\n",
      "webencodings @ file:///C:/Users/dev-admin/perseverance-python-buildout/croot/webencodings_1699497069416/work\n",
      "websocket-client @ file:///C:/b/abs_5dmnxxoci9/croot/websocket-client_1715878351319/work\n",
      "Werkzeug @ file:///C:/b/abs_8bittcw9jr/croot/werkzeug_1716533366070/work\n",
      "whatthepatch @ file:///C:/Users/dev-admin/perseverance-python-buildout/croot/whatthepatch_1699497134590/work\n",
      "wheel==0.44.0\n",
      "widgetsnbextension @ file:///C:/b/abs_538o2crz7f/croot/widgetsnbextension_1710960099872/work\n",
      "win-inet-pton @ file:///C:/Users/dev-admin/perseverance-python-buildout/croot/win_inet_pton_1699472992992/work\n",
      "wordcloud==1.9.4\n",
      "wrapt @ file:///C:/Users/dev-admin/perseverance-python-buildout/croot/wrapt_1699480231633/work\n",
      "xarray @ file:///C:/Users/dev-admin/perseverance-python-buildout/croot/xarray_1699480274069/work\n",
      "xlwings @ file:///C:/b/abs_bc7ro1xk70/croot/xlwings_1725400109105/work\n",
      "xyzservices @ file:///C:/Users/dev-admin/perseverance-python-buildout/croot/xyzservices_1699548906163/work\n",
      "yapf @ file:///C:/b/abs_8aidayep18/croot/yapf_1708964372649/work\n",
      "yarl @ file:///C:/b/abs_00rcuicx5k/croot/yarl_1726015884215/work\n",
      "zict @ file:///C:/Users/dev-admin/perseverance-python-buildout/croot/zict_1699548979005/work\n",
      "zipp @ file:///C:/Users/dev-admin/perseverance-python-buildout/croot/zipp_1707493775475/work\n",
      "zope.interface @ file:///C:/Users/dev-admin/perseverance-python-buildout/croot/zope.interface_1699497164709/work\n",
      "zstandard @ file:///C:/b/abs_82dff2ths3/croot/zstandard_1728569207191/work\n"
     ]
    }
   ],
   "source": [
    "pip freeze"
   ]
  },
  {
   "cell_type": "code",
   "execution_count": null,
   "id": "4d021c3e-6997-4224-a36f-d6990e0a001a",
   "metadata": {},
   "outputs": [],
   "source": [
    "n1=50  # hard coded\n",
    "n1=eval(input('number')) # user from keyboard\n",
    "n1=random.randint(1,100) # random num"
   ]
  },
  {
   "cell_type": "code",
   "execution_count": 24,
   "id": "8aedc082-0019-41d8-b8ae-6ca8d0cf3ae8",
   "metadata": {},
   "outputs": [
    {
     "data": {
      "text/plain": [
       "300"
      ]
     },
     "execution_count": 24,
     "metadata": {},
     "output_type": "execute_result"
    }
   ],
   "source": [
    "n1=100\n",
    "n2=200\n",
    "add=n1+n2\n",
    "add"
   ]
  },
  {
   "cell_type": "code",
   "execution_count": 25,
   "id": "cb3b076e-a1f2-4c8c-8941-0acd15697a19",
   "metadata": {},
   "outputs": [
    {
     "name": "stdin",
     "output_type": "stream",
     "text": [
      "enter number1: 100\n",
      "enter number2: 200\n"
     ]
    },
    {
     "data": {
      "text/plain": [
       "300"
      ]
     },
     "execution_count": 25,
     "metadata": {},
     "output_type": "execute_result"
    }
   ],
   "source": [
    "n1=eval(input('enter number1:'))\n",
    "n2=eval(input('enter number2:'))\n",
    "add=n1+n2\n",
    "add"
   ]
  },
  {
   "cell_type": "code",
   "execution_count": 27,
   "id": "d76b14af-b2af-4cf2-bcc9-af3bf1964fa8",
   "metadata": {},
   "outputs": [
    {
     "name": "stdout",
     "output_type": "stream",
     "text": [
      "222 181\n"
     ]
    },
    {
     "data": {
      "text/plain": [
       "403"
      ]
     },
     "execution_count": 27,
     "metadata": {},
     "output_type": "execute_result"
    }
   ],
   "source": [
    "n1=random.randint(50,250)\n",
    "n2=random.randint(50,250)\n",
    "print(n1,n2)\n",
    "add=n1+n2\n",
    "add"
   ]
  },
  {
   "cell_type": "code",
   "execution_count": null,
   "id": "a4a9d6fe-1263-4d37-a15a-9724fd012453",
   "metadata": {},
   "outputs": [],
   "source": [
    "n1=100\n",
    "n2=200\n",
    "add=n1+n2\n",
    "add\n",
    "###################################"
   ]
  }
 ],
 "metadata": {
  "kernelspec": {
   "display_name": "Python 3 (ipykernel)",
   "language": "python",
   "name": "python3"
  },
  "language_info": {
   "codemirror_mode": {
    "name": "ipython",
    "version": 3
   },
   "file_extension": ".py",
   "mimetype": "text/x-python",
   "name": "python",
   "nbconvert_exporter": "python",
   "pygments_lexer": "ipython3",
   "version": "3.12.7"
  }
 },
 "nbformat": 4,
 "nbformat_minor": 5
}
