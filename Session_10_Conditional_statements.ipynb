{
 "cells": [
  {
   "cell_type": "markdown",
   "id": "d604e867-a198-4b09-b25a-0c33c69a958e",
   "metadata": {},
   "source": [
    "## Conditional statements\n",
    "\n",
    "- Conditional statements are used to execute the code based on some condition\n",
    "\n",
    "- assume a statement\n",
    "\n",
    "    - if rain comes i will stay at hostel\n",
    "\n",
    "    - if rain comes i will stay at hostel otherwise i will go to play cricket\n",
    "\n",
    "    - if rain comes i will stay at hostel otherwise i will go to ground but if omkar sir call i will go to NareshIT\n",
    "\n",
    "\n",
    "- if rain comes i will stay at hostel else i will go to play cricket\n",
    "\n",
    "- **if**\n",
    "\n",
    "- **if-else**\n",
    "\n",
    "- **if-elif-else**"
   ]
  },
  {
   "cell_type": "markdown",
   "id": "acf5a418-aa04-4d6e-b326-8e1b57751c2a",
   "metadata": {},
   "source": [
    "**case-1:if**"
   ]
  },
  {
   "cell_type": "code",
   "execution_count": null,
   "id": "2553b322-8d91-4b4f-a371-f9f75a97a336",
   "metadata": {},
   "outputs": [],
   "source": [
    "if <condition>:\n",
    "    # write your code here\n",
    "\n",
    "# whenever the condition is True\n",
    "# then python will go iside the if area then the lines will be execute"
   ]
  },
  {
   "cell_type": "code",
   "execution_count": 1,
   "id": "e189e7f2-5549-4e3d-af34-f51c03d07a92",
   "metadata": {},
   "outputs": [
    {
     "name": "stdout",
     "output_type": "stream",
     "text": [
      "False\n",
      "True\n",
      "False\n",
      "False\n",
      "True\n",
      "True\n"
     ]
    }
   ],
   "source": [
    "num=10 # assignment 10 is a value stored in a variable name\n",
    "print(num==100)# F # condition check num value equla to 10 or not\n",
    "print(num==10) # T\n",
    "print(num>10) # F\n",
    "print(num<10) # F\n",
    "print(num>=10) # T\n",
    "print(num<=10) # T"
   ]
  },
  {
   "cell_type": "code",
   "execution_count": 4,
   "id": "50f19975-be97-4480-9f0e-0fc5b0123773",
   "metadata": {},
   "outputs": [
    {
     "name": "stdout",
     "output_type": "stream",
     "text": [
      "hello\n"
     ]
    }
   ],
   "source": [
    "if 100>10:\n",
    "    print('hello')\n",
    "\n",
    "# step-1: 100>10  True \n",
    "# step-2: hello"
   ]
  },
  {
   "cell_type": "markdown",
   "id": "5a8f4f29-687c-406c-866d-12edb7718bd5",
   "metadata": {},
   "source": [
    "**mistake-1**\n",
    "\n",
    "**indentation error**\n",
    "\n",
    "- whenver a line startws with keyword at last : will be there\n",
    "\n",
    "- whenever : there then we have indenatation "
   ]
  },
  {
   "cell_type": "code",
   "execution_count": 10,
   "id": "1aacac6e-0fc7-4f73-8ac1-fffb2ddc17b9",
   "metadata": {},
   "outputs": [
    {
     "name": "stdout",
     "output_type": "stream",
     "text": [
      "hello\n"
     ]
    }
   ],
   "source": [
    "if 100>10:\n",
    "    print('hello')"
   ]
  },
  {
   "cell_type": "markdown",
   "id": "1194586d-951b-40d3-8dde-82cb19986b6f",
   "metadata": {},
   "source": [
    "**mistake-2**\n"
   ]
  },
  {
   "cell_type": "code",
   "execution_count": 11,
   "id": "dff1c693-d3d5-4657-8fd9-7ada72fa8555",
   "metadata": {},
   "outputs": [
    {
     "ename": "SyntaxError",
     "evalue": "expected ':' (4081822489.py, line 1)",
     "output_type": "error",
     "traceback": [
      "\u001b[1;36m  Cell \u001b[1;32mIn[11], line 1\u001b[1;36m\u001b[0m\n\u001b[1;33m    if 100>10\u001b[0m\n\u001b[1;37m             ^\u001b[0m\n\u001b[1;31mSyntaxError\u001b[0m\u001b[1;31m:\u001b[0m expected ':'\n"
     ]
    }
   ],
   "source": [
    "if 100>10\n",
    "    print('hello')"
   ]
  },
  {
   "cell_type": "code",
   "execution_count": 12,
   "id": "e7c48ae6-0984-483e-a332-0590baa498a5",
   "metadata": {},
   "outputs": [],
   "source": [
    "if 100<10:\n",
    "    print('hello')\n",
    "\n",
    "# step-1: 100<10  False"
   ]
  },
  {
   "cell_type": "code",
   "execution_count": 13,
   "id": "018e4fbc-858c-4714-a5ea-39d67c3da496",
   "metadata": {},
   "outputs": [
    {
     "data": {
      "text/plain": [
       "True"
      ]
     },
     "execution_count": 13,
     "metadata": {},
     "output_type": "execute_result"
    }
   ],
   "source": [
    "100>10"
   ]
  },
  {
   "cell_type": "code",
   "execution_count": 14,
   "id": "1796f990-8480-418d-bf75-cc144520453b",
   "metadata": {},
   "outputs": [
    {
     "name": "stdout",
     "output_type": "stream",
     "text": [
      "hello\n"
     ]
    }
   ],
   "source": [
    "if True:\n",
    "    print('hello')"
   ]
  },
  {
   "cell_type": "code",
   "execution_count": 15,
   "id": "a1dd59e5-8f31-4707-9cff-b05347b8df3c",
   "metadata": {},
   "outputs": [],
   "source": [
    "if False:\n",
    "    print('hello')"
   ]
  },
  {
   "cell_type": "code",
   "execution_count": 17,
   "id": "839ff3b4-df9f-4e3e-b285-452c91d24451",
   "metadata": {},
   "outputs": [
    {
     "data": {
      "text/plain": [
       "True"
      ]
     },
     "execution_count": 17,
     "metadata": {},
     "output_type": "execute_result"
    }
   ],
   "source": [
    "bool(100)"
   ]
  },
  {
   "cell_type": "code",
   "execution_count": 18,
   "id": "20452537-0892-48d2-bdcb-0b9074f9a9ed",
   "metadata": {},
   "outputs": [
    {
     "name": "stdout",
     "output_type": "stream",
     "text": [
      "hello\n",
      "hello\n",
      "hello\n"
     ]
    }
   ],
   "source": [
    "if bool(100):\n",
    "    print('hello')\n",
    "\n",
    "if 100>10:\n",
    "    print('hello')\n",
    "\n",
    "if True:\n",
    "    print('hello')"
   ]
  },
  {
   "cell_type": "code",
   "execution_count": 21,
   "id": "e44d9f61-eb2d-4bfa-a8d6-65babc304d63",
   "metadata": {},
   "outputs": [
    {
     "name": "stdout",
     "output_type": "stream",
     "text": [
      "hello\n",
      "hai\n",
      "im with condition bye\n",
      "im with out condition bye\n"
     ]
    }
   ],
   "source": [
    "#######################\n",
    "if 100>10:\n",
    "    print('hello')\n",
    "    print('hai')\n",
    "    print('im with condition bye')\n",
    "##########################\n",
    "print('im with out condition bye')"
   ]
  },
  {
   "cell_type": "code",
   "execution_count": 22,
   "id": "49d443cb-b7b8-459d-b8e1-bada400c924f",
   "metadata": {},
   "outputs": [
    {
     "data": {
      "text/plain": [
       "True"
      ]
     },
     "execution_count": 22,
     "metadata": {},
     "output_type": "execute_result"
    }
   ],
   "source": [
    "100>10  # mask\n",
    "True    # face"
   ]
  },
  {
   "cell_type": "code",
   "execution_count": 23,
   "id": "47037ba4-4fca-408e-8ae0-394879a2d0f9",
   "metadata": {},
   "outputs": [
    {
     "name": "stdout",
     "output_type": "stream",
     "text": [
      "im with out condition bye\n"
     ]
    }
   ],
   "source": [
    "#######################\n",
    "if 100<10:\n",
    "    print('hello')\n",
    "    print('hai')\n",
    "    print('im with condition bye')\n",
    "##########################\n",
    "print('im with out condition bye')"
   ]
  },
  {
   "cell_type": "code",
   "execution_count": 24,
   "id": "14ffcbf7-6aef-41c9-9cfa-a31a99142ccf",
   "metadata": {},
   "outputs": [
    {
     "name": "stdout",
     "output_type": "stream",
     "text": [
      "1\n",
      "2\n",
      "im with out condition bye\n"
     ]
    }
   ],
   "source": [
    "print(1)\n",
    "print(2)\n",
    "#######################\n",
    "if 100<10:\n",
    "    print('hello')\n",
    "    print('hai')\n",
    "    print('im with condition bye')\n",
    "##########################\n",
    "print('im with out condition bye')"
   ]
  },
  {
   "cell_type": "code",
   "execution_count": 25,
   "id": "c786f96b-b6cd-4006-8d94-8eade6e3e46b",
   "metadata": {},
   "outputs": [
    {
     "name": "stdout",
     "output_type": "stream",
     "text": [
      "hello\n",
      "hai\n",
      "im with condition bye\n",
      "1\n",
      "2\n",
      "im with out condition bye\n"
     ]
    }
   ],
   "source": [
    "if 100>10:\n",
    "    print('hello')\n",
    "    print('hai')\n",
    "    print('im with condition bye')\n",
    "##########################\n",
    "print(1)\n",
    "print(2)\n",
    "#######################\n",
    "if 100<10:\n",
    "    print('hello')\n",
    "    print('hai')\n",
    "    print('im with condition bye')\n",
    "##########################\n",
    "print('im with out condition bye')"
   ]
  },
  {
   "cell_type": "code",
   "execution_count": null,
   "id": "9510513c-208e-41c9-85dc-2e92e878f21b",
   "metadata": {},
   "outputs": [],
   "source": [
    "if <con>:\n",
    "    <write our code here>"
   ]
  },
  {
   "cell_type": "markdown",
   "id": "8ab04eb3-9f56-45c9-99e9-3fbd050a7dbe",
   "metadata": {},
   "source": [
    "**case-2: if-else**"
   ]
  },
  {
   "cell_type": "markdown",
   "id": "9587698d-0e12-4627-8307-d9084361b9d8",
   "metadata": {},
   "source": [
    "- if condition is True then if statements will execute\n",
    "\n",
    "- if condition is False then else statements will execute\n",
    "\n",
    "- one condition two outputs\n",
    "\n",
    "- if needs condition but not else"
   ]
  },
  {
   "cell_type": "code",
   "execution_count": null,
   "id": "0f2fc239-14f9-48f0-81fc-59959df96c83",
   "metadata": {},
   "outputs": [],
   "source": [
    "# syntax\n",
    "if <condition>:\n",
    "    <write your code here>\n",
    "else:\n",
    "    <write your code here>"
   ]
  },
  {
   "cell_type": "code",
   "execution_count": 1,
   "id": "680b075e-d02b-458d-a078-720846b5e5fd",
   "metadata": {},
   "outputs": [
    {
     "name": "stdout",
     "output_type": "stream",
     "text": [
      "hello\n"
     ]
    }
   ],
   "source": [
    "print('hello')"
   ]
  },
  {
   "cell_type": "code",
   "execution_count": 2,
   "id": "07906392-9026-4eb6-bf79-64b517a16d69",
   "metadata": {},
   "outputs": [
    {
     "name": "stdout",
     "output_type": "stream",
     "text": [
      "hello\n"
     ]
    }
   ],
   "source": [
    "friend='yes'\n",
    "if friend=='yes':  # if 'yes'=='yes'\n",
    "    print('hello')"
   ]
  },
  {
   "cell_type": "code",
   "execution_count": 3,
   "id": "e8bb8517-2df6-4b39-8536-43a306937914",
   "metadata": {},
   "outputs": [
    {
     "name": "stdout",
     "output_type": "stream",
     "text": [
      "30\n"
     ]
    }
   ],
   "source": [
    "a=10\n",
    "b=20\n",
    "c=a+b\n",
    "print(c)"
   ]
  },
  {
   "cell_type": "code",
   "execution_count": 4,
   "id": "8f55fd93-c6ea-4ddc-961a-2903974b121d",
   "metadata": {},
   "outputs": [
    {
     "name": "stdout",
     "output_type": "stream",
     "text": [
      "30\n"
     ]
    }
   ],
   "source": [
    "if 100>10:\n",
    "    a=10\n",
    "    b=20\n",
    "    c=a+b\n",
    "    print(c)"
   ]
  },
  {
   "cell_type": "code",
   "execution_count": 7,
   "id": "e0af1292-c3aa-4940-927f-58d22f55005c",
   "metadata": {},
   "outputs": [
    {
     "name": "stdout",
     "output_type": "stream",
     "text": [
      "postive number\n"
     ]
    }
   ],
   "source": [
    "if 100>0:\n",
    "    print('postive number')\n",
    "else:\n",
    "    print('negtaive numbers')"
   ]
  },
  {
   "cell_type": "code",
   "execution_count": 9,
   "id": "7f2acb50-5c09-4b69-b03b-f7f2ea595791",
   "metadata": {},
   "outputs": [
    {
     "name": "stdout",
     "output_type": "stream",
     "text": [
      "postive number\n"
     ]
    }
   ],
   "source": [
    "n=100\n",
    "if n>0:\n",
    "    print('postive number')\n",
    "else:\n",
    "    print('negtaive numbers')"
   ]
  },
  {
   "cell_type": "code",
   "execution_count": 11,
   "id": "911b6427-5334-4672-9546-cc19aeb47a3a",
   "metadata": {},
   "outputs": [
    {
     "name": "stdin",
     "output_type": "stream",
     "text": [
      "enter the number: -100\n"
     ]
    },
    {
     "name": "stdout",
     "output_type": "stream",
     "text": [
      "negtaive numbers\n"
     ]
    }
   ],
   "source": [
    "n=eval(input('enter the number:'))\n",
    "if n>0:\n",
    "    print('postive number')\n",
    "else:\n",
    "    print('negtaive numbers')\n",
    "\n",
    "# n=-100\n",
    "# if -100>0  F  \n",
    "# else negtaive"
   ]
  },
  {
   "cell_type": "code",
   "execution_count": 15,
   "id": "37b920bc-e519-45a5-af45-b80ea3e20a23",
   "metadata": {},
   "outputs": [
    {
     "name": "stdout",
     "output_type": "stream",
     "text": [
      "3 is a postive number\n"
     ]
    }
   ],
   "source": [
    "import random\n",
    "n=random.randint(-100,100)\n",
    "if n>0:\n",
    "    print(f'{n} is a postive number')\n",
    "else:\n",
    "    print(f'{n} is a negtaive number')"
   ]
  },
  {
   "cell_type": "code",
   "execution_count": null,
   "id": "65d4ed0f-0496-4324-8d9d-1e125059b81a",
   "metadata": {},
   "outputs": [],
   "source": [
    "if 100>0:\n",
    "    print('postive number')\n",
    "else:\n",
    "    print('negtaive numbers')\n",
    "##########################################\n",
    "n=100\n",
    "if n>0:\n",
    "    print('postive number')\n",
    "else:\n",
    "    print('negtaive numbers')\n",
    "#################################################\n",
    "n=eval(input('enter the number:'))\n",
    "if n>0:\n",
    "    print('postive number')\n",
    "else:\n",
    "    print('negtaive numbers')\n",
    "#####################################################\n",
    "import random\n",
    "n=random.randint(-100,100)\n",
    "if n>0:\n",
    "    print(f'{n} is a postive number')\n",
    "else:\n",
    "    print(f'{n} is a negtaive number')"
   ]
  },
  {
   "cell_type": "code",
   "execution_count": 16,
   "id": "7f45d54d-6ecd-483c-8d7e-7da85189192c",
   "metadata": {},
   "outputs": [
    {
     "name": "stdout",
     "output_type": "stream",
     "text": [
      "hello\n",
      "postive number\n",
      "condition is False\n"
     ]
    }
   ],
   "source": [
    "print('hello')\n",
    "if 100>0:\n",
    "    print('postive number')\n",
    "    print('condition is False')\n",
    "else:\n",
    "    print('negtaive numbers')\n",
    "    print('condition is False')"
   ]
  },
  {
   "cell_type": "code",
   "execution_count": 17,
   "id": "23810bc9-bad8-449b-892d-4ba8ea57fbbe",
   "metadata": {},
   "outputs": [
    {
     "name": "stdout",
     "output_type": "stream",
     "text": [
      "hello\n",
      "negtaive numbers\n",
      "condition is False\n"
     ]
    }
   ],
   "source": [
    "print('hello')\n",
    "if 100<0:\n",
    "    print('postive number')\n",
    "    print('condition is False')\n",
    "else:\n",
    "    print('negtaive numbers')\n",
    "    print('condition is False')\n",
    "\n",
    "# hello\n",
    "# if 100<0  F stop\n",
    "# else\n",
    "#    neg F"
   ]
  },
  {
   "cell_type": "code",
   "execution_count": null,
   "id": "a7a98ede-4ebf-4c2d-b196-75447c926f3f",
   "metadata": {},
   "outputs": [],
   "source": [
    "print('hello')\n",
    "###################################\n",
    "if 100<0:\n",
    "    print('postive number')\n",
    "    print('condition is False')\n",
    "else:\n",
    "    print('negtaive numbers')\n",
    "    print('condition is False')\n",
    "#################################\n",
    "print('bye')"
   ]
  },
  {
   "cell_type": "code",
   "execution_count": 18,
   "id": "bf809f63-f696-432a-8935-20ca70f4f72d",
   "metadata": {},
   "outputs": [
    {
     "ename": "SyntaxError",
     "evalue": "invalid syntax (3606668541.py, line 6)",
     "output_type": "error",
     "traceback": [
      "\u001b[1;36m  Cell \u001b[1;32mIn[18], line 6\u001b[1;36m\u001b[0m\n\u001b[1;33m    else:\u001b[0m\n\u001b[1;37m    ^\u001b[0m\n\u001b[1;31mSyntaxError\u001b[0m\u001b[1;31m:\u001b[0m invalid syntax\n"
     ]
    }
   ],
   "source": [
    "print('hello')\n",
    "if 100>0:\n",
    "    print('postive number')\n",
    "    print('condition is False')\n",
    "print('why you are in middile')\n",
    "else:\n",
    "    print('negtaive numbers')\n",
    "    print('condition is False')\n",
    "print('bye')\n",
    "\n",
    "# if-else should come together\n"
   ]
  },
  {
   "cell_type": "code",
   "execution_count": 21,
   "id": "26ada8a1-9155-42b2-9065-8ddf7a25605e",
   "metadata": {},
   "outputs": [
    {
     "ename": "IndentationError",
     "evalue": "unexpected indent (36936843.py, line 4)",
     "output_type": "error",
     "traceback": [
      "\u001b[1;36m  Cell \u001b[1;32mIn[21], line 4\u001b[1;36m\u001b[0m\n\u001b[1;33m    print(\"this is middle)\u001b[0m\n\u001b[1;37m    ^\u001b[0m\n\u001b[1;31mIndentationError\u001b[0m\u001b[1;31m:\u001b[0m unexpected indent\n"
     ]
    }
   ],
   "source": [
    "print(\"Hello\")\n",
    "if(100>0):\n",
    "    print(\"this is posstive\")\n",
    "    print(\"this is middle)\n",
    "else:\n",
    "    print('this is negative')"
   ]
  },
  {
   "cell_type": "code",
   "execution_count": null,
   "id": "e4b51dc7-faab-479c-a459-0cf3b6cc826c",
   "metadata": {},
   "outputs": [],
   "source": [
    "#Q1) wap ask the user enter two numbers\n",
    "# find the greatest number\n",
    "\n",
    "# idea\n",
    "# n1= eval(input())\n",
    "# n2=eval(input())\n",
    "# if <cond>:\n",
    "#    print()\n",
    "# else:\n",
    "#   print()"
   ]
  },
  {
   "cell_type": "code",
   "execution_count": 23,
   "id": "ec647d2c-7be0-4407-9fb2-a85875389b52",
   "metadata": {},
   "outputs": [
    {
     "name": "stdin",
     "output_type": "stream",
     "text": [
      "enter n1: 20\n",
      "enter n2: 100\n"
     ]
    },
    {
     "name": "stdout",
     "output_type": "stream",
     "text": [
      "100 is a greater number\n"
     ]
    }
   ],
   "source": [
    "n1=eval(input('enter n1:'))\n",
    "n2=eval(input('enter n2:'))\n",
    "if n1>n2:\n",
    "    print(f\"{n1} is a greater number\")\n",
    "else:\n",
    "    print(f\"{n2} is a greater number\")"
   ]
  },
  {
   "cell_type": "code",
   "execution_count": 28,
   "id": "181c36f2-3df4-4c14-91a9-387a2aff07a3",
   "metadata": {},
   "outputs": [
    {
     "name": "stdout",
     "output_type": "stream",
     "text": [
      "n2:64 is a greater number\n"
     ]
    }
   ],
   "source": [
    "import random\n",
    "n1=random.randint(1,100)\n",
    "n2=random.randint(1,100)\n",
    "if n1>n2:\n",
    "    print(f\"n1:{n1} is a greater number\")\n",
    "else:\n",
    "    print(f\"n2:{n2} is a greater number\")"
   ]
  },
  {
   "cell_type": "code",
   "execution_count": null,
   "id": "1c48a636-e903-428a-b2c5-33a960fad14b",
   "metadata": {},
   "outputs": [],
   "source": [
    "#Q2) wap ask the user enter distance\n",
    "# if distance greater than 25km \n",
    "# then ask the charge per km\n",
    "# then calculate total charge\n",
    "# otherwise print free ride\n",
    "\n",
    "# step-1: enter the distance\n",
    "# step-2: if distance>25\n",
    "# step-3:    ask the charge per km\n",
    "# step-4:    calculate the total charge\n",
    "# step-5: else\n",
    "# step-6:    free ride"
   ]
  },
  {
   "cell_type": "code",
   "execution_count": 33,
   "id": "68b69f8c-418e-4425-95e7-00721ac04bd4",
   "metadata": {},
   "outputs": [
    {
     "name": "stdin",
     "output_type": "stream",
     "text": [
      "enter the distance in km: 50\n",
      "enter the charge per km: 10\n"
     ]
    },
    {
     "name": "stdout",
     "output_type": "stream",
     "text": [
      "The total charge is:500 INR\n"
     ]
    }
   ],
   "source": [
    "distance=eval(input('enter the distance in km:'))\n",
    "if distance>25:\n",
    "    charge=eval(input('enter the charge per km:'))\n",
    "    total_charge=distance*charge\n",
    "    print(f\"The total charge is:{total_charge} INR\")\n",
    "\n",
    "else:\n",
    "    print('free ride')"
   ]
  },
  {
   "cell_type": "code",
   "execution_count": null,
   "id": "93525bb0-b26b-457f-8f6a-eeebbce201f3",
   "metadata": {},
   "outputs": [],
   "source": [
    "#Q3) wap ask the user enter distance : 50km\n",
    "#    enter the free_distance (assume that 25km)\n",
    "# if distance greater than free distance \n",
    "   # then ask the charge per km: 10rs\n",
    "   # distance_covered=distance-free_distance : 50-25=25km\n",
    "   # then calculate total charge \n",
    "# otherwise print free ride\n",
    "\n",
    "# step-1: enter the distance\n",
    "# step-2: enter the free_distance\n",
    "# step-3: if distance>free_distance\n",
    "# step-4:    ask the charge per km\n",
    "# step-5:    actual_distance= distance-free_distance\n",
    "# step-5:    calculate the total charge on actual distance\n",
    "# step-6: else\n",
    "# step-7:    free ride"
   ]
  },
  {
   "cell_type": "code",
   "execution_count": 37,
   "id": "566c4235-d9ca-494f-91a4-e261e54a9db4",
   "metadata": {},
   "outputs": [
    {
     "name": "stdin",
     "output_type": "stream",
     "text": [
      "enter the distance in km: 10\n",
      "enter the govt free distance in km: 25\n"
     ]
    },
    {
     "name": "stdout",
     "output_type": "stream",
     "text": [
      "free ride\n"
     ]
    }
   ],
   "source": [
    "travel_distance=eval(input('enter the distance in km:'))\n",
    "free_distance=eval(input('enter the govt free distance in km:'))\n",
    "if travel_distance>free_distance:\n",
    "    actual_distance=travel_distance-free_distance\n",
    "    print(f\"the actual distance covered is {actual_distance}km\")\n",
    "    charge=eval(input('enter the charge per km:'))\n",
    "    total_charge=actual_distance*charge\n",
    "    print(f\"The total charge is:{total_charge} INR\")\n",
    "\n",
    "else:\n",
    "    print('free ride')"
   ]
  },
  {
   "cell_type": "code",
   "execution_count": 39,
   "id": "77c131d9-5f1a-45ce-9c84-3e55abfbdb93",
   "metadata": {},
   "outputs": [
    {
     "name": "stdin",
     "output_type": "stream",
     "text": [
      "enter the distance in km: 30\n",
      "enter the charge per km: 30\n"
     ]
    },
    {
     "name": "stdout",
     "output_type": "stream",
     "text": [
      "The total charge is:900 INR\n"
     ]
    }
   ],
   "source": [
    "distance=eval(input('enter the distance in km:'))\n",
    "if distance<25:\n",
    "    print('free ride')\n",
    "\n",
    "else:\n",
    "    charge=eval(input('enter the charge per km:'))\n",
    "    total_charge=distance*charge\n",
    "    print(f\"The total charge is:{total_charge} INR\")"
   ]
  },
  {
   "cell_type": "code",
   "execution_count": null,
   "id": "0bfad9f1-b3c1-4ff6-a1c3-6d69e22c1c80",
   "metadata": {},
   "outputs": [],
   "source": [
    "#Q4) \n",
    "# wap ask the user enter a number from keyboard n1\n",
    "# ask the user get a random number between 1,10  n2\n",
    "# if n1 equal to n2 print you won\n",
    "# otherwise print you lost\n",
    "\n",
    "# step-1:  n1=eval(input)\n",
    "# step-2: n2=random.randint\n",
    "# step-3: if n1==n2\n",
    "# step-4:    print lucky won\n",
    "# step-5: else:\n",
    "# step-6:   print double lucky lost"
   ]
  },
  {
   "cell_type": "code",
   "execution_count": 47,
   "id": "b0300bd2-bd99-403e-9494-074e59bd339c",
   "metadata": {},
   "outputs": [
    {
     "name": "stdout",
     "output_type": "stream",
     "text": [
      "1\n"
     ]
    },
    {
     "name": "stdin",
     "output_type": "stream",
     "text": [
      "enter the number between 1 to 10 1\n"
     ]
    },
    {
     "name": "stdout",
     "output_type": "stream",
     "text": [
      "Lucky: you won\n"
     ]
    }
   ],
   "source": [
    "import random\n",
    "n1=random.randint(1,10)\n",
    "print(n1)\n",
    "n2=eval(input('enter the number between 1 to 10'))\n",
    "if n1==n2:\n",
    "    print('Lucky: you won')\n",
    "else:\n",
    "    print('Lucky Lucky: you lost better luck next time')"
   ]
  },
  {
   "cell_type": "code",
   "execution_count": null,
   "id": "1f26007f-f91b-4984-8b02-f10fb3e76ff2",
   "metadata": {},
   "outputs": [],
   "source": [
    "# Q5)\n",
    "# Course name= Data science\n",
    "# Insti name = Naresh It\n",
    "\n",
    "# Ask the user enter course_name\n",
    "#         user enter inst_name\n",
    "# if course_name equal to data_science and inst_name naresh_it\n",
    "# then print you are at safe place\n",
    "# otherwise\n",
    "# print katam zindagi\n",
    "\n",
    "# step-1: course_name=input()\n",
    "# step-2: inst_name=input()\n",
    "# step-3: if course_name=='data_science' &(and) inst_name=='naresh_it':\n",
    "# step-4:    print('you are at safe place')\n",
    "# step-5: else:\n",
    "# step-6:   print('katam zindagi')"
   ]
  },
  {
   "cell_type": "code",
   "execution_count": 52,
   "id": "0b4c2522-dba5-4517-b6ca-36cea49bda69",
   "metadata": {},
   "outputs": [
    {
     "name": "stdin",
     "output_type": "stream",
     "text": [
      "Enter the Course Name:  data science\n",
      "Enter the Institute Name:  naresh it\n"
     ]
    },
    {
     "name": "stdout",
     "output_type": "stream",
     "text": [
      "Khatam Zindagi\n"
     ]
    }
   ],
   "source": [
    "course_name=input(\"Enter the Course Name: \")\n",
    "inst_name=input(\"Enter the Institute Name: \")\n",
    "if course_name=='Data Science' and inst_name=='Naresh IT':\n",
    "  print(\"You are in Safe Hands!\")\n",
    "else:\n",
    "  print(\"Khatam Zindagi\")"
   ]
  },
  {
   "cell_type": "code",
   "execution_count": 51,
   "id": "c057b7e6-6107-4acd-b3ca-46ae4ba7e571",
   "metadata": {},
   "outputs": [
    {
     "name": "stdin",
     "output_type": "stream",
     "text": [
      "Enter the Course Name:  python\n",
      "Enter the Institute Name:  Naresh IT\n"
     ]
    },
    {
     "name": "stdout",
     "output_type": "stream",
     "text": [
      "You are in Safe Hands!\n"
     ]
    }
   ],
   "source": [
    "course_name=input(\"Enter the Course Name: \")\n",
    "inst_name=input(\"Enter the Institute Name: \")\n",
    "if course_name=='Data Science' or inst_name=='Naresh IT':\n",
    "  print(\"You are in Safe Hands!\")\n",
    "else:\n",
    "  print(\"Khatam Zindagi\")"
   ]
  },
  {
   "cell_type": "code",
   "execution_count": 53,
   "id": "27a04256-9528-468d-9512-b9cafb1e167b",
   "metadata": {},
   "outputs": [
    {
     "data": {
      "text/plain": [
       "'data science'"
      ]
     },
     "execution_count": 53,
     "metadata": {},
     "output_type": "execute_result"
    }
   ],
   "source": [
    "'Data Science'.lower()"
   ]
  },
  {
   "cell_type": "code",
   "execution_count": null,
   "id": "3bf01e08-f5bf-4801-98a1-7de4794e55ca",
   "metadata": {},
   "outputs": [],
   "source": [
    "# Q6) even-odd \n",
    "# ask the user enter a number\n",
    "# print if it is even number or odd number\n",
    "\n",
    "# idea: if any number divide by 2 then it gives \n",
    "# the reminder equal to zero then it is even number"
   ]
  },
  {
   "cell_type": "code",
   "execution_count": null,
   "id": "7797e34f-4196-446f-9f9f-7291a9de9c79",
   "metadata": {},
   "outputs": [],
   "source": [
    "modulus: %\n",
    "division: /\n",
    "floor division: //"
   ]
  },
  {
   "cell_type": "code",
   "execution_count": 54,
   "id": "9cea8a00-5b76-437c-b0ef-84cb01c0999b",
   "metadata": {},
   "outputs": [
    {
     "data": {
      "text/plain": [
       "1"
      ]
     },
     "execution_count": 54,
     "metadata": {},
     "output_type": "execute_result"
    }
   ],
   "source": [
    "11%2  # reminder"
   ]
  },
  {
   "cell_type": "code",
   "execution_count": 55,
   "id": "363c21df-a409-4364-8336-bfc42ec2d114",
   "metadata": {},
   "outputs": [
    {
     "data": {
      "text/plain": [
       "5.5"
      ]
     },
     "execution_count": 55,
     "metadata": {},
     "output_type": "execute_result"
    }
   ],
   "source": [
    "11/2 # normal division"
   ]
  },
  {
   "cell_type": "code",
   "execution_count": 56,
   "id": "f1b501bb-09e0-48a7-aa20-8dac9387a640",
   "metadata": {},
   "outputs": [
    {
     "data": {
      "text/plain": [
       "5"
      ]
     },
     "execution_count": 56,
     "metadata": {},
     "output_type": "execute_result"
    }
   ],
   "source": [
    "11//2 # "
   ]
  },
  {
   "cell_type": "code",
   "execution_count": 58,
   "id": "dadaee38-d8ab-4b1b-bdc6-993216a53d34",
   "metadata": {},
   "outputs": [
    {
     "name": "stdin",
     "output_type": "stream",
     "text": [
      "enter the number: 19\n"
     ]
    },
    {
     "name": "stdout",
     "output_type": "stream",
     "text": [
      "19 is an odd\n"
     ]
    }
   ],
   "source": [
    "num=eval(input('enter the number:'))\n",
    "if num%2==0:\n",
    "    print(f\"{num} is an even\")\n",
    "else:\n",
    "    print(f\"{num} is an odd\")"
   ]
  },
  {
   "cell_type": "markdown",
   "id": "e8c7e746-f840-41b8-b083-b5445235f201",
   "metadata": {},
   "source": [
    "**if-elif-else**\n",
    "\n",
    "- Whenever we have multiple conditions we will do **if-elif-else**\n",
    "\n",
    "- if single condition is there we will go if-else\n",
    "\n",
    "    - two answers\n",
    "\n",
    "    - if needs condition then else does not require any condition\n",
    "\n",
    "- if two conditions are there we will go if-elif-else\n",
    "\n",
    "    - three answers\n",
    "\n",
    "    - if and elif need condition else does not require any condition\n",
    "\n",
    "- if three conditions are there we will go if-elif-elif-else\n",
    "\n",
    "    - Four answers\n",
    "\n",
    "    - if elif and elif need condition and else does not require any condition"
   ]
  },
  {
   "cell_type": "code",
   "execution_count": null,
   "id": "ac3dd18f-93f6-46f1-a0b6-13a7068a5dab",
   "metadata": {},
   "outputs": [],
   "source": [
    "if <condition>:\n",
    "   <write your code here>\n",
    "elif <condition>:\n",
    "    <write your code here>\n",
    "elif <condition>:\n",
    "    write your code here\n",
    "else:\n",
    "    <write your code here>"
   ]
  },
  {
   "cell_type": "code",
   "execution_count": 2,
   "id": "4d73a482-a322-4934-b452-a45750a92280",
   "metadata": {},
   "outputs": [
    {
     "name": "stdin",
     "output_type": "stream",
     "text": [
      "enter a number: 1\n"
     ]
    },
    {
     "name": "stdout",
     "output_type": "stream",
     "text": [
      "one\n"
     ]
    }
   ],
   "source": [
    "# wap ask the user enter a number\n",
    "# if number equal to one then print one\n",
    "# if number equla to two then print two\n",
    "# if number equla to three then print three\n",
    "# otherwise print enter a valid number\n",
    "\n",
    "# step-1: num=eval()\n",
    "# step-2: if <>:\n",
    "# step-3:    print\n",
    "# step-4: elif <>\n",
    "\n",
    "num= eval(input('enter a number:'))\n",
    "if num==1:\n",
    "    print('one')\n",
    "elif num==2:\n",
    "    print('two')\n",
    "elif num==3:\n",
    "    print('three')\n",
    "else:\n",
    "    print('enter a valid number')\n",
    "\n",
    "# num=2\n",
    "# if 2==1  F\n",
    "# elif 2==2 T  two   stop"
   ]
  },
  {
   "cell_type": "code",
   "execution_count": null,
   "id": "b60f9615-05c6-4fb4-bdf4-dcf5991c6038",
   "metadata": {},
   "outputs": [],
   "source": [
    "# wap ask the user enter percentage of marks\n",
    "# if marks gretaer tan 90 then print A grade\n",
    "# if marks between 70 to 90 then print B grade\n",
    "# if marks between 50 to 70 then print c grade\n",
    "# if marks between 35 to 50 then print D grade\n",
    "# otherwise print Fail\n",
    "\n",
    "\n",
    "if marks between 70 to 90 then print B grade\n",
    "mistake-1:70 to 90\n",
    "per>70 and per90\n",
    "\n",
    "# if marks between 70 to 90 then print B grade\n",
    "# marks should be greater than 70\n",
    "#  per>70\n",
    "# marks should be less than 90\n",
    "#  per<90\n",
    "\n",
    "# mistake-2:per>70 and 90\n",
    "\n",
    "# 70 to 90\n",
    "# 70<per<90"
   ]
  },
  {
   "cell_type": "code",
   "execution_count": 4,
   "id": "4391f090-be65-49a6-abb4-f1f91a15c617",
   "metadata": {},
   "outputs": [
    {
     "data": {
      "text/plain": [
       "False"
      ]
     },
     "execution_count": 4,
     "metadata": {},
     "output_type": "execute_result"
    }
   ],
   "source": [
    "# if marks between 70 to 90 then print B grade\n",
    "70<80>90"
   ]
  },
  {
   "cell_type": "code",
   "execution_count": 6,
   "id": "f4302c91-052e-4070-839f-5ccd2279352a",
   "metadata": {},
   "outputs": [
    {
     "name": "stdin",
     "output_type": "stream",
     "text": [
      "enter the percentage of marks: 48\n"
     ]
    },
    {
     "name": "stdout",
     "output_type": "stream",
     "text": [
      "D grade\n"
     ]
    }
   ],
   "source": [
    "per=eval(input(\"enter the percentage of marks:\"))\n",
    "if per>90:\n",
    "    print('A grade')\n",
    "elif per>70 and per<=90:\n",
    "    print('B grade')\n",
    "elif per>50 and per<=70:\n",
    "    print('C grade')\n",
    "elif per>35 and per<=50:\n",
    "    print('D grade')\n",
    "else:\n",
    "    print('Fail')"
   ]
  },
  {
   "cell_type": "code",
   "execution_count": 11,
   "id": "5386a489-5dcf-42d0-97ac-58081f85db38",
   "metadata": {},
   "outputs": [
    {
     "name": "stdin",
     "output_type": "stream",
     "text": [
      "enter the percentage of marks: 25\n"
     ]
    },
    {
     "name": "stdout",
     "output_type": "stream",
     "text": [
      "Fail\n"
     ]
    }
   ],
   "source": [
    "per=eval(input(\"enter the percentage of marks:\"))\n",
    "if per>=90:     # False\n",
    "    print('A grade')\n",
    "elif per>=70:   # 65>=70   False\n",
    "    print('B grade')\n",
    "elif per>=50:  # 65>=50  True\n",
    "    print('C grade')\n",
    "elif per>=35: # 65>=35   True\n",
    "    print('D grade')\n",
    "else:\n",
    "    print('Fail')\n",
    "\n",
    "# step-1: per=75\n",
    "# if 75>90 False\n",
    "# elif 75>=70 True"
   ]
  },
  {
   "cell_type": "code",
   "execution_count": 12,
   "id": "d565e0d5-1888-4549-ae11-0566cadd39fe",
   "metadata": {},
   "outputs": [
    {
     "name": "stdin",
     "output_type": "stream",
     "text": [
      "enter the percentage of marks: 99\n"
     ]
    },
    {
     "name": "stdout",
     "output_type": "stream",
     "text": [
      "A grade\n",
      "B grade\n"
     ]
    }
   ],
   "source": [
    "per=eval(input(\"enter the percentage of marks:\"))\n",
    "if per>=90:     # 99>=90   True\n",
    "    print('A grade')\n",
    "if per>=70:   # 99>=70   T\n",
    "    print('B grade')\n",
    "elif per>=50:  # 99>=50  True\n",
    "    print('C grade')\n",
    "elif per>=35: # 99>=35   True\n",
    "    print('D grade')\n",
    "else:\n",
    "    print('Fail')\n",
    "\n",
    "# step-1: per=75\n",
    "# if 75>90 False\n",
    "# elif 75>=70 True"
   ]
  },
  {
   "cell_type": "code",
   "execution_count": null,
   "id": "964df5b6-d115-4eba-af79-3e4e1384b45c",
   "metadata": {},
   "outputs": [],
   "source": [
    "if -elif\n",
    "\n",
    "if fails ==== elif\n",
    "\n",
    "if-if\n",
    "if fail or pass ===== if"
   ]
  },
  {
   "cell_type": "code",
   "execution_count": null,
   "id": "7c103289-783b-428f-b00e-d4a195b4a534",
   "metadata": {},
   "outputs": [],
   "source": [
    "# wap ask the user enter age\n",
    "# if age greater than 100 yaers unlucky\n",
    "# if age between 80 to 100 years old guy\n",
    "# if age between 60 to 80 print ss\n",
    "# if age between 40 to 60 print MA\n",
    "# if age between 20 to 40 print young\n",
    "# if age between 10 to 20 print teenage\n",
    "# otherwise print kid"
   ]
  },
  {
   "cell_type": "code",
   "execution_count": 13,
   "id": "03505280-7332-41b6-bd3f-46f77726800d",
   "metadata": {},
   "outputs": [
    {
     "name": "stdin",
     "output_type": "stream",
     "text": [
      "enter the age 45\n"
     ]
    },
    {
     "name": "stdout",
     "output_type": "stream",
     "text": [
      "young\n"
     ]
    }
   ],
   "source": [
    "age=eval(input('enter the age'))\n",
    "if age>=100:  #  45>=100  F\n",
    "    print('un luncky')\n",
    "elif age>=80:  # 45>=80  F\n",
    "    print('u r too old guy')\n",
    "elif age>=60:  # 45>=60  F\n",
    "    print('u r middle age')\n",
    "elif age>=40:  # 45>=40  T\n",
    "    print('young')\n",
    "elif age>=20:\n",
    "    print(' u rteenage')\n",
    "else:\n",
    "    print(' u r kid')"
   ]
  },
  {
   "cell_type": "code",
   "execution_count": null,
   "id": "9afdb457-d613-4f26-bae0-0d39a4f003c1",
   "metadata": {},
   "outputs": [],
   "source": [
    "# wap ask the user enter gender\n",
    "# if gender equal to male\n",
    "#     ask the user enter age\n",
    "#     if age greater than 60 then print ss\n",
    "#     if age between 30 to 60 then print MA MAN\n",
    "#     if age between 15 to 30 then print young man\n",
    "#     otherwise print boy\n",
    "# if gender equal to female\n",
    "#     ask the user enter age\n",
    "#     if age greater than 60 then print ss\n",
    "#     if age between 30 to 60 then print MA woMAN\n",
    "#     if age between 15 to 30 then print young girl\n",
    "#     otherwise print girl\n",
    "# else:\n",
    "#    print enter a valid gender\n",
    "\n"
   ]
  },
  {
   "cell_type": "code",
   "execution_count": 14,
   "id": "9d10b480-6b76-4b08-bb2b-36baf81e0133",
   "metadata": {},
   "outputs": [
    {
     "name": "stdin",
     "output_type": "stream",
     "text": [
      "enter a gender: Female\n",
      "enter age: 45\n"
     ]
    },
    {
     "name": "stdout",
     "output_type": "stream",
     "text": [
      "MAW\n"
     ]
    }
   ],
   "source": [
    "gender=input('enter a gender:')\n",
    "if gender=='Male':\n",
    "    age=eval(input('enter age:'))\n",
    "    if age>=60:\n",
    "        print(\"ss\")\n",
    "    elif age>=30:\n",
    "        print('MAM')\n",
    "    elif age>=15:\n",
    "        print('YoungMan')\n",
    "    else:\n",
    "        print('Boy')\n",
    "\n",
    "elif gender=='Female':\n",
    "    age=eval(input('enter age:'))\n",
    "    if age>=60:\n",
    "        print(\"ss\")\n",
    "    elif age>=30:\n",
    "        print('MAW')\n",
    "    elif age>=15:\n",
    "        print('YounGirl')\n",
    "    else:\n",
    "        print('Girl')\n",
    "\n",
    "else:\n",
    "    print('enter a valid gender')"
   ]
  },
  {
   "cell_type": "code",
   "execution_count": 17,
   "id": "69ed7793-1589-43d6-860c-f01b9b745f53",
   "metadata": {},
   "outputs": [
    {
     "name": "stdin",
     "output_type": "stream",
     "text": [
      "enter the number: -45\n"
     ]
    },
    {
     "name": "stdout",
     "output_type": "stream",
     "text": [
      "Negative\n"
     ]
    }
   ],
   "source": [
    "# wap ask the user enter a number\n",
    "# if number greater than or equal to zero\n",
    "#     if number>zer0 then print postive\n",
    "#     otherwise print zero\n",
    "# else print negative number\n",
    "\n",
    "number=eval(input('enter the number:'))\n",
    "if number>=0:\n",
    "    if number>0:\n",
    "        print('postive')\n",
    "    else:\n",
    "        print('zero')\n",
    "else:\n",
    "    print('Negative')"
   ]
  },
  {
   "cell_type": "code",
   "execution_count": null,
   "id": "38968ced-7742-4702-96db-063cd2e6592b",
   "metadata": {},
   "outputs": [],
   "source": [
    "# print some statements like below\n",
    "# enter 1 for addition\n",
    "# enter 2 for subtraction\n",
    "# enter 3 for mult\n",
    "# enter 4 for div\n",
    "\n",
    "# wap ask ther enter number between 1to4: operation\n",
    "# if operation==1\n",
    "#   n1=eval()\n",
    "#   n2= eval()\n",
    "#   add=n1+n2\n",
    "#   print(add)\n",
    "\n",
    "# elif oper==2\n",
    "#     subt\n",
    "# elif oper==3\n",
    "#    mul\n",
    "# elif oper=4\n",
    "#   div\n",
    "# else: enter a valid"
   ]
  }
 ],
 "metadata": {
  "kernelspec": {
   "display_name": "Python 3 (ipykernel)",
   "language": "python",
   "name": "python3"
  },
  "language_info": {
   "codemirror_mode": {
    "name": "ipython",
    "version": 3
   },
   "file_extension": ".py",
   "mimetype": "text/x-python",
   "name": "python",
   "nbconvert_exporter": "python",
   "pygments_lexer": "ipython3",
   "version": "3.11.7"
  }
 },
 "nbformat": 4,
 "nbformat_minor": 5
}
